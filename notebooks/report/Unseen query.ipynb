{
 "cells": [
  {
   "cell_type": "markdown",
   "metadata": {},
   "source": [
    "# Analysis on Text-to-Clip_Retrieval results\n",
    "\n",
    "Multilevel Language and Vision Integration for Text-to-Clip Retrieval"
   ]
  },
  {
   "cell_type": "code",
   "execution_count": 8,
   "metadata": {},
   "outputs": [
    {
     "name": "stdout",
     "output_type": "stream",
     "text": [
      "/mnt/sda/otani/Experiments/moment_retrieval\n"
     ]
    }
   ],
   "source": [
    "cd /mnt/sda/otani/Experiments/moment_retrieval/"
   ]
  },
  {
   "cell_type": "code",
   "execution_count": 9,
   "metadata": {},
   "outputs": [],
   "source": [
    "import pandas as pd\n",
    "import numpy as np\n",
    "# from gensim.corpora import Dictionary\n",
    "# from gensim.parsing.preprocessing import preprocess_string\n",
    "# from gensim.parsing.preprocessing import strip_punctuation, stem_text, strip_multiple_whitespaces, remove_stopwords\n",
    "import json\n",
    "import pickle\n",
    "%matplotlib inline\n",
    "import matplotlib.pyplot as plt\n",
    "\n",
    "import spacy\n",
    "nlp = spacy.load(\"en_core_web_sm\")"
   ]
  },
  {
   "cell_type": "code",
   "execution_count": 15,
   "metadata": {},
   "outputs": [],
   "source": [
    "train_df = pd.read_csv('data/processed/train.csv')\n",
    "test_df = pd.read_csv('data/processed/test.csv')"
   ]
  },
  {
   "cell_type": "code",
   "execution_count": 99,
   "metadata": {},
   "outputs": [],
   "source": [
    "# def preprocess_desc(desc):\n",
    "#     CUSTOM_FILTERS = [lambda x: x.lower(), strip_punctuation, strip_multiple_whitespaces, remove_stopwords, stem_text]\n",
    "#     desc = [preprocess_string(s, CUSTOM_FILTERS) for s in desc]\n",
    "#     return desc\n",
    "\n",
    "def preprocess_desc(desc):\n",
    "    processed_desc = []\n",
    "    for d in desc:\n",
    "        tokens = nlp(d)\n",
    "        filtered_token = []\n",
    "        for token in tokens:\n",
    "            if token.text == \"person\":\n",
    "                continue\n",
    "            if token.is_stop:\n",
    "                continue\n",
    "            if token.is_alpha:\n",
    "                filtered_token.append(token.lemma_)\n",
    "        processed_desc.append(filtered_token)\n",
    "    return processed_desc\n",
    "\n",
    "def get_action(desc):\n",
    "    actions = []\n",
    "    for d in desc:\n",
    "        tokens = nlp(d)\n",
    "        for token in tokens:\n",
    "            if token.is_stop:\n",
    "                continue\n",
    "            if token.tag_[:2] == 'VB':\n",
    "                actions.append(token.lemma_)\n",
    "    return actions\n",
    "\n",
    "def build_dict(descriptions):\n",
    "    desc = preprocess_desc(descriptions)\n",
    "    dictionary = Dictionary(desc)\n",
    "    dictionary.compactify()\n",
    "    return dictionary\n",
    "\n",
    "\n",
    "# dictionary = build_dict(train_df['description'])"
   ]
  },
  {
   "cell_type": "code",
   "execution_count": 60,
   "metadata": {},
   "outputs": [],
   "source": [
    "train_desc = preprocess_desc(train_df['description'])\n",
    "test_desc = preprocess_desc(test_df['description'])\n",
    "# train_desc_ids = [np.asarray(dictionary.doc2idx(x)) for x in train_desc]\n",
    "# test_desc_ids = [np.asarray(dictionary.doc2idx(x)) for x in test_desc]"
   ]
  },
  {
   "cell_type": "code",
   "execution_count": 64,
   "metadata": {},
   "outputs": [],
   "source": [
    "seen_count = 0\n",
    "unseen_test = []\n",
    "for i, d in enumerate(test_desc):\n",
    "    is_seen = False\n",
    "    for t in train_desc:\n",
    "        if d == t:\n",
    "            seen_count += 1\n",
    "            is_seen = True\n",
    "            break\n",
    "    if not is_seen:\n",
    "        unseen_test.append(i)\n",
    "        \n",
    "unseen_test_df = test_df.iloc[unseen_test]"
   ]
  },
  {
   "cell_type": "code",
   "execution_count": 68,
   "metadata": {},
   "outputs": [],
   "source": [
    "def _tiou(pred, gt):\n",
    "    inter_left = np.maximum(pred[:,0], gt[0])\n",
    "    inter_right = np.minimum(pred[:,1], gt[1])\n",
    "    inter = np.maximum(0.0, inter_right - inter_left)\n",
    "    union_left = np.minimum(pred[:,0], gt[0])\n",
    "    union_right = np.maximum(pred[:,1], gt[1])\n",
    "    union = np.maximum(0.0, union_right - union_left)\n",
    "    return 1.0 * inter / union\n",
    "\n",
    "def _nms(dets, scores, thresh=0.4):\n",
    "    \"\"\"Pure Python NMS baseline.\"\"\"\n",
    "    if len(dets) == 0: return []\n",
    "    x1 = dets[:, 0]\n",
    "    x2 = dets[:, 1]\n",
    "    scores = scores\n",
    "    lengths = x2 - x1\n",
    "    order = scores.argsort()[::-1]\n",
    "    keep = []\n",
    "    while order.size > 0:\n",
    "        i = order[0]\n",
    "        keep.append(i)\n",
    "        xx1 = np.maximum(x1[i], x1[order[1:]])\n",
    "        xx2 = np.minimum(x2[i], x2[order[1:]])\n",
    "        inter = np.maximum(0.0, xx2 - xx1)\n",
    "        ovr = inter / (lengths[i] + lengths[order[1:]] - inter)\n",
    "        inds = np.where(ovr <= thresh)[0]\n",
    "        order = order[inds + 1]\n",
    "    return keep\n",
    "\n",
    "def computer_eval(preds, gts, iou_thresh=0.5, nms_thresh=0.1, recall=[1]):\n",
    "    results = {}\n",
    "    for key, val in preds.items():\n",
    "        queries = val[0]['query']\n",
    "        gt_key = key\n",
    "        gt = gts[gt_key]\n",
    "        proposals = np.empty((0,2))\n",
    "        scores = np.empty((queries.shape[0], 0))\n",
    "\n",
    "        for item in val:\n",
    "            proposals = np.vstack((proposals, item['timestamp'][:,:2]))\n",
    "            scores = np.hstack((scores, item['sim_scores']))\n",
    "\n",
    "        recall_queries = []\n",
    "        for i,q in enumerate(queries):\n",
    "            keep = _nms(proposals, scores[i], thresh=nms_thresh-0.05)[:max(recall)]\n",
    "            gt_win = gt['timestamps'][i]\n",
    "            pred_win = proposals[keep]\n",
    "            overlap = _tiou(pred_win, gt_win)\n",
    "            recall_queries.append([(overlap > iou_thresh)[:d].any() for d in recall])\n",
    "        results[gt_key] = recall_queries\n",
    "        \n",
    "    return results"
   ]
  },
  {
   "cell_type": "code",
   "execution_count": 69,
   "metadata": {},
   "outputs": [],
   "source": [
    "preds = pickle.load(open('data/external/sim_iter_5000.p', 'rb'), encoding='latin1')\n",
    "gts = json.load(open('data/external/caption_gt_test.json'))\n",
    "recall_at = [1, 5, 10]\n",
    "results = computer_eval(preds, gts, 0.5, recall_at)"
   ]
  },
  {
   "cell_type": "markdown",
   "metadata": {},
   "source": [
    "# Q1: Does the model generalize to unseen queries?"
   ]
  },
  {
   "cell_type": "code",
   "execution_count": 70,
   "metadata": {},
   "outputs": [],
   "source": [
    "unseen_results = {}\n",
    "seen_results = {}\n",
    "\n",
    "for key, val in preds.items():\n",
    "    val[0]['sentences'] = gts[key]['sentences']\n",
    "\n",
    "for key, val in preds.items():\n",
    "    queries = val[0]['sentences']\n",
    "    unseen_idx = []\n",
    "    seen_idx = []\n",
    "    for i, q in enumerate(queries):\n",
    "        res = unseen_test_df[(unseen_test_df.id == key) & (unseen_test_df.description == q)]\n",
    "        if len(res):\n",
    "            unseen_idx.append(i)\n",
    "        else:\n",
    "            seen_idx.append(i)\n",
    "    \n",
    "    unseen_results[key] = [results[key][i] for i in unseen_idx]\n",
    "    seen_results[key] = [results[key][i] for i in seen_idx]"
   ]
  },
  {
   "cell_type": "code",
   "execution_count": 71,
   "metadata": {},
   "outputs": [
    {
     "name": "stdout",
     "output_type": "stream",
     "text": [
      "Unseen queries\n",
      "r@1: 0.31\n",
      "r@5: 0.73\n",
      "r@10: 0.89\n",
      "Seen queries\n",
      "r@1: 0.34\n",
      "r@5: 0.76\n",
      "r@10: 0.90\n"
     ]
    }
   ],
   "source": [
    "print('Unseen queries')\n",
    "eval_res = []\n",
    "for k, v in unseen_results.items():\n",
    "    eval_res += v\n",
    "eval_res = np.array(eval_res).mean(axis=0)\n",
    "\n",
    "for i in range(len(recall_at)):\n",
    "    print(f\"r@{recall_at[i]}: {eval_res[i]:.2f}\")\n",
    "    \n",
    "print('Seen queries')\n",
    "eval_res = []\n",
    "for k, v in seen_results.items():\n",
    "    eval_res += v\n",
    "eval_res = np.array(eval_res).mean(axis=0)\n",
    "\n",
    "for i in range(len(recall_at)):\n",
    "    print(f\"r@{recall_at[i]}: {eval_res[i]:.2f}\")"
   ]
  },
  {
   "cell_type": "markdown",
   "metadata": {},
   "source": [
    "## Conclusion: The model still achieves comparable performance to seen queries"
   ]
  },
  {
   "cell_type": "markdown",
   "metadata": {},
   "source": [
    "# Q2: What differences are there between success and failure samples?"
   ]
  },
  {
   "cell_type": "code",
   "execution_count": 51,
   "metadata": {},
   "outputs": [],
   "source": [
    "correct = {}\n",
    "incorrect = {}\n",
    "failures = []\n",
    "for k, res in results.items():\n",
    "    for i, v in enumerate(res):\n",
    "        if v.any():\n",
    "            continue\n",
    "            \n",
    "        query = gts[k]['sentences'][i]\n",
    "        gt_timestamp = gts[k]['timestamps'][i]\n",
    "        failures.append({'video': k, 'query': query, 'timestamp':gt_timestamp})"
   ]
  },
  {
   "cell_type": "code",
   "execution_count": 46,
   "metadata": {},
   "outputs": [],
   "source": [
    "def get_results(preds, gts, thresh=0.1, recall=[1]):\n",
    "    results = {}\n",
    "    for key, val in preds.items():\n",
    "        queries = val[0]['query']\n",
    "        gt_key = key\n",
    "        gt = gts[gt_key]\n",
    "        proposals = np.empty((0,2))\n",
    "        scores = np.empty((queries.shape[0], 0))\n",
    "\n",
    "        for item in val:\n",
    "            proposals = np.vstack((proposals, item['timestamp'][:,:2]))\n",
    "            scores = np.hstack((scores, item['sim_scores']))\n",
    "\n",
    "        recall_queries = []\n",
    "        pred_wins = []\n",
    "        for i,q in enumerate(queries):\n",
    "            keep = _nms(proposals, scores[i], thresh=thresh-0.05)[:max(recall)]\n",
    "            gt_win = gt['timestamps'][i]\n",
    "            pred_win = proposals[keep]\n",
    "            overlap = _tiou(pred_win, gt_win)\n",
    "            recall_queries.append([(overlap > thresh)[:d].any() for d in recall])\n",
    "            pred_wins.append(pred_win[:max(recall)])\n",
    "            \n",
    "        results[gt_key] = {\n",
    "            'result': recall_queries,\n",
    "            'sentences': gt['sentences'],\n",
    "            'timestamp': gt['timestamps'],\n",
    "            'pred': pred_wins\n",
    "        }\n",
    "        \n",
    "    return results"
   ]
  },
  {
   "cell_type": "code",
   "execution_count": 47,
   "metadata": {},
   "outputs": [],
   "source": [
    "pred_results = get_results(preds, gts, 0.5, recall_at)"
   ]
  },
  {
   "cell_type": "code",
   "execution_count": 49,
   "metadata": {},
   "outputs": [],
   "source": [
    "success = {}\n",
    "failure = {}\n",
    "for k, v in pred_results.items():\n",
    "    timestamp = v['timestamp']\n",
    "    pred_win = v['pred']\n",
    "    for i, q in enumerate(v['sentences']):\n",
    "        item = {'query': q, 'timestamp': timestamp[i], 'pred': pred_win[i]}\n",
    "        if np.any(v['result'][i]):\n",
    "            # success example\n",
    "            success.setdefault(k, []).append(item)\n",
    "        else:\n",
    "            # failure example\n",
    "            failure.setdefault(k, []).append(item)"
   ]
  },
  {
   "cell_type": "code",
   "execution_count": 66,
   "metadata": {},
   "outputs": [
    {
     "data": {
      "text/plain": [
       "Text(0.5, 1.0, 'failure examples')"
      ]
     },
     "execution_count": 66,
     "metadata": {},
     "output_type": "execute_result"
    },
    {
     "data": {
      "image/png": "[encoded data removed]",
      "text/plain": [
       "<Figure size 432x288 with 2 Axes>"
      ]
     },
     "metadata": {
      "needs_background": "light"
     },
     "output_type": "display_data"
    }
   ],
   "source": [
    "# Distribution of ground truth temporal windon\n",
    "\n",
    "from scipy.stats import gaussian_kde\n",
    "\n",
    "t_wins = []\n",
    "for k, values in failure.items():\n",
    "    duration = test_df[test_df.id==k].length.values[0]\n",
    "    t_wins += [np.asarray(v['timestamp'])/duration for v in values]\n",
    "    \n",
    "t_wins = np.vstack(t_wins)\n",
    "t_wins[:,-1]=t_wins[:,1]-t_wins[:,0] \n",
    "start = t_wins[:,0]\n",
    "duration = t_wins[:,1]\n",
    "\n",
    "kernel = gaussian_kde(np.vstack([start, duration]))\n",
    "X, Y = np.mgrid[0:1:100j, 0:1:100j]\n",
    "positions = np.vstack([X.ravel(), Y.ravel()])\n",
    "Z = np.reshape(kernel(positions).T, X.shape)\n",
    "plt.imshow(np.rot90(Z), cmap=plt.cm.gist_earth_r, extent=[0, 1, 0, 1])\n",
    "plt.colorbar()\n",
    "plt.title('failure examples')"
   ]
  },
  {
   "cell_type": "code",
   "execution_count": 75,
   "metadata": {},
   "outputs": [
    {
     "data": {
      "text/plain": [
       "Text(0.5, 1.0, 'whole samples')"
      ]
     },
     "execution_count": 75,
     "metadata": {},
     "output_type": "execute_result"
    },
    {
     "data": {
      "image/png": "[encoded data removed]",
      "text/plain": [
       "<Figure size 432x288 with 2 Axes>"
      ]
     },
     "metadata": {
      "needs_background": "light"
     },
     "output_type": "display_data"
    }
   ],
   "source": [
    "t_wins = []\n",
    "for k, values in pred_results.items():\n",
    "    duration = test_df[test_df.id==k].length.values[0]\n",
    "    t_wins.append(np.asarray(values['timestamp']) / duration)\n",
    "    \n",
    "t_wins = np.vstack(t_wins)\n",
    "t_wins[:,-1]=t_wins[:,1]-t_wins[:,0] \n",
    "start = t_wins[:,0]\n",
    "duration = t_wins[:,1]\n",
    "\n",
    "kernel = gaussian_kde(np.vstack([start, duration]))\n",
    "X, Y = np.mgrid[0:1:100j, 0:1:100j]\n",
    "positions = np.vstack([X.ravel(), Y.ravel()])\n",
    "Z = np.reshape(kernel(positions).T, X.shape)\n",
    "plt.imshow(np.rot90(Z), cmap=plt.cm.gist_earth_r, extent=[0, 1, 0, 1])\n",
    "plt.colorbar()\n",
    "plt.title('whole samples')"
   ]
  },
  {
   "cell_type": "code",
   "execution_count": 162,
   "metadata": {},
   "outputs": [
    {
     "name": "stdout",
     "output_type": "stream",
     "text": [
      "the person takes out their phone.\n",
      "[34.0, 39.0]\n",
      "[[23.1036911  32.11021805]\n",
      " [16.83517075 28.44540977]\n",
      " [27.27386284 33.9145546 ]]\n"
     ]
    },
    {
     "data": {
      "text/html": [
       "<video src=\"http://localhost:8888/files/data/raw/video/HXUI5.mp4\" controls  >\n",
       "      Your browser does not support the <code>video</code> element.\n",
       "    </video>"
      ],
      "text/plain": [
       "<IPython.core.display.Video object>"
      ]
     },
     "execution_count": 162,
     "metadata": {},
     "output_type": "execute_result"
    }
   ],
   "source": [
    "from IPython.display import Video\n",
    "\n",
    "video_id = random.choice(list(failure.keys()))\n",
    "q = failure[video_id][0]['query']\n",
    "ts = failure[video_id][0]['timestamp']\n",
    "pred = failure[video_id][0]['pred']\n",
    "\n",
    "print(q)\n",
    "print(ts)\n",
    "print(pred[:3])\n",
    "Video(f'http://localhost:8888/files/data/raw/video/{video_id}.mp4')"
   ]
  },
  {
   "cell_type": "markdown",
   "metadata": {},
   "source": [
    "# Results:\n",
    "\n",
    "## Fails when a target moment has low prior\n",
    "The model fails when ground truth moments start at a point close to the end of the video.\n",
    "\n",
    "How can the model generalize to such samples?\n",
    "\n",
    "- downsampling\n",
    "- ???\n",
    "\n",
    "## Many failure predictions seem to be fair\n",
    "Many samples' Temporal IoU is slightly below 0.5.\n",
    "\n",
    "R@K with IoU thresholding may be too strict"
   ]
  },
  {
   "cell_type": "code",
   "execution_count": 125,
   "metadata": {},
   "outputs": [
    {
     "data": {
      "text/plain": [
       "Text(0.5, 1.0, 'Maximum IoU of top 10 predictions (success)')"
      ]
     },
     "execution_count": 125,
     "metadata": {},
     "output_type": "execute_result"
    },
    {
     "data": {
      "image/png": "[encoded data removed]",
      "text/plain": [
       "<Figure size 864x288 with 2 Axes>"
      ]
     },
     "metadata": {
      "needs_background": "light"
     },
     "output_type": "display_data"
    }
   ],
   "source": [
    "f, axes = plt.subplots(1, 2, sharey=True, figsize=(12, 4))\n",
    "\n",
    "iou_scores = []\n",
    "for k, item in failure.items():\n",
    "    for x in item:\n",
    "        pred = x['pred']\n",
    "        ts = x['timestamp']\n",
    "        iou_scores.append(_tiou(pred, ts).max())\n",
    "        \n",
    "axes[0].hist(iou_scores, bins=30)\n",
    "axes[0].set_title('Maximum IoU of top 10 predictions (failure)')\n",
    "\n",
    "iou_scores = []\n",
    "for k, item in success.items():\n",
    "    for x in item:\n",
    "        pred = x['pred']\n",
    "        ts = x['timestamp']\n",
    "        iou_scores.append(_tiou(pred, ts).max())\n",
    "        \n",
    "axes[1].hist(iou_scores, bins=30)\n",
    "axes[1].set_title('Maximum IoU of top 10 predictions (success)')"
   ]
  },
  {
   "cell_type": "markdown",
   "metadata": {},
   "source": [
    "# Video duration?\n",
    "The authro implementation truncate the video to 768 frames (5fps) == 153.6 sec."
   ]
  },
  {
   "cell_type": "code",
   "execution_count": 148,
   "metadata": {},
   "outputs": [
    {
     "data": {
      "text/plain": [
       "Text(0.5, 1.0, 'Failure')"
      ]
     },
     "execution_count": 148,
     "metadata": {},
     "output_type": "execute_result"
    },
    {
     "data": {
      "image/png": "[encoded data removed]",
      "text/plain": [
       "<Figure size 720x288 with 2 Axes>"
      ]
     },
     "metadata": {
      "needs_background": "light"
     },
     "output_type": "display_data"
    }
   ],
   "source": [
    "f, axes = plt.subplots(1, 2, figsize=(10,4))\n",
    "\n",
    "durations = []\n",
    "for video_id in success.keys():\n",
    "    durations.append(test_df[test_df.id == video_id]['length'].values[0])\n",
    "\n",
    "axes[0].hist(durations, bins=30)\n",
    "axes[0].set_title('Success')\n",
    "\n",
    "durations = []\n",
    "for video_id in failure.keys():\n",
    "    durations.append(test_df[test_df.id == video_id]['length'].values[0])\n",
    "\n",
    "axes[1].hist(durations, bins=30)\n",
    "axes[1].set_title('Failure')"
   ]
  },
  {
   "cell_type": "markdown",
   "metadata": {},
   "source": [
    "# Caption length?"
   ]
  },
  {
   "cell_type": "code",
   "execution_count": 150,
   "metadata": {},
   "outputs": [
    {
     "data": {
      "text/plain": [
       "Text(0.5, 1.0, 'Failure')"
      ]
     },
     "execution_count": 150,
     "metadata": {},
     "output_type": "execute_result"
    },
    {
     "data": {
      "image/png": "[encoded data removed]",
      "text/plain": [
       "<Figure size 720x288 with 2 Axes>"
      ]
     },
     "metadata": {
      "needs_background": "light"
     },
     "output_type": "display_data"
    }
   ],
   "source": [
    "f, axes = plt.subplots(1, 2, figsize=(10,4), sharex=True)\n",
    "\n",
    "query_len = []\n",
    "for _, items in success.items():\n",
    "    for item in items:\n",
    "        n_q = len(item['query'].split())\n",
    "        query_len.append(n_q)\n",
    "        \n",
    "axes[0].hist(query_len, bins=30)\n",
    "axes[0].set_title('Success')\n",
    "\n",
    "query_len = []\n",
    "for _, items in failure.items():\n",
    "    for item in items:\n",
    "        n_q = len(item['query'].split())\n",
    "        query_len.append(n_q)\n",
    "        \n",
    "axes[1].hist(query_len, bins=30)\n",
    "axes[1].set_title('Failure')"
   ]
  },
  {
   "cell_type": "code",
   "execution_count": 154,
   "metadata": {},
   "outputs": [],
   "source": [
    "s_queries = []\n",
    "for _, items in success.items():\n",
    "    for item in items:\n",
    "        q = item['query']\n",
    "        s_queries.append(q)\n",
    "\n",
    "f_queries = []\n",
    "for _, items in failure.items():\n",
    "    for item in items:\n",
    "        q = item['query']\n",
    "        f_queries.append(q)"
   ]
  },
  {
   "cell_type": "code",
   "execution_count": 155,
   "metadata": {},
   "outputs": [
    {
     "data": {
      "text/plain": [
       "['person turn a light on.',\n",
       " 'person flipped the light switch near the door.',\n",
       " 'person turn the light switch on.',\n",
       " 'person is playing with the switch for the light.',\n",
       " 'a person sits down reading a book.',\n",
       " 'a person sits at a table reading a book intensely.',\n",
       " 'the person puts down the bag.',\n",
       " 'person they open a cabinet.',\n",
       " 'person opens the door.',\n",
       " 'person opened a cabinet door.',\n",
       " 'a person walks through the doorway.',\n",
       " 'a person opens the door.',\n",
       " 'person closes the door.',\n",
       " 'person closing the door.',\n",
       " 'person runs up the stairs.',\n",
       " 'a person watches another run up some stairs.',\n",
       " 'person puts the cup on a table.',\n",
       " 'person drank from the glass,put the glass down.',\n",
       " 'person he eats something out of his hand.',\n",
       " 'a person is eating a snack.',\n",
       " 'person runs to the window to look out.',\n",
       " 'a person sits in a chair.',\n",
       " 'person runs to the window.',\n",
       " 'person runs to the door.',\n",
       " 'a person sits on a chair.',\n",
       " 'the person sits in the chair momentarily.',\n",
       " 'this person puts the pillow down.',\n",
       " 'person puts the pillow down.',\n",
       " 'a person stands in the bathroom holding a glass.',\n",
       " 'the person takes a bag from the bottom cabinet.']"
      ]
     },
     "execution_count": 155,
     "metadata": {},
     "output_type": "execute_result"
    }
   ],
   "source": [
    "s_queries[:30]"
   ]
  },
  {
   "cell_type": "code",
   "execution_count": 156,
   "metadata": {},
   "outputs": [
    {
     "data": {
      "text/plain": [
       "['takes a box from the other person.',\n",
       " 'a person awakens in their sofa.',\n",
       " 'person takes a drink from a coffee cup.',\n",
       " 'the person opens the bag.',\n",
       " 'person is lying on bed sneezing.',\n",
       " 'person drinking from a cup.',\n",
       " 'person drinking from a glass.',\n",
       " 'person sits on the table.',\n",
       " 'person puts the shoes on the floor.',\n",
       " 'person takes a drink from a glass.',\n",
       " 'person sitting on the floor.',\n",
       " 'person sit down in a chair.',\n",
       " 'person sits in a chair.',\n",
       " 'person sit in a chair.',\n",
       " 'person they close the box.',\n",
       " \"the person closes a box that's been searched through.\",\n",
       " 'person open a cabinet door.',\n",
       " 'person their phone rings so they close the fridge door.',\n",
       " 'person working on a laptop.',\n",
       " 'person drinking out of a cup.',\n",
       " 'the person is holding a cup.',\n",
       " 'a person is eating.',\n",
       " 'person awakening.',\n",
       " 'person drinking from a glass of water.',\n",
       " 'person removes a snack to eat.',\n",
       " 'the person is closing the door.',\n",
       " 'the person fixes some messy homework papers on the table.',\n",
       " 'person walk out the doorway.',\n",
       " 'a person is looking out the window.',\n",
       " 'a person is tidying some books on a shelf.']"
      ]
     },
     "execution_count": 156,
     "metadata": {},
     "output_type": "execute_result"
    }
   ],
   "source": [
    "f_queries[:30]"
   ]
  },
  {
   "cell_type": "markdown",
   "metadata": {},
   "source": [
    "# Meeting Note\n",
    "\n",
    "- なぜ失敗例は後半に来るのか？後半のアクションのうち何％が失敗するか調べる。\n",
    "- action, nounのリストを確認する\n",
    "- video representation試す（scene graph, convolutional LSTM, ...）\n",
    "\n",
    "paper list:\n",
    "\n",
    "- https://arxiv.org/abs/1908.03706\n",
    "- https://arxiv.org/abs/1912.06430\n",
    "- https://arxiv.org/pdf/1904.03498.pdf\n",
    "- https://arxiv.org/pdf/1904.01766.pdf\n"
   ]
  },
  {
   "cell_type": "markdown",
   "metadata": {},
   "source": [
    "# Detailed evaluation for different queries"
   ]
  },
  {
   "cell_type": "code",
   "execution_count": 100,
   "metadata": {},
   "outputs": [],
   "source": [
    "result_per_action = {}\n",
    "for key, res in results.items():\n",
    "    actions = get_action(preds[key][0][\"sentences\"])\n",
    "    for a, r in zip(actions, res):\n",
    "        result_per_action.setdefault(a, []).append(r[0])"
   ]
  },
  {
   "cell_type": "code",
   "execution_count": 139,
   "metadata": {},
   "outputs": [
    {
     "data": {
      "text/plain": [
       "(0, 1)"
      ]
     },
     "execution_count": 139,
     "metadata": {},
     "output_type": "execute_result"
    },
    {
     "data": {
      "image/png": "[encoded data removed]",
      "text/plain": [
       "<Figure size 1800x360 with 2 Axes>"
      ]
     },
     "metadata": {
      "needs_background": "light"
     },
     "output_type": "display_data"
    }
   ],
   "source": [
    "result_per_top_action = {}\n",
    "for k, v in result_per_action.items():\n",
    "    if len(v) > 10:\n",
    "        result_per_top_action[k] = v\n",
    "\n",
    "order = np.argsort([np.mean(v) for v in result_per_top_action.values()])[::-1]\n",
    "keys = list(result_per_top_action.keys())\n",
    "values = list(result_per_top_action.values())\n",
    "keys = [keys[i] for i in order]\n",
    "values = [values[i] for i in order]\n",
    "\n",
    "\n",
    "n = len(keys)\n",
    "\n",
    "fig, ax1 = plt.subplots(figsize=(25, 5))\n",
    "_ = plt.xticks(np.arange(n), keys, rotation=45, fontsize=18)\n",
    "\n",
    "ax1.bar(np.arange(n), [len(v) for v in values], color=\"coral\", alpha=.7)\n",
    "ax1.bar(np.arange(n), [sum(v) for v in values], color=\"limegreen\", alpha=1)\n",
    "\n",
    "ax2 = ax1.twinx()\n",
    "ax2.plot(np.arange(n), [np.mean(v) for v in values], color=\"blue\")\n",
    "ax2.set_ylim(0, 1)"
   ]
  },
  {
   "cell_type": "code",
   "execution_count": 126,
   "metadata": {},
   "outputs": [],
   "source": [
    "results = computer_eval(preds, gts, 0.5, recall_at)"
   ]
  },
  {
   "cell_type": "code",
   "execution_count": 129,
   "metadata": {},
   "outputs": [
    {
     "name": "stdout",
     "output_type": "stream",
     "text": [
      "R@1 0.33\n",
      "R@5 0.75\n",
      "R@10 0.9\n"
     ]
    }
   ],
   "source": [
    "res_arr = np.vstack([res for res in results.values()])\n",
    "print(f\"R@1 {res_arr[:, 0].mean():.2}\")\n",
    "print(f\"R@5 {res_arr[:, 1].mean():.2}\")\n",
    "print(f\"R@10 {res_arr[:, 2].mean():.2}\")"
   ]
  },
  {
   "cell_type": "code",
   "execution_count": null,
   "metadata": {},
   "outputs": [],
   "source": []
  }
 ],
 "metadata": {
  "kernelspec": {
   "display_name": "Python 3",
   "language": "python",
   "name": "python3"
  },
  "language_info": {
   "codemirror_mode": {
    "name": "ipython",
    "version": 3
   },
   "file_extension": ".py",
   "mimetype": "text/x-python",
   "name": "python",
   "nbconvert_exporter": "python",
   "pygments_lexer": "ipython3",
   "version": "3.7.3"
  }
 },
 "nbformat": 4,
 "nbformat_minor": 4
}
