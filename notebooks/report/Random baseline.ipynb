{
 "cells": [
  {
   "cell_type": "code",
   "execution_count": 1,
   "metadata": {},
   "outputs": [
    {
     "name": "stderr",
     "output_type": "stream",
     "text": [
      "/home/otani_mayu/miniconda3/envs/py36chainer/lib/python3.6/importlib/_bootstrap.py:219: RuntimeWarning: numpy.dtype size changed, may indicate binary incompatibility. Expected 96, got 88\n",
      "  return f(*args, **kwds)\n",
      "/home/otani_mayu/miniconda3/envs/py36chainer/lib/python3.6/importlib/_bootstrap.py:219: RuntimeWarning: numpy.dtype size changed, may indicate binary incompatibility. Expected 96, got 88\n",
      "  return f(*args, **kwds)\n",
      "/home/otani_mayu/miniconda3/envs/py36chainer/lib/python3.6/importlib/_bootstrap.py:219: RuntimeWarning: numpy.dtype size changed, may indicate binary incompatibility. Expected 96, got 88\n",
      "  return f(*args, **kwds)\n",
      "/home/otani_mayu/miniconda3/envs/py36chainer/lib/python3.6/importlib/_bootstrap.py:219: RuntimeWarning: numpy.dtype size changed, may indicate binary incompatibility. Expected 96, got 88\n",
      "  return f(*args, **kwds)\n"
     ]
    }
   ],
   "source": [
    "# ms-python.python added\n",
    "from sklearn.mixture import GaussianMixture\n",
    "import numpy as np\n",
    "import pandas as pd\n",
    "import seaborn as sns\n",
    "import matplotlib.pyplot as plt\n",
    "from scipy.stats import gaussian_kde\n",
    "import os\n",
    "try:\n",
    "    os.chdir(os.path.join(os.getcwd(), 'notebooks/report'))\n",
    "    print(os.getcwd())\n",
    "except:\n",
    "    pass\n"
   ]
  },
  {
   "cell_type": "code",
   "execution_count": 2,
   "metadata": {},
   "outputs": [],
   "source": [
    "get_ipython().run_line_magic('matplotlib', 'inline')\n",
    "sns.set()"
   ]
  },
  {
   "cell_type": "code",
   "execution_count": 3,
   "metadata": {},
   "outputs": [
    {
     "data": {
      "text/html": [
       "<div>\n",
       "<style scoped>\n",
       "    .dataframe tbody tr th:only-of-type {\n",
       "        vertical-align: middle;\n",
       "    }\n",
       "\n",
       "    .dataframe tbody tr th {\n",
       "        vertical-align: top;\n",
       "    }\n",
       "\n",
       "    .dataframe thead th {\n",
       "        text-align: right;\n",
       "    }\n",
       "</style>\n",
       "<table border=\"1\" class=\"dataframe\">\n",
       "  <thead>\n",
       "    <tr style=\"text-align: right;\">\n",
       "      <th></th>\n",
       "      <th>id</th>\n",
       "      <th>start (sec)</th>\n",
       "      <th>end (sec)</th>\n",
       "      <th>description</th>\n",
       "      <th>length</th>\n",
       "    </tr>\n",
       "  </thead>\n",
       "  <tbody>\n",
       "    <tr>\n",
       "      <th>0</th>\n",
       "      <td>AO8RW</td>\n",
       "      <td>0.0</td>\n",
       "      <td>6.9</td>\n",
       "      <td>a person is putting a book on a shelf.</td>\n",
       "      <td>33.67</td>\n",
       "    </tr>\n",
       "    <tr>\n",
       "      <th>1</th>\n",
       "      <td>Y6R7T</td>\n",
       "      <td>20.8</td>\n",
       "      <td>30.0</td>\n",
       "      <td>person begins to play on a phone.</td>\n",
       "      <td>29.42</td>\n",
       "    </tr>\n",
       "    <tr>\n",
       "      <th>2</th>\n",
       "      <td>Y6R7T</td>\n",
       "      <td>20.8</td>\n",
       "      <td>30.0</td>\n",
       "      <td>person start playing on their phone.</td>\n",
       "      <td>29.42</td>\n",
       "    </tr>\n",
       "    <tr>\n",
       "      <th>3</th>\n",
       "      <td>Y6R7T</td>\n",
       "      <td>7.3</td>\n",
       "      <td>17.3</td>\n",
       "      <td>person pouring it into a glass.</td>\n",
       "      <td>29.42</td>\n",
       "    </tr>\n",
       "    <tr>\n",
       "      <th>4</th>\n",
       "      <td>Y6R7T</td>\n",
       "      <td>7.3</td>\n",
       "      <td>17.3</td>\n",
       "      <td>the person pours some water into the glass.</td>\n",
       "      <td>29.42</td>\n",
       "    </tr>\n",
       "  </tbody>\n",
       "</table>\n",
       "</div>"
      ],
      "text/plain": [
       "      id  start (sec)  end (sec)                                  description  \\\n",
       "0  AO8RW          0.0        6.9       a person is putting a book on a shelf.   \n",
       "1  Y6R7T         20.8       30.0            person begins to play on a phone.   \n",
       "2  Y6R7T         20.8       30.0         person start playing on their phone.   \n",
       "3  Y6R7T          7.3       17.3              person pouring it into a glass.   \n",
       "4  Y6R7T          7.3       17.3  the person pours some water into the glass.   \n",
       "\n",
       "   length  \n",
       "0   33.67  \n",
       "1   29.42  \n",
       "2   29.42  \n",
       "3   29.42  \n",
       "4   29.42  "
      ]
     },
     "execution_count": 3,
     "metadata": {},
     "output_type": "execute_result"
    }
   ],
   "source": [
    "df = pd.read_csv('../../data/processed/train.csv')\n",
    "df.head()"
   ]
  },
  {
   "cell_type": "code",
   "execution_count": 4,
   "metadata": {},
   "outputs": [],
   "source": [
    "# remove miss labeled data\n",
    "\n",
    "indices = np.where(df['end (sec)'] - df['start (sec)'] < 0)\n",
    "df = df.drop(index=indices[0])"
   ]
  },
  {
   "cell_type": "markdown",
   "metadata": {},
   "source": [
    "# Distribution of normalized start and moment duration"
   ]
  },
  {
   "cell_type": "code",
   "execution_count": 5,
   "metadata": {},
   "outputs": [
    {
     "name": "stderr",
     "output_type": "stream",
     "text": [
      "/home/otani_mayu/miniconda3/envs/py36chainer/lib/python3.6/site-packages/scipy/stats/stats.py:1706: FutureWarning: Using a non-tuple sequence for multidimensional indexing is deprecated; use `arr[tuple(seq)]` instead of `arr[seq]`. In the future this will be interpreted as an array index, `arr[np.array(seq)]`, which will result either in an error or a different result.\n",
      "  return np.add.reduce(sorted[indexer] * weights, axis=axis) / sumval\n"
     ]
    },
    {
     "data": {
      "text/plain": [
       "Text(0.5,1,'moment duration')"
      ]
     },
     "execution_count": 5,
     "metadata": {},
     "output_type": "execute_result"
    },
    {
     "data": {
      "image/png": "[encoded data removed]",
      "text/plain": [
       "<Figure size 720x216 with 2 Axes>"
      ]
     },
     "metadata": {},
     "output_type": "display_data"
    }
   ],
   "source": [
    "f, axes = plt.subplots(1, 2, figsize=(10, 3))\n",
    "_ = sns.distplot(df['start (sec)']/df['length'], ax=axes[0])\n",
    "axes[0].set_title('start point')\n",
    "_ = sns.distplot((df['end (sec)'] - df['start (sec)'])/df['length'], ax=axes[1])\n",
    "axes[1].set_title('moment duration')\n"
   ]
  },
  {
   "cell_type": "code",
   "execution_count": 6,
   "metadata": {},
   "outputs": [],
   "source": [
    "df['start (norm)'] = df['start (sec)']/df['length']\n",
    "df['end (norm)'] = df['end (sec)']/df['length']\n",
    "df['moment duration (norm)'] = df['end (norm)'] - df['start (norm)']"
   ]
  },
  {
   "cell_type": "code",
   "execution_count": 191,
   "metadata": {},
   "outputs": [
    {
     "data": {
      "text/plain": [
       "<matplotlib.colorbar.Colorbar at 0x7fbaefe424a8>"
      ]
     },
     "execution_count": 191,
     "metadata": {},
     "output_type": "execute_result"
    },
    {
     "data": {
      "image/png": "[encoded data removed]",
      "text/plain": [
       "<Figure size 432x288 with 2 Axes>"
      ]
     },
     "metadata": {},
     "output_type": "display_data"
    }
   ],
   "source": [
    "start = df['start (norm)'].values\n",
    "duration = df['moment duration (norm)'].values\n",
    "kernel = gaussian_kde(np.vstack([start, duration]))\n",
    "X, Y = np.mgrid[0:1:100j, 0:1:100j]\n",
    "positions = np.vstack([X.ravel(), Y.ravel()])\n",
    "Z = np.reshape(kernel(positions).T, X.shape)\n",
    "plt.imshow(np.rot90(Z), cmap=plt.cm.gist_earth_r, extent=[0, 1, 0, 1])\n",
    "plt.colorbar()"
   ]
  },
  {
   "cell_type": "markdown",
   "metadata": {},
   "source": [
    " # Candidate moment proposal\n",
    "\n",
    " momentのstart timeとdurationの確率密度関数をカーネル密度推定してランダムにサンプリングする\n",
    " \n",
    " サンプリングしたmomentを確率密度関数の値でランキングする"
   ]
  },
  {
   "cell_type": "code",
   "execution_count": 239,
   "metadata": {},
   "outputs": [],
   "source": [
    "class SegmentGeneratorKDE(object):\n",
    "    def __init__(self):\n",
    "        self.kernel = None\n",
    "\n",
    "    def fit(self, df):\n",
    "        start = df['start (norm)'].values\n",
    "        duration = df['moment duration (norm)'].values\n",
    "        self.kernel = gaussian_kde(np.vstack([start, duration]))\n",
    "        self.start_max = df['start (norm)'].max()\n",
    "        self.duration_min = df['moment duration (norm)'].min()\n",
    "\n",
    "    def sample(self, n):\n",
    "        samples = self.kernel.resample(n)\n",
    "        likelifood = self.kernel(samples)\n",
    "        \n",
    "        start = samples[0, :]\n",
    "        duration = samples[1, :]\n",
    "        \n",
    "        start = np.clip(start, 0, self.start_max)\n",
    "        duration = np.clip(duration, self.duration_min, None)\n",
    "        \n",
    "        duration = np.min(np.vstack([duration, 1 - start]), axis=0)\n",
    "        \n",
    "        samples = np.hstack([start[:, None], duration[:, None]])\n",
    "        \n",
    "        return samples, likelifood"
   ]
  },
  {
   "cell_type": "code",
   "execution_count": 240,
   "metadata": {},
   "outputs": [
    {
     "name": "stderr",
     "output_type": "stream",
     "text": [
      "/home/otani_mayu/miniconda3/envs/py36chainer/lib/python3.6/site-packages/scipy/stats/stats.py:1706: FutureWarning: Using a non-tuple sequence for multidimensional indexing is deprecated; use `arr[tuple(seq)]` instead of `arr[seq]`. In the future this will be interpreted as an array index, `arr[np.array(seq)]`, which will result either in an error or a different result.\n",
      "  return np.add.reduce(sorted[indexer] * weights, axis=axis) / sumval\n"
     ]
    },
    {
     "data": {
      "text/plain": [
       "Text(0.5,1,'moment duration (sampled)')"
      ]
     },
     "execution_count": 240,
     "metadata": {},
     "output_type": "execute_result"
    },
    {
     "data": {
      "image/png": "[encoded data removed]",
      "text/plain": [
       "<Figure size 720x216 with 2 Axes>"
      ]
     },
     "metadata": {},
     "output_type": "display_data"
    }
   ],
   "source": [
    "sg = SegmentGeneratorKDE()\n",
    "sg.fit(df)\n",
    "\n",
    "samples, _ = sg.sample(5000)\n",
    "samples = np.asarray(samples)\n",
    "\n",
    "f, axes = plt.subplots(1, 2, figsize=(10, 3))\n",
    "sns.distplot(samples[:, 0], bins=30, ax=axes[0])\n",
    "axes[0].set_title(\"start time (sampled)\")\n",
    "\n",
    "sns.distplot(samples[:, 1], bins=30, ax=axes[1])\n",
    "axes[1].set_title(\"moment duration (sampled)\")\n"
   ]
  },
  {
   "cell_type": "markdown",
   "metadata": {},
   "source": [
    " だいたいtraining setの分布をmimicできてるっぽい"
   ]
  },
  {
   "cell_type": "markdown",
   "metadata": {},
   "source": [
    " # Baseline by random segment sampling"
   ]
  },
  {
   "cell_type": "code",
   "execution_count": 241,
   "metadata": {},
   "outputs": [],
   "source": [
    "\n",
    "\n",
    "def iou(pred_s, pred_e, true_s, true_e):\n",
    "    assert pred_s < pred_e, \"predicted value invalid\"\n",
    "    assert true_s < true_e, \"true value invalid\"\n",
    "\n",
    "    union = min(pred_s, true_s), max(pred_e, true_e)\n",
    "    intersection = max(pred_s, true_s), min(pred_e, true_e)\n",
    "\n",
    "    if intersection[0] > intersection[1]:\n",
    "        return 0\n",
    "\n",
    "    iou_val = (intersection[1] - intersection[0]) / (union[1] - union[0])\n",
    "    return iou_val\n",
    "\n"
   ]
  },
  {
   "cell_type": "code",
   "execution_count": 242,
   "metadata": {},
   "outputs": [
    {
     "data": {
      "text/html": [
       "<div>\n",
       "<style scoped>\n",
       "    .dataframe tbody tr th:only-of-type {\n",
       "        vertical-align: middle;\n",
       "    }\n",
       "\n",
       "    .dataframe tbody tr th {\n",
       "        vertical-align: top;\n",
       "    }\n",
       "\n",
       "    .dataframe thead th {\n",
       "        text-align: right;\n",
       "    }\n",
       "</style>\n",
       "<table border=\"1\" class=\"dataframe\">\n",
       "  <thead>\n",
       "    <tr style=\"text-align: right;\">\n",
       "      <th></th>\n",
       "      <th>id</th>\n",
       "      <th>start (sec)</th>\n",
       "      <th>end (sec)</th>\n",
       "      <th>description</th>\n",
       "      <th>length</th>\n",
       "    </tr>\n",
       "  </thead>\n",
       "  <tbody>\n",
       "    <tr>\n",
       "      <th>0</th>\n",
       "      <td>3MSZA</td>\n",
       "      <td>24.3</td>\n",
       "      <td>30.4</td>\n",
       "      <td>person turn a light on.</td>\n",
       "      <td>30.96</td>\n",
       "    </tr>\n",
       "    <tr>\n",
       "      <th>1</th>\n",
       "      <td>3MSZA</td>\n",
       "      <td>24.3</td>\n",
       "      <td>30.4</td>\n",
       "      <td>person flipped the light switch near the door.</td>\n",
       "      <td>30.96</td>\n",
       "    </tr>\n",
       "    <tr>\n",
       "      <th>2</th>\n",
       "      <td>3MSZA</td>\n",
       "      <td>24.3</td>\n",
       "      <td>30.4</td>\n",
       "      <td>person turn the light switch on.</td>\n",
       "      <td>30.96</td>\n",
       "    </tr>\n",
       "    <tr>\n",
       "      <th>3</th>\n",
       "      <td>3MSZA</td>\n",
       "      <td>24.3</td>\n",
       "      <td>30.4</td>\n",
       "      <td>person is playing with the switch for the light.</td>\n",
       "      <td>30.96</td>\n",
       "    </tr>\n",
       "    <tr>\n",
       "      <th>4</th>\n",
       "      <td>AMT7R</td>\n",
       "      <td>4.3</td>\n",
       "      <td>12.5</td>\n",
       "      <td>a person is putting a picture onto the wall.</td>\n",
       "      <td>30.08</td>\n",
       "    </tr>\n",
       "  </tbody>\n",
       "</table>\n",
       "</div>"
      ],
      "text/plain": [
       "      id  start (sec)  end (sec)  \\\n",
       "0  3MSZA         24.3       30.4   \n",
       "1  3MSZA         24.3       30.4   \n",
       "2  3MSZA         24.3       30.4   \n",
       "3  3MSZA         24.3       30.4   \n",
       "4  AMT7R          4.3       12.5   \n",
       "\n",
       "                                        description  length  \n",
       "0                           person turn a light on.   30.96  \n",
       "1    person flipped the light switch near the door.   30.96  \n",
       "2                  person turn the light switch on.   30.96  \n",
       "3  person is playing with the switch for the light.   30.96  \n",
       "4      a person is putting a picture onto the wall.   30.08  "
      ]
     },
     "execution_count": 242,
     "metadata": {},
     "output_type": "execute_result"
    }
   ],
   "source": [
    "test_df = pd.read_csv('../../data/processed/test.csv')\n",
    "test_df.head()"
   ]
  },
  {
   "cell_type": "code",
   "execution_count": 243,
   "metadata": {},
   "outputs": [
    {
     "name": "stdout",
     "output_type": "stream",
     "text": [
      "R@1 IoU>.5: 20.46\n",
      "R@1 IoU>.7: 7.55\n",
      "R@5 IoU>.5: 58.09\n",
      "R@5 IoU>.7: 26.69\n"
     ]
    }
   ],
   "source": [
    "pred, val = sg.sample(len(test_df)*5)\n",
    "pred[:, 1] = pred[:, 0] + pred[:, 1]  # convert (start, duration) -> (start, end)\n",
    "pred *= np.repeat(test_df['length'].values.reshape(-1, 1), 5)[:, None] # original scale (sec.)\n",
    "\n",
    "pred = np.split(pred, len(test_df))\n",
    "val = np.split(val, len(test_df))\n",
    "\n",
    "gt = test_df[['start (sec)', 'end (sec)']].values\n",
    "\n",
    "# compute R@1\n",
    "\n",
    "res = []\n",
    "for p_item, v_item, gt_item in zip(pred, val, gt):\n",
    "    top_1 = p_item[np.argmax(v_item)]\n",
    "    iou_val = iou(top_1[0], top_1[1], gt_item[0], gt_item[1])\n",
    "    res.append(iou_val)\n",
    "    \n",
    "print(\"R@1 IoU>.5: %.2f\" % ((np.asarray(res) > 0.5).mean()*100))\n",
    "print(\"R@1 IoU>.7: %.2f\" % ((np.asarray(res) > 0.7).mean()*100))\n",
    "\n",
    "# compute R@5\n",
    "\n",
    "res = []\n",
    "for p_item, gt_item in zip(pred, gt):\n",
    "    iou_val = max([iou(p_item[j, 0], p_item[j, 1], gt_item[0], gt_item[1]) for j in range(5)])\n",
    "    res.append(iou_val)\n",
    "\n",
    "print(\"R@5 IoU>.5: %.2f\" % ((np.asarray(res) > 0.5).mean()*100))\n",
    "print(\"R@5 IoU>.7: %.2f\" % ((np.asarray(res) > 0.7).mean()*100))"
   ]
  },
  {
   "cell_type": "code",
   "execution_count": 229,
   "metadata": {},
   "outputs": [],
   "source": [
    "results = {\n",
    "    'R@1 IoU>.5': [],\n",
    "    'R@1 IoU>.7': [],\n",
    "    'R@5 IoU>.5': [],\n",
    "    'R@5 IoU>.7': [],\n",
    "}\n",
    "\n",
    "for _ in range(100):\n",
    "    \n",
    "    pred, val = sg.sample(len(test_df)*5)\n",
    "    pred[:, 1] = pred[:, 0] + pred[:, 1]  # convert (start, duration) -> (start, end)\n",
    "    pred *= np.repeat(test_df['length'].values.reshape(-1, 1), 5)[:, None] # original scale (sec.)\n",
    "\n",
    "    pred = np.split(pred, len(test_df))\n",
    "    val = np.split(val, len(test_df))\n",
    "\n",
    "    gt = test_df[['start (sec)', 'end (sec)']].values\n",
    "\n",
    "    # compute R@1\n",
    "\n",
    "    res = []\n",
    "    for p_item, v_item, gt_item in zip(pred, val, gt):\n",
    "        top_1 = p_item[np.argmax(v_item)]\n",
    "        iou_val = iou(top_1[0], top_1[1], gt_item[0], gt_item[1])\n",
    "        res.append(iou_val)\n",
    "\n",
    "    results['R@1 IoU>.5'].append((np.asarray(res) > 0.5).mean()*100)\n",
    "    results['R@1 IoU>.7'].append((np.asarray(res) > 0.7).mean()*100)\n",
    "    \n",
    "    # compute R@5\n",
    "\n",
    "    res = []\n",
    "    for p_item, gt_item in zip(pred, gt):\n",
    "        iou_val = max([iou(p_item[j, 0], p_item[j, 1], gt_item[0], gt_item[1]) for j in range(5)])\n",
    "        res.append(iou_val)\n",
    "    \n",
    "    results['R@5 IoU>.5'].append((np.asarray(res) > 0.5).mean()*100)\n",
    "    results['R@5 IoU>.7'].append((np.asarray(res) > 0.7).mean()*100)"
   ]
  },
  {
   "cell_type": "code",
   "execution_count": 230,
   "metadata": {},
   "outputs": [
    {
     "name": "stderr",
     "output_type": "stream",
     "text": [
      "/home/otani_mayu/miniconda3/envs/py36chainer/lib/python3.6/site-packages/scipy/stats/stats.py:1706: FutureWarning: Using a non-tuple sequence for multidimensional indexing is deprecated; use `arr[tuple(seq)]` instead of `arr[seq]`. In the future this will be interpreted as an array index, `arr[np.array(seq)]`, which will result either in an error or a different result.\n",
      "  return np.add.reduce(sorted[indexer] * weights, axis=axis) / sumval\n"
     ]
    },
    {
     "data": {
      "text/plain": [
       "<matplotlib.axes._subplots.AxesSubplot at 0x7fbaeee83748>"
      ]
     },
     "execution_count": 230,
     "metadata": {},
     "output_type": "execute_result"
    },
    {
     "data": {
      "image/png": "[encoded data removed]",
      "text/plain": [
       "<Figure size 432x288 with 1 Axes>"
      ]
     },
     "metadata": {},
     "output_type": "display_data"
    }
   ],
   "source": [
    "sns.barplot(data=pd.DataFrame(results), ci=100.)"
   ]
  },
  {
   "cell_type": "code",
   "execution_count": 232,
   "metadata": {},
   "outputs": [
    {
     "data": {
      "text/plain": [
       "R@1 IoU>.5    19.247312\n",
       "R@1 IoU>.7     7.123656\n",
       "R@5 IoU>.5    56.693548\n",
       "R@5 IoU>.7    24.838710\n",
       "dtype: float64"
      ]
     },
     "execution_count": 232,
     "metadata": {},
     "output_type": "execute_result"
    }
   ],
   "source": [
    "pd.DataFrame(results).min()"
   ]
  },
  {
   "cell_type": "code",
   "execution_count": 233,
   "metadata": {},
   "outputs": [
    {
     "data": {
      "text/plain": [
       "R@1 IoU>.5    20.719624\n",
       "R@1 IoU>.7     8.048925\n",
       "R@5 IoU>.5    58.080108\n",
       "R@5 IoU>.7    26.836290\n",
       "dtype: float64"
      ]
     },
     "execution_count": 233,
     "metadata": {},
     "output_type": "execute_result"
    }
   ],
   "source": [
    "pd.DataFrame(results).mean()"
   ]
  },
  {
   "cell_type": "code",
   "execution_count": 234,
   "metadata": {},
   "outputs": [
    {
     "data": {
      "text/plain": [
       "R@1 IoU>.5    22.204301\n",
       "R@1 IoU>.7     9.193548\n",
       "R@5 IoU>.5    60.000000\n",
       "R@5 IoU>.7    28.817204\n",
       "dtype: float64"
      ]
     },
     "execution_count": 234,
     "metadata": {},
     "output_type": "execute_result"
    }
   ],
   "source": [
    "pd.DataFrame(results).max()"
   ]
  },
  {
   "cell_type": "code",
   "execution_count": 238,
   "metadata": {},
   "outputs": [
    {
     "name": "stdout",
     "output_type": "stream",
     "text": [
      "max iou: 0.5\n"
     ]
    },
    {
     "data": {
      "image/png": "[encoded data removed]",
      "text/plain": [
       "<Figure size 720x144 with 1 Axes>"
      ]
     },
     "metadata": {},
     "output_type": "display_data"
    }
   ],
   "source": [
    "# show example\n",
    "i = np.random.randint(len(test_df))\n",
    "true_s, true_e = gt[i]\n",
    "l = test_df['length'][i]\n",
    "plt.figure(figsize=(10, 2))\n",
    "plt.axhline(0.1, true_s/l, true_e/l, color='m')\n",
    "plt.xlim((0, 1))\n",
    "plt.ylim((0, .75))\n",
    "\n",
    "p_item = pred[i]\n",
    "# p_item = p_item.reshape(-1, 2)\n",
    "offset = 0.2\n",
    "iou_val = []\n",
    "lines = []\n",
    "for pred_s, pred_e in p_item:\n",
    "    line = plt.axhline(offset, pred_s/l, pred_e/l, color='b')\n",
    "    offset += 0.1\n",
    "    iou_val.append(iou(pred_s, pred_e, true_s, true_e))\n",
    "    lines.append(line)\n",
    "print('max iou: %.1f' % max(iou_val))\n",
    "if max(iou_val) > 0:\n",
    "    lines[np.argmax(iou_val)].set_color('r')\n"
   ]
  },
  {
   "cell_type": "markdown",
   "metadata": {},
   "source": [
    " # ベースラインについて\n",
    "\n",
    " ## Random (sliding window)\n",
    "\n",
    " 従来研究のRandomベースライン\n",
    "\n",
    " multi-scale temporal sliding window: {64, 128, 256, 512} frames and 80% overlap\n",
    "\n",
    " 生成されたtemporal widowをランダムに選んだベースライン\n",
    "\n",
    " ## Random (KDE)\n",
    "\n",
    " segmentのstart timeとdurationをの確率密度関数をKDEで推定\n",
    " \n",
    " ランダムにサンプリング、生成されたサンプルをそのサンプル点での確率密度関数の値で並び替え\n",
    "\n",
    "\n",
    " ## 結果\n",
    "\n",
    " | method                             | R@1 IoU=0.5 | R@1 IoU=0.7 | R@5 IoU=0.5 | R@5 IoU=0.7 |\n",
    " |------------------------------------|------------:|------------:|------------:|------------:|\n",
    " | Random (sliding window)            |        8.51 |        3.03 |       37.12 |       14.06 |\n",
    " | Random (KDE)                       |       20.72 |        8.05 |       58.08 |       26.84 |\n",
    " | CTRL (ICCV'17)                     |       21.42 |        7.15 |       59.11 |       26.91 |\n",
    " | MAN (CVPR'19)                      |       46.53 |       22.72 |       86.23 |       53.72 |\n",
    "\n",
    " CTRL (Tall: Temporal activity localization via language query, ICCV'17)はRandom (KDE)とそんなに変わらない\n",
    " \n",
    " ただし、ベースラインはrandomなので多少スコアは上下する\n",
    "\n",
    " Tall論文ではもっと単純なRandomベースラインと比較してたけどあまり意味のないベースラインかも（弱すぎベースライン）\n",
    "\n",
    " データにバイアスがあるのでちょっとprior入れてやるだけで割とスコアは上がる\n",
    "\n",
    " ## メモ\n",
    "\n",
    " Tallはsliding windowベースの手法。多分そこがスコアのボトルネック\n",
    "\n",
    " candidate proposalの生成は少なくともデータセットの分布が反映される方法でやった方がいい（学習ベースの手法）\n",
    "\n",
    " queryの中の特定のphrase (eg., first time, after) を考慮するだけで結構スコア上がるのでは？"
   ]
  },
  {
   "cell_type": "code",
   "execution_count": 20,
   "metadata": {},
   "outputs": [],
   "source": []
  }
 ],
 "metadata": {
  "file_extension": ".py",
  "kernelspec": {
   "display_name": "Python 3",
   "language": "python",
   "name": "python3"
  },
  "language_info": {
   "codemirror_mode": {
    "name": "ipython",
    "version": 3
   },
   "file_extension": ".py",
   "mimetype": "text/x-python",
   "name": "python",
   "nbconvert_exporter": "python",
   "pygments_lexer": "ipython3",
   "version": "3.7.3"
  },
  "mimetype": "text/x-python",
  "name": "python",
  "npconvert_exporter": "python",
  "pygments_lexer": "ipython3",
  "version": 3
 },
 "nbformat": 4,
 "nbformat_minor": 4
}
