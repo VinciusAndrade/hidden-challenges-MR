{
 "cells": [
  {
   "cell_type": "code",
   "execution_count": 1,
   "metadata": {},
   "outputs": [
    {
     "name": "stdout",
     "output_type": "stream",
     "text": [
      "/mnt/sda/otani/Experiments/hidden-challenges-MR\n"
     ]
    }
   ],
   "source": [
    "cd ../../"
   ]
  },
  {
   "cell_type": "code",
   "execution_count": 2,
   "metadata": {},
   "outputs": [],
   "source": [
    "from src import settings\n",
    "from tqdm import tqdm\n",
    "import os\n",
    "import pandas as pd\n",
    "import numpy as np\n",
    "import matplotlib.pyplot as plt\n",
    "from src.toolbox.eval import evaluate, accumulate_metrics\n",
    "from src.toolbox.utils import _nms\n",
    "from src.toolbox.visualization import plot_performance_per_duration\n",
    "from src.toolbox.data_converters import CharadesSTA2Instances\n",
    "import seaborn as sns\n",
    "import pickle as pkl\n",
    "import json\n",
    "import neptune\n",
    "sns.set_style(\"white\")"
   ]
  },
  {
   "cell_type": "code",
   "execution_count": 5,
   "metadata": {},
   "outputs": [],
   "source": [
    "# load ground truth test set\n",
    "test_data = CharadesSTA2Instances(pd.read_csv('data/processed/charades/charades_test.csv'))"
   ]
  },
  {
   "cell_type": "code",
   "execution_count": 6,
   "metadata": {},
   "outputs": [
    {
     "name": "stdout",
     "output_type": "stream",
     "text": [
      "downloading results ...\n",
      "done!\n",
      "downloading results ...\n",
      "done!\n"
     ]
    }
   ],
   "source": [
    "project = neptune.init(\"mayu-ot/moment-retrieval\")\n",
    "exp_id = \"MOM-6\"\n",
    "if not os.path.exists(f\"tmp/{exp_id}/{exp_id}199.json\"):\n",
    "    exps = project.get_experiments(id=exp_id)\n",
    "    print(\"downloading results ...\")\n",
    "    exps[0].download_artifact(f\"{exp_id}199.json\", f\"tmp/{exp_id}\")\n",
    "    print(\"done!\")\n",
    "    \n",
    "exp_id = \"MOM-7\"\n",
    "if not os.path.exists(f\"tmp/{exp_id}/{exp_id}199.shuffle.json\"):\n",
    "    exps = project.get_experiments(id=exp_id)\n",
    "    print(\"downloading results ...\")\n",
    "    exps[0].download_artifact(f\"{exp_id}199.shuffle.json\", f\"tmp/{exp_id}\")\n",
    "    print(\"done!\")"
   ]
  },
  {
   "cell_type": "code",
   "execution_count": 7,
   "metadata": {
    "scrolled": true
   },
   "outputs": [
    {
     "name": "stderr",
     "output_type": "stream",
     "text": [
      "postproc:  31%|███       | 1135/3712 [00:00<00:00, 11341.74it/s]"
     ]
    },
    {
     "name": "stdout",
     "output_type": "stream",
     "text": [
      "loading prediction file tmp/MOM-6/MOM-6199.json\n"
     ]
    },
    {
     "name": "stderr",
     "output_type": "stream",
     "text": [
      "postproc: 100%|██████████| 3712/3712 [00:00<00:00, 11467.26it/s]\n",
      "evaluating:  14%|█▍        | 528/3720 [00:00<00:00, 5272.12it/s]"
     ]
    },
    {
     "name": "stdout",
     "output_type": "stream",
     "text": [
      "8 missing instances\n",
      "missing item: ('U2AO1', 'closes the doors.the person takes the food.')\n"
     ]
    },
    {
     "name": "stderr",
     "output_type": "stream",
     "text": [
      "evaluating: 100%|██████████| 3720/3720 [00:00<00:00, 5660.11it/s]\n",
      "postproc:   0%|          | 0/3712 [00:00<?, ?it/s]"
     ]
    },
    {
     "name": "stdout",
     "output_type": "stream",
     "text": [
      "missing item: ('SVIXG', 'person opening a box.')\n",
      "missing item: ('SVIXG', 'person eating from a box of food.')\n",
      "missing item: ('SVIXG', 'person eating something out of it.')\n",
      "missing item: ('SVIXG', 'person eats a few pieces from inside.')\n",
      "missing item: ('7JHW2', 'the person puts the laptop down onto a table.')\n",
      "missing item: ('7JHW2', 'a person runs into the garage.')\n",
      "missing item: ('7JHW2', 'person holding a laptop.')\n",
      "missing item: ('7JHW2', 'person sets a laptop computer on a counter.')\n",
      "R@1 IoU>0.3 0.65\n",
      "R@1 IoU>0.5 0.52\n",
      "R@1 IoU>0.7 0.31\n",
      "R@5 IoU>0.3 0.82\n",
      "R@5 IoU>0.5 0.73\n",
      "R@5 IoU>0.7 0.56\n",
      "R@10 IoU>0.3 0.82\n",
      "R@10 IoU>0.5 0.73\n",
      "R@10 IoU>0.7 0.56\n",
      "loading prediction file tmp/MOM-7/MOM-7199.shuffle.json\n"
     ]
    },
    {
     "name": "stderr",
     "output_type": "stream",
     "text": [
      "postproc: 100%|██████████| 3712/3712 [00:00<00:00, 9781.92it/s]\n",
      "evaluating:  14%|█▍        | 526/3720 [00:00<00:00, 5247.81it/s]"
     ]
    },
    {
     "name": "stdout",
     "output_type": "stream",
     "text": [
      "8 missing instances\n",
      "missing item: ('U2AO1', 'closes the doors.the person takes the food.')\n"
     ]
    },
    {
     "name": "stderr",
     "output_type": "stream",
     "text": [
      "evaluating: 100%|██████████| 3720/3720 [00:00<00:00, 5600.19it/s]\n"
     ]
    },
    {
     "name": "stdout",
     "output_type": "stream",
     "text": [
      "missing item: ('SVIXG', 'person opening a box.')\n",
      "missing item: ('SVIXG', 'person eating from a box of food.')\n",
      "missing item: ('SVIXG', 'person eating something out of it.')\n",
      "missing item: ('SVIXG', 'person eats a few pieces from inside.')\n",
      "missing item: ('7JHW2', 'the person puts the laptop down onto a table.')\n",
      "missing item: ('7JHW2', 'a person runs into the garage.')\n",
      "missing item: ('7JHW2', 'person holding a laptop.')\n",
      "missing item: ('7JHW2', 'person sets a laptop computer on a counter.')\n",
      "R@1 IoU>0.3 0.39\n",
      "R@1 IoU>0.5 0.25\n",
      "R@1 IoU>0.7 0.12\n",
      "R@5 IoU>0.3 0.65\n",
      "R@5 IoU>0.5 0.49\n",
      "R@5 IoU>0.7 0.31\n",
      "R@10 IoU>0.3 0.65\n",
      "R@10 IoU>0.5 0.49\n",
      "R@10 IoU>0.7 0.31\n"
     ]
    }
   ],
   "source": [
    "def get_duration(video_id):\n",
    "    for x in test_data:\n",
    "        if x[0][0] == video_id:\n",
    "            return x[1][-1]\n",
    "\n",
    "def postproc_prediction(predictions):\n",
    "    preds = []\n",
    "    for p in tqdm(predictions, desc=\"postproc\"):\n",
    "        query = (p[0], p[2]+\".\")\n",
    "        video_duration = get_duration(query[0])\n",
    "        seg = [s + [video_duration] for s in p[3][:5]]\n",
    "        preds.append((query, seg, p[5][:5]))\n",
    "    return preds\n",
    "\n",
    "def eval_preds(pred_file, data):\n",
    "    print(f\"loading prediction file {pred_file}\")\n",
    "    predictions = json.load(open(pred_file))\n",
    "    preds = postproc_prediction(predictions)\n",
    "    results = evaluate(data, preds)\n",
    "    summary = accumulate_metrics(results)\n",
    "    return results, summary\n",
    "\n",
    "results, summary = eval_preds(\"tmp/MOM-6/MOM-6199.json\", test_data)\n",
    "randomized_results, randomized_summary = eval_preds(\"tmp/MOM-7/MOM-7199.shuffle.json\", test_data)"
   ]
  },
  {
   "cell_type": "code",
   "execution_count": 10,
   "metadata": {},
   "outputs": [
    {
     "data": {
      "image/png": "[encoded data removed]",
      "text/plain": [
       "<Figure size 432x288 with 1 Axes>"
      ]
     },
     "metadata": {},
     "output_type": "display_data"
    }
   ],
   "source": [
    "# The performances of the SCDM model when the original and randomized videos are fed to the model\n",
    "def display_score(bar, color=\"w\"):\n",
    "    plt.text(\n",
    "        bar.get_x()+bar.get_width()*.5,\n",
    "        bar.get_height()-6,\n",
    "        f\"{bar.get_height():.1f}\",\n",
    "        horizontalalignment=\"center\",\n",
    "        fontsize=12,\n",
    "        color=color\n",
    "    )\n",
    "    \n",
    "def plot_performance_comparison(sum_a, sum_b, labels):\n",
    "    plt.figure(figsize=(6, 4))\n",
    "    c = [\"#606060\", \"#d602ee\"]\n",
    "    keys = [f\"R@{k} IoU>0.5\" for k in [1, 5]]\n",
    "    x = np.arange(2)+0.2\n",
    "    for score_summary, l in zip([sum_a, sum_b], labels):\n",
    "        vals = [score_summary[k] * 100 for k in keys]\n",
    "        bars = plt.bar(x, vals, width=0.3, color=c.pop(0), label=l)\n",
    "        for b in bars:\n",
    "            display_score(b, color=\"w\")\n",
    "        x += 0.3\n",
    "\n",
    "    plt.xticks(ticks=np.arange(3)+0.4, labels=keys, ha=\"center\")\n",
    "    plt.legend()\n",
    "    sns.despine(left=False)\n",
    "\n",
    "plot_performance_comparison(summary, randomized_summary, labels = [\"Original\", \"Randomized\"])"
   ]
  },
  {
   "cell_type": "code",
   "execution_count": 11,
   "metadata": {},
   "outputs": [
    {
     "data": {
      "image/png": "[encoded data removed]",
      "text/plain": [
       "<Figure size 1440x360 with 2 Axes>"
      ]
     },
     "metadata": {},
     "output_type": "display_data"
    }
   ],
   "source": [
    "# Check relation between success rates and iput video durations\n",
    "def plot_comparison_per_duration(results, titles, data):\n",
    "    f, axes = plt.subplots(1, len(results), figsize=(20, 5))\n",
    "    plt.rcParams.update({'font.size': 14})\n",
    "    \n",
    "    for ax, res, t in zip(axes, results, titles):\n",
    "        _ = plot_performance_per_duration(res, data, ax=ax)\n",
    "        ax.set_title(t)\n",
    "\n",
    "\n",
    "plot_comparison_per_duration(\n",
    "    (results, randomized_results), \n",
    "    [\"Original video input\", \"Randomized video input\"],\n",
    "    test_data)"
   ]
  }
 ],
 "metadata": {
  "kernelspec": {
   "display_name": "Python 3",
   "language": "python",
   "name": "python3"
  },
  "language_info": {
   "codemirror_mode": {
    "name": "ipython",
    "version": 3
   },
   "file_extension": ".py",
   "mimetype": "text/x-python",
   "name": "python",
   "nbconvert_exporter": "python",
   "pygments_lexer": "ipython3",
   "version": "3.7.3"
  },
  "neptune": {
   "notebookId": "af21220e-46be-4634-8d34-e92f7d44dd77"
  }
 },
 "nbformat": 4,
 "nbformat_minor": 4
}
