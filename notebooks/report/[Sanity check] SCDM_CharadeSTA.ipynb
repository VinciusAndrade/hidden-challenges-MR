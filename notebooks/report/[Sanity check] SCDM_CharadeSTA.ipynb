{
 "cells": [
  {
   "cell_type": "code",
   "execution_count": 3,
   "metadata": {},
   "outputs": [
    {
     "name": "stdout",
     "output_type": "stream",
     "text": [
      "/mnt/sda/otani/Experiments/moment_retrieval\n"
     ]
    }
   ],
   "source": [
    "cd /mnt/sda/otani/Experiments/moment_retrieval"
   ]
  },
  {
   "cell_type": "code",
   "execution_count": 4,
   "metadata": {},
   "outputs": [],
   "source": [
    "import pandas as pd\n",
    "import numpy as np\n",
    "import matplotlib.pyplot as plt\n",
    "from src.toolbox.eval import evaluate, accumulate_metrics, categorize_results, summarize_results_per_class\n",
    "from src.toolbox.utils import _nms\n",
    "from src.toolbox.visualization import plot_performance_per_class, plot_performance_per_duration\n",
    "from src.toolbox.data_converters import CharadesSTA2Instances\n",
    "import seaborn as sns\n",
    "import pickle as pkl\n",
    "import json\n",
    "import neptune\n",
    "sns.set_style(\"white\")"
   ]
  },
  {
   "cell_type": "code",
   "execution_count": 5,
   "metadata": {},
   "outputs": [],
   "source": [
    "# load ground truth test set\n",
    "test_data = CharadesSTA2Instances(pd.read_csv('data/processed/test.csv'))"
   ]
  },
  {
   "cell_type": "code",
   "execution_count": 9,
   "metadata": {},
   "outputs": [
    {
     "name": "stdout",
     "output_type": "stream",
     "text": [
      "downloading results ...\n",
      "done!\n"
     ]
    }
   ],
   "source": [
    "project = neptune.init(\"mayu-ot/moment-retrieval\")\n",
    "exp_id = \"MOM-6\"\n",
    "if not os.path.exists(f\"tmp/{exp_id}/{exp_id}199.json\"):\n",
    "    exps = project.get_experiments(id=exp_id)\n",
    "    print(\"downloading results ...\")\n",
    "    exps[0].download_artifact(f\"{exp_id}199.json\", f\"tmp/{exp_id}\")\n",
    "    print(\"done!\")\n",
    "    \n",
    "exp_id = \"MOM-7\"\n",
    "if not os.path.exists(f\"tmp/{exp_id}/{exp_id}199.shuffle.json\"):\n",
    "    exps = project.get_experiments(id=exp_id)\n",
    "    print(\"downloading results ...\")\n",
    "    exps[0].download_artifact(f\"{exp_id}199.shuffle.json\", f\"tmp/{exp_id}\")\n",
    "    print(\"done!\")"
   ]
  },
  {
   "cell_type": "code",
   "execution_count": 10,
   "metadata": {},
   "outputs": [],
   "source": [
    "def get_duration(video_id):\n",
    "    for x in test_data:\n",
    "        if x[0][0] == video_id:\n",
    "            return x[1][-1]\n",
    "\n",
    "def get_evaluation_results(predictions):\n",
    "    preds = []\n",
    "    for p in predictions:\n",
    "        query = (p[0], p[2]+\".\")\n",
    "        video_duration = get_duration(query[0])\n",
    "        seg = [s + [video_duration] for s in p[3][:10]]\n",
    "        preds.append((query, seg, p[5][:10]))\n",
    "    results = evaluate(test_data, preds)\n",
    "    summary = accumulate_metrics(results)\n",
    "    return results, summary"
   ]
  },
  {
   "cell_type": "code",
   "execution_count": 13,
   "metadata": {},
   "outputs": [
    {
     "name": "stdout",
     "output_type": "stream",
     "text": [
      "8 missing instances\n",
      "missing item: ('U2AO1', 'closes the doors.the person takes the food.')\n",
      "missing item: ('SVIXG', 'person opening a box.')\n",
      "missing item: ('SVIXG', 'person eating from a box of food.')\n",
      "missing item: ('SVIXG', 'person eating something out of it.')\n",
      "missing item: ('SVIXG', 'person eats a few pieces from inside.')\n",
      "missing item: ('7JHW2', 'the person puts the laptop down onto a table.')\n",
      "missing item: ('7JHW2', 'a person runs into the garage.')\n",
      "missing item: ('7JHW2', 'person holding a laptop.')\n",
      "missing item: ('7JHW2', 'person sets a laptop computer on a counter.')\n",
      "R@1 IoU>0.3 0.65\n",
      "R@1 IoU>0.5 0.52\n",
      "R@1 IoU>0.7 0.31\n",
      "R@5 IoU>0.3 0.82\n",
      "R@5 IoU>0.5 0.73\n",
      "R@5 IoU>0.7 0.56\n",
      "R@10 IoU>0.3 0.82\n",
      "R@10 IoU>0.5 0.73\n",
      "R@10 IoU>0.7 0.56\n"
     ]
    }
   ],
   "source": [
    "predictions = json.load(open(f\"tmp/MOM-6/MOM-6199.json\"))\n",
    "results, summary = get_evaluation_results(predictions)"
   ]
  },
  {
   "cell_type": "code",
   "execution_count": 14,
   "metadata": {},
   "outputs": [
    {
     "name": "stdout",
     "output_type": "stream",
     "text": [
      "8 missing instances\n",
      "missing item: ('U2AO1', 'closes the doors.the person takes the food.')\n",
      "missing item: ('SVIXG', 'person opening a box.')\n",
      "missing item: ('SVIXG', 'person eating from a box of food.')\n",
      "missing item: ('SVIXG', 'person eating something out of it.')\n",
      "missing item: ('SVIXG', 'person eats a few pieces from inside.')\n",
      "missing item: ('7JHW2', 'the person puts the laptop down onto a table.')\n",
      "missing item: ('7JHW2', 'a person runs into the garage.')\n",
      "missing item: ('7JHW2', 'person holding a laptop.')\n",
      "missing item: ('7JHW2', 'person sets a laptop computer on a counter.')\n",
      "R@1 IoU>0.3 0.39\n",
      "R@1 IoU>0.5 0.25\n",
      "R@1 IoU>0.7 0.12\n",
      "R@5 IoU>0.3 0.65\n",
      "R@5 IoU>0.5 0.49\n",
      "R@5 IoU>0.7 0.31\n",
      "R@10 IoU>0.3 0.65\n",
      "R@10 IoU>0.5 0.49\n",
      "R@10 IoU>0.7 0.31\n"
     ]
    }
   ],
   "source": [
    "predictions = json.load(open(f\"tmp/MOM-7/MOM-7199.shuffle.json\"))\n",
    "randomized_results, randomized_summary = get_evaluation_results(predictions)"
   ]
  },
  {
   "cell_type": "code",
   "execution_count": 15,
   "metadata": {},
   "outputs": [
    {
     "data": {
      "image/png": "[encoded data removed]",
      "text/plain": [
       "<Figure size 432x288 with 1 Axes>"
      ]
     },
     "metadata": {
      "needs_background": "light"
     },
     "output_type": "display_data"
    }
   ],
   "source": [
    "# The performances of the 2D-TAN model when the original and randomized videos are fed to the model\n",
    "def display_score(bar, color=\"w\"):\n",
    "    plt.text(\n",
    "        bar.get_x()+bar.get_width()*.5,\n",
    "        bar.get_height()-6,\n",
    "        f\"{bar.get_height():.1f}\",\n",
    "        horizontalalignment=\"center\",\n",
    "        fontsize=12,\n",
    "        color=color\n",
    "    )\n",
    "    \n",
    "plt.figure(figsize=(6, 4))\n",
    "c = [\"#606060\", \"#d602ee\"]\n",
    "labels = [\"Original\", \"Randomized\"]\n",
    "keys = [f\"R@{k} IoU>0.5\" for k in [1, 5, 10]]\n",
    "x = np.arange(3)+0.2\n",
    "for score_summary in [summary, randomized_summary]:\n",
    "    vals = [score_summary[k] * 100 for k in keys]\n",
    "    bars = plt.bar(x, vals, width=0.3, color=c.pop(0), label=labels.pop(0))\n",
    "    for b in bars:\n",
    "        display_score(b, color=\"w\")\n",
    "    x += 0.3\n",
    "    \n",
    "plt.xticks(ticks=np.arange(3)+0.4, labels=keys, ha=\"center\")\n",
    "    \n",
    "plt.legend()\n",
    "sns.despine(left=False)"
   ]
  },
  {
   "cell_type": "code",
   "execution_count": 16,
   "metadata": {},
   "outputs": [
    {
     "data": {
      "text/plain": [
       "Text(0.5, 1.0, 'Randomized video input')"
      ]
     },
     "execution_count": 16,
     "metadata": {},
     "output_type": "execute_result"
    },
    {
     "data": {
      "image/png": "[encoded data removed]",
      "text/plain": [
       "<Figure size 1440x360 with 2 Axes>"
      ]
     },
     "metadata": {
      "needs_background": "light"
     },
     "output_type": "display_data"
    }
   ],
   "source": [
    "# Check relation between success rates and iput video durations\n",
    "f, axes = plt.subplots(1, 2, figsize=(20, 5))\n",
    "plt.rcParams.update({'font.size': 14})\n",
    "_ = plot_performance_per_duration(results, test_data, ax=axes[0])\n",
    "axes[0].set_title(\"Original video input\")\n",
    "_ = plot_performance_per_duration(randomized_results, test_data, ax=axes[1])\n",
    "axes[1].set_title(\"Randomized video input\")"
   ]
  }
 ],
 "metadata": {
  "kernelspec": {
   "display_name": "Python 3",
   "language": "python",
   "name": "python3"
  },
  "language_info": {
   "codemirror_mode": {
    "name": "ipython",
    "version": 3
   },
   "file_extension": ".py",
   "mimetype": "text/x-python",
   "name": "python",
   "nbconvert_exporter": "python",
   "pygments_lexer": "ipython3",
   "version": "3.7.3"
  },
  "neptune": {
   "notebookId": "af21220e-46be-4634-8d34-e92f7d44dd77"
  }
 },
 "nbformat": 4,
 "nbformat_minor": 4
}
