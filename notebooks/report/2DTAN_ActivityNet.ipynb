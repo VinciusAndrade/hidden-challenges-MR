{
 "cells": [
  {
   "cell_type": "code",
   "execution_count": 59,
   "metadata": {},
   "outputs": [
    {
     "name": "stdout",
     "output_type": "stream",
     "text": [
      "/mnt/sda/otani/Experiments/moment_retrieval\n"
     ]
    }
   ],
   "source": [
    "cd /mnt/sda/otani/Experiments/moment_retrieval"
   ]
  },
  {
   "cell_type": "code",
   "execution_count": 2,
   "metadata": {},
   "outputs": [],
   "source": [
    "%matplotlib inline\n",
    "from typing import List, Tuple, Dict, Callable\n",
    "Query = Tuple[str, str]\n",
    "Location = Tuple[float, float, float]  # start(sec.), end(sec.), length(sec.)\n",
    "Instance = Tuple[Query, Location]\n",
    "Rating = List[float]\n",
    "Prediction = Tuple[Query, List[Location], Rating]\n",
    "Result = Tuple[Query, List[Location], Rating, dict]\n",
    "\n",
    "import pandas as pd\n",
    "import numpy as np\n",
    "import spacy\n",
    "import matplotlib.pyplot as plt\n",
    "from src.toolbox.utils import _nms, sentence2token\n",
    "from src.toolbox.eval import evaluate, location_error, accumulate_metrics, categorize_results, summarize_results_per_class, predict\n",
    "from src.toolbox.utils import _nms\n",
    "from src.toolbox.visualization import plot_performance_per_class\n",
    "from src.toolbox.data_converters import ActivityNetCap2Instances\n",
    "from src.toolbox.baseline import SegmentGeneratorKDE\n",
    "import seaborn as sns\n",
    "sns.set()\n",
    "import json\n",
    "import pickle as pkl"
   ]
  },
  {
   "cell_type": "code",
   "execution_count": 4,
   "metadata": {},
   "outputs": [],
   "source": [
    "raw_data = json.load(open(\"data/raw/ActivityNet/val_2.json\"))\n",
    "test_data = ActivityNetCap2Instances(raw_data)"
   ]
  },
  {
   "cell_type": "code",
   "execution_count": 5,
   "metadata": {},
   "outputs": [
    {
     "name": "stdout",
     "output_type": "stream",
     "text": [
      "R@1 IoU>0.3 0.59\n",
      "R@1 IoU>0.5 0.44\n",
      "R@1 IoU>0.7 0.27\n",
      "R@5 IoU>0.3 0.86\n",
      "R@5 IoU>0.5 0.77\n",
      "R@5 IoU>0.7 0.62\n",
      "R@10 IoU>0.3 0.86\n",
      "R@10 IoU>0.5 0.77\n",
      "R@10 IoU>0.7 0.62\n"
     ]
    }
   ],
   "source": [
    "predictions = pkl.load(open(\"/home/otani_mayu/3TDisk/Experiments/2D-TAN/results/ActivityNet/TAN_c3d_test.pkl\", \"rb\"))\n",
    "preds = []\n",
    "for p in predictions:\n",
    "    query = p[0][0], p[0][1]\n",
    "    seg = p[1]\n",
    "    keep = _nms(np.asarray(seg), np.arange(len(seg))[::-1], thresh=0.5, top_k=5)\n",
    "    seg = [seg[i] for i in keep]\n",
    "    preds.append((query, seg, np.arange(len(seg))[::-1].tolist()))\n",
    "results = evaluate(test_data, preds)\n",
    "summary = accumulate_metrics(results)\n",
    "\n",
    "pkl.dump(results,\n",
    "    open(\"reports/figure_src/results/activitynet/2d-tan.pkl\", \"wb\"))"
   ]
  },
  {
   "cell_type": "code",
   "execution_count": 20,
   "metadata": {},
   "outputs": [
    {
     "name": "stdout",
     "output_type": "stream",
     "text": [
      "R@1 IoU>0.3 0.58\n",
      "R@1 IoU>0.5 0.44\n",
      "R@1 IoU>0.7 0.27\n",
      "R@5 IoU>0.3 0.85\n",
      "R@5 IoU>0.5 0.76\n",
      "R@5 IoU>0.7 0.62\n",
      "R@10 IoU>0.3 0.85\n",
      "R@10 IoU>0.5 0.76\n",
      "R@10 IoU>0.7 0.62\n"
     ]
    }
   ],
   "source": [
    "predictions = pkl.load(open(\"/home/otani_mayu/3TDisk/Experiments/2D-TAN/results/shuffle/ActivityNet/TAN_c3d_test.pkl\", \"rb\"))\n",
    "preds = []\n",
    "for p in predictions:\n",
    "    query = p[0][0], p[0][1]\n",
    "    seg = p[1]\n",
    "    keep = _nms(np.asarray(seg), np.arange(len(seg))[::-1], thresh=0.5, top_k=5)\n",
    "    seg = [seg[i] for i in keep]\n",
    "    preds.append((query, seg, np.arange(len(seg))[::-1].tolist()))\n",
    "shuffle_results = evaluate(test_data, preds)\n",
    "shuffle_summary = accumulate_metrics(shuffle_results)"
   ]
  },
  {
   "cell_type": "code",
   "execution_count": 44,
   "metadata": {},
   "outputs": [
    {
     "name": "stdout",
     "output_type": "stream",
     "text": [
      "R@1 IoU>0.3 0.58\n",
      "R@1 IoU>0.5 0.44\n",
      "R@1 IoU>0.7 0.27\n",
      "R@5 IoU>0.3 0.85\n",
      "R@5 IoU>0.5 0.75\n",
      "R@5 IoU>0.7 0.60\n",
      "R@10 IoU>0.3 0.85\n",
      "R@10 IoU>0.5 0.75\n",
      "R@10 IoU>0.7 0.60\n"
     ]
    }
   ],
   "source": [
    "predictions = pkl.load(open(\"/home/otani_mayu/3TDisk/Experiments/2D-TAN/results/random/ActivityNet/TAN_c3d_test.pkl\", \"rb\"))\n",
    "preds = []\n",
    "for p in predictions:\n",
    "    query = p[0][0], p[0][1]\n",
    "    seg = p[1]\n",
    "    keep = _nms(np.asarray(seg), np.arange(len(seg))[::-1], thresh=0.5, top_k=5)\n",
    "    seg = [seg[i] for i in keep]\n",
    "    preds.append((query, seg, np.arange(len(seg))[::-1].tolist()))\n",
    "random_results = evaluate(test_data, preds)\n",
    "random_summary = accumulate_metrics(random_results)"
   ]
  },
  {
   "cell_type": "code",
   "execution_count": 53,
   "metadata": {},
   "outputs": [
    {
     "data": {
      "text/plain": [
       "(0, 1)"
      ]
     },
     "execution_count": 53,
     "metadata": {},
     "output_type": "execute_result"
    },
    {
     "data": {
      "image/png": "[encoded data removed]",
      "text/plain": [
       "<Figure size 360x216 with 1 Axes>"
      ]
     },
     "metadata": {
      "needs_background": "light"
     },
     "output_type": "display_data"
    }
   ],
   "source": [
    "plt.figure(figsize=(5, 3))\n",
    "plt.bar(np.arange(3)+0.2, list(summary.values())[:3], width=0.3, label=\"AAAI'20\")\n",
    "plt.bar(np.arange(3)+0.5, list(shuffle_summary.values())[:3], width=0.3, label=\"shuffle\")\n",
    "plt.bar(np.arange(3)+0.8, list(random_summary.values())[:3], width=0.3, label=\"random\")\n",
    "plt.xticks(ticks=np.arange(3)+0.5, labels=list(summary.keys())[:3], rotation=50)\n",
    "plt.legend()\n",
    "plt.ylim(0, 1)"
   ]
  },
  {
   "cell_type": "code",
   "execution_count": 62,
   "metadata": {},
   "outputs": [],
   "source": [
    "pkl.dump(results,\n",
    "        open(\"reports/figure_src/results/activitynet/2d-tan.pkl\", \"wb\"))"
   ]
  },
  {
   "cell_type": "code",
   "execution_count": 63,
   "metadata": {},
   "outputs": [
    {
     "data": {
      "text/plain": [
       "<matplotlib.legend.Legend at 0x7f791d584a58>"
      ]
     },
     "execution_count": 63,
     "metadata": {},
     "output_type": "execute_result"
    },
    {
     "data": {
      "image/png": "[encoded data removed]",
      "text/plain": [
       "<Figure size 432x288 with 1 Axes>"
      ]
     },
     "metadata": {
      "needs_background": "light"
     },
     "output_type": "display_data"
    }
   ],
   "source": [
    "failure = []\n",
    "success = []\n",
    "for r, gt_dat in zip(results, test_data):\n",
    "    _, (s, e, l) = gt_dat\n",
    "    duration = (e - s) / l\n",
    "    is_succeed = r[-1]['R@1 IoU>0.5']\n",
    "    if is_succeed:\n",
    "        success.append(duration)\n",
    "    else:\n",
    "        failure.append(duration)\n",
    "\n",
    "plt.hist([failure, success], bins=20, stacked=True, label=[\"failure\", \"success\"])\n",
    "plt.legend()\n",
    "# _, axes = plt.subplots(2, 1, sharex=True, sharey=True)\n",
    "# axes[0].hist(success, bins=20)\n",
    "# axes[0].set_title(\"success\")\n",
    "# axes[1].hist(failure, bins=20)\n",
    "# axes[1].set_title(\"failure\")"
   ]
  },
  {
   "cell_type": "code",
   "execution_count": null,
   "metadata": {},
   "outputs": [],
   "source": []
  }
 ],
 "metadata": {
  "kernelspec": {
   "display_name": "Python 3",
   "language": "python",
   "name": "python3"
  },
  "language_info": {
   "codemirror_mode": {
    "name": "ipython",
    "version": 3
   },
   "file_extension": ".py",
   "mimetype": "text/x-python",
   "name": "python",
   "nbconvert_exporter": "python",
   "pygments_lexer": "ipython3",
   "version": "3.7.3"
  }
 },
 "nbformat": 4,
 "nbformat_minor": 4
}
