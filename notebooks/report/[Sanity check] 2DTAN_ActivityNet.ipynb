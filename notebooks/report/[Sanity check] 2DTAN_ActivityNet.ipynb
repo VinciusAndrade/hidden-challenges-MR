{
 "cells": [
  {
   "cell_type": "code",
   "execution_count": 1,
   "metadata": {},
   "outputs": [
    {
     "name": "stdout",
     "output_type": "stream",
     "text": [
      "/mnt/sda/otani/Experiments/hidden-challenges-MR\n"
     ]
    }
   ],
   "source": [
    "cd ../../"
   ]
  },
  {
   "cell_type": "code",
   "execution_count": 2,
   "metadata": {},
   "outputs": [],
   "source": [
    "from src import settings\n",
    "from tqdm import tqdm\n",
    "import os\n",
    "import pandas as pd\n",
    "import numpy as np\n",
    "import spacy\n",
    "import matplotlib.pyplot as plt\n",
    "from src import settings\n",
    "from src.toolbox.utils import _nms\n",
    "from src.toolbox.eval import evaluate, accumulate_metrics\n",
    "from src.toolbox.data_converters import ActivityNetCap2Instances\n",
    "from src.toolbox.visualization import plot_performance_per_duration\n",
    "import seaborn as sns\n",
    "import json\n",
    "import pickle as pkl\n",
    "from multiprocessing import Pool, cpu_count, Queue\n",
    "import multiprocessing as mp\n",
    "import neptune\n",
    "sns.set_style(\"white\")"
   ]
  },
  {
   "cell_type": "code",
   "execution_count": 3,
   "metadata": {},
   "outputs": [],
   "source": [
    "raw_data = json.load(open(\"data/raw/activitynet/val_2.json\"))\n",
    "test_data = ActivityNetCap2Instances(raw_data)"
   ]
  },
  {
   "cell_type": "code",
   "execution_count": 4,
   "metadata": {},
   "outputs": [],
   "source": [
    "# download result files from neptune project\n",
    "# you can also download file manually\n",
    "\n",
    "project = neptune.init(\"mayu-ot/moment-retrieval\")\n",
    "\n",
    "if not os.path.exists(f\"tmp/MOM-48/TAN_c3d_test.pkl\"):\n",
    "    exps = project.get_experiments(id=\"MOM-48\")\n",
    "    print(\"downloading results ...\")\n",
    "    exps[0].download_artifact(\"TAN_c3d_test.pkl\", \"tmp/MOM-48/\")\n",
    "    print(\"done!\")\n",
    "\n",
    "if not os.path.exists(f\"tmp/MOM-50/TAN_c3d_test.pkl\"):\n",
    "    exps = project.get_experiments(id=\"MOM-50\")\n",
    "    print(\"downloading results ...\")\n",
    "    exps[0].download_artifact(\"TAN_c3d_test.pkl\", \"tmp/MOM-50/\")\n",
    "    print(\"done!\")"
   ]
  },
  {
   "cell_type": "code",
   "execution_count": 5,
   "metadata": {},
   "outputs": [
    {
     "name": "stdout",
     "output_type": "stream",
     "text": [
      "loading prediction file tmp/MOM-48/TAN_c3d_test.pkl\n"
     ]
    },
    {
     "name": "stderr",
     "output_type": "stream",
     "text": [
      "postproc: 100%|██████████| 17031/17031 [00:11<00:00, 1542.15it/s]\n",
      "evaluating: 100%|██████████| 17031/17031 [00:13<00:00, 1278.67it/s]\n"
     ]
    },
    {
     "name": "stdout",
     "output_type": "stream",
     "text": [
      "R@1 IoU>0.3 0.59\n",
      "R@1 IoU>0.5 0.44\n",
      "R@1 IoU>0.7 0.27\n",
      "R@5 IoU>0.3 0.86\n",
      "R@5 IoU>0.5 0.77\n",
      "R@5 IoU>0.7 0.62\n",
      "R@10 IoU>0.3 0.86\n",
      "R@10 IoU>0.5 0.77\n",
      "R@10 IoU>0.7 0.62\n",
      "loading prediction file tmp/MOM-50/TAN_c3d_test.pkl\n"
     ]
    },
    {
     "name": "stderr",
     "output_type": "stream",
     "text": [
      "postproc: 100%|██████████| 17031/17031 [00:11<00:00, 1481.99it/s]\n",
      "evaluating: 100%|██████████| 17031/17031 [00:12<00:00, 1316.03it/s]\n"
     ]
    },
    {
     "name": "stdout",
     "output_type": "stream",
     "text": [
      "R@1 IoU>0.3 0.58\n",
      "R@1 IoU>0.5 0.44\n",
      "R@1 IoU>0.7 0.27\n",
      "R@5 IoU>0.3 0.85\n",
      "R@5 IoU>0.5 0.76\n",
      "R@5 IoU>0.7 0.62\n",
      "R@10 IoU>0.3 0.85\n",
      "R@10 IoU>0.5 0.76\n",
      "R@10 IoU>0.7 0.62\n"
     ]
    }
   ],
   "source": [
    "def postproc_prediction(predictions):\n",
    "    preds = []\n",
    "    for p in tqdm(predictions, desc=\"postproc\"):\n",
    "        query = p[0][0], p[0][1]\n",
    "        seg = p[1]\n",
    "        keep = _nms(np.asarray(seg), np.arange(len(seg))[::-1], thresh=0.5, top_k=5)\n",
    "        seg = [seg[i] for i in keep]\n",
    "        preds.append((query, seg, np.arange(len(seg))[::-1].tolist()))\n",
    "    return preds\n",
    "\n",
    "def eval_preds(pred_file):\n",
    "    print(f\"loading prediction file {pred_file}\")\n",
    "    predictions = pkl.load(open(pred_file, \"rb\"))\n",
    "    preds = postproc_prediction(predictions)\n",
    "    results = evaluate(test_data, preds)\n",
    "    summary = accumulate_metrics(results)\n",
    "    return results, summary\n",
    "\n",
    "results, summary = eval_preds(\"tmp/MOM-48/TAN_c3d_test.pkl\")\n",
    "randomized_results, randomized_summary = eval_preds(\"tmp/MOM-50/TAN_c3d_test.pkl\")"
   ]
  },
  {
   "cell_type": "code",
   "execution_count": 6,
   "metadata": {},
   "outputs": [
    {
     "data": {
      "image/png": "[encoded data removed]",
      "text/plain": [
       "<Figure size 432x288 with 1 Axes>"
      ]
     },
     "metadata": {},
     "output_type": "display_data"
    }
   ],
   "source": [
    "# The performances of the 2D-TAN model when the original and randomized videos are fed to the model\n",
    "def display_score(bar, color=\"w\"):\n",
    "    plt.text(\n",
    "        bar.get_x()+bar.get_width()*.5,\n",
    "        bar.get_height()-6,\n",
    "        f\"{bar.get_height():.1f}\",\n",
    "        horizontalalignment=\"center\",\n",
    "        fontsize=12,\n",
    "        color=color\n",
    "    )\n",
    "    \n",
    "def plot_performance_comparison(sum_a, sum_b, labels):\n",
    "    plt.figure(figsize=(6, 4))\n",
    "    c = [\"#606060\", \"#d602ee\"]\n",
    "    keys = [f\"R@{k} IoU>0.5\" for k in [1, 5, 10]]\n",
    "    x = np.arange(3)+0.2\n",
    "    for score_summary, l in zip([sum_a, sum_b], labels):\n",
    "        vals = [score_summary[k] * 100 for k in keys]\n",
    "        bars = plt.bar(x, vals, width=0.3, color=c.pop(0), label=l)\n",
    "        for b in bars:\n",
    "            display_score(b, color=\"w\")\n",
    "        x += 0.3\n",
    "\n",
    "    plt.xticks(ticks=np.arange(3)+0.4, labels=keys, ha=\"center\")\n",
    "    plt.legend()\n",
    "    sns.despine(left=False)\n",
    "\n",
    "plot_performance_comparison(summary, randomized_summary, labels = [\"Original\", \"Randomized\"])"
   ]
  },
  {
   "cell_type": "code",
   "execution_count": 7,
   "metadata": {},
   "outputs": [
    {
     "data": {
      "image/png": "[encoded data removed]",
      "text/plain": [
       "<Figure size 1440x360 with 2 Axes>"
      ]
     },
     "metadata": {},
     "output_type": "display_data"
    }
   ],
   "source": [
    "# Check relation between success rates and iput video durations\n",
    "def plot_comparison_per_duration(results, titles, data):\n",
    "    f, axes = plt.subplots(1, len(results), figsize=(20, 5))\n",
    "    plt.rcParams.update({'font.size': 14})\n",
    "    \n",
    "    for ax, res, t in zip(axes, results, titles):\n",
    "        _ = plot_performance_per_duration(res, data, ax=ax)\n",
    "        ax.set_title(t)\n",
    "\n",
    "\n",
    "plot_comparison_per_duration(\n",
    "    (results, randomized_results), \n",
    "    [\"Original video input\", \"Randomized video input\"],\n",
    "    test_data)"
   ]
  },
  {
   "cell_type": "code",
   "execution_count": null,
   "metadata": {},
   "outputs": [],
   "source": []
  }
 ],
 "metadata": {
  "kernelspec": {
   "display_name": "Python 3",
   "language": "python",
   "name": "python3"
  },
  "language_info": {
   "codemirror_mode": {
    "name": "ipython",
    "version": 3
   },
   "file_extension": ".py",
   "mimetype": "text/x-python",
   "name": "python",
   "nbconvert_exporter": "python",
   "pygments_lexer": "ipython3",
   "version": "3.7.3"
  },
  "neptune": {
   "notebookId": "ee82b86d-2867-43a8-b0e7-8b0deed8cc29"
  }
 },
 "nbformat": 4,
 "nbformat_minor": 4
}
