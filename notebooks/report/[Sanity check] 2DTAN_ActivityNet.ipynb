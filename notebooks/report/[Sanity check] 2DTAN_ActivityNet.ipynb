{
 "cells": [
  {
   "cell_type": "code",
   "execution_count": 4,
   "metadata": {},
   "outputs": [
    {
     "name": "stdout",
     "output_type": "stream",
     "text": [
      "/mnt/sda/otani/Experiments/moment_retrieval\n"
     ]
    }
   ],
   "source": [
    "cd /mnt/sda/otani/Experiments/moment_retrieval"
   ]
  },
  {
   "cell_type": "code",
   "execution_count": 12,
   "metadata": {},
   "outputs": [],
   "source": [
    "import pandas as pd\n",
    "import numpy as np\n",
    "import spacy\n",
    "import matplotlib.pyplot as plt\n",
    "from src.toolbox.utils import _nms\n",
    "from src.toolbox.eval import evaluate, accumulate_metrics\n",
    "from src.toolbox.data_converters import ActivityNetCap2Instances\n",
    "from src.toolbox.visualization import plot_performance_per_duration\n",
    "import seaborn as sns\n",
    "sns.set()\n",
    "import json\n",
    "import pickle as pkl\n",
    "import neptune\n",
    "sns.set_style(\"white\")"
   ]
  },
  {
   "cell_type": "code",
   "execution_count": 6,
   "metadata": {},
   "outputs": [],
   "source": [
    "raw_data = json.load(open(\"data/raw/ActivityNet/val_2.json\"))\n",
    "test_data = ActivityNetCap2Instances(raw_data)"
   ]
  },
  {
   "cell_type": "code",
   "execution_count": 7,
   "metadata": {},
   "outputs": [],
   "source": [
    "project = neptune.init(\"mayu-ot/moment-retrieval\")\n",
    "\n",
    "if not os.path.exists(f\"tmp/MOM-48/TAN_c3d_test.pkl\"):\n",
    "    exps = project.get_experiments(id=\"MOM-48\")\n",
    "    print(\"downloading results ...\")\n",
    "    exps[0].download_artifact(\"TAN_c3d_test.pkl\", \"tmp/MOM-48/\")\n",
    "    print(\"done!\")\n",
    "\n",
    "if not os.path.exists(f\"tmp/MOM-50/TAN_c3d_test.pkl\"):\n",
    "    exps = project.get_experiments(id=\"MOM-50\")\n",
    "    print(\"downloading results ...\")\n",
    "    exps[0].download_artifact(\"TAN_c3d_test.pkl\", \"tmp/MOM-50/\")\n",
    "    print(\"done!\")"
   ]
  },
  {
   "cell_type": "code",
   "execution_count": 8,
   "metadata": {},
   "outputs": [
    {
     "name": "stdout",
     "output_type": "stream",
     "text": [
      "R@1 IoU>0.3 0.59\n",
      "R@1 IoU>0.5 0.44\n",
      "R@1 IoU>0.7 0.27\n",
      "R@5 IoU>0.3 0.86\n",
      "R@5 IoU>0.5 0.77\n",
      "R@5 IoU>0.7 0.62\n",
      "R@10 IoU>0.3 0.86\n",
      "R@10 IoU>0.5 0.77\n",
      "R@10 IoU>0.7 0.62\n"
     ]
    }
   ],
   "source": [
    "predictions = pkl.load(open(\"tmp/MOM-48/TAN_c3d_test.pkl\", \"rb\"))\n",
    "preds = []\n",
    "for p in predictions:\n",
    "    query = p[0][0], p[0][1]\n",
    "    seg = p[1]\n",
    "    keep = _nms(np.asarray(seg), np.arange(len(seg))[::-1], thresh=0.5, top_k=5)\n",
    "    seg = [seg[i] for i in keep]\n",
    "    preds.append((query, seg, np.arange(len(seg))[::-1].tolist()))\n",
    "results = evaluate(test_data, preds)\n",
    "summary = accumulate_metrics(results)"
   ]
  },
  {
   "cell_type": "code",
   "execution_count": 9,
   "metadata": {},
   "outputs": [
    {
     "name": "stdout",
     "output_type": "stream",
     "text": [
      "R@1 IoU>0.3 0.58\n",
      "R@1 IoU>0.5 0.44\n",
      "R@1 IoU>0.7 0.27\n",
      "R@5 IoU>0.3 0.85\n",
      "R@5 IoU>0.5 0.76\n",
      "R@5 IoU>0.7 0.62\n",
      "R@10 IoU>0.3 0.85\n",
      "R@10 IoU>0.5 0.76\n",
      "R@10 IoU>0.7 0.62\n"
     ]
    }
   ],
   "source": [
    "predictions = pkl.load(open(\"tmp/MOM-50/TAN_c3d_test.pkl\", \"rb\"))\n",
    "preds = []\n",
    "for p in predictions:\n",
    "    query = p[0][0], p[0][1]\n",
    "    seg = p[1]\n",
    "    keep = _nms(np.asarray(seg), np.arange(len(seg))[::-1], thresh=0.5, top_k=5)\n",
    "    seg = [seg[i] for i in keep]\n",
    "    preds.append((query, seg, np.arange(len(seg))[::-1].tolist()))\n",
    "randomized_results = evaluate(test_data, preds)\n",
    "randomized_summary = accumulate_metrics(randomized_results)"
   ]
  },
  {
   "cell_type": "code",
   "execution_count": 10,
   "metadata": {},
   "outputs": [
    {
     "data": {
      "image/png": "[encoded data removed]",
      "text/plain": [
       "<Figure size 432x288 with 1 Axes>"
      ]
     },
     "metadata": {
      "needs_background": "light"
     },
     "output_type": "display_data"
    }
   ],
   "source": [
    "# The performances of the 2D-TAN model when the original and randomized videos are fed to the model\n",
    "def display_score(bar, color=\"w\"):\n",
    "    plt.text(\n",
    "        bar.get_x()+bar.get_width()*.5,\n",
    "        bar.get_height()-6,\n",
    "        f\"{bar.get_height():.1f}\",\n",
    "        horizontalalignment=\"center\",\n",
    "        fontsize=12,\n",
    "        color=color\n",
    "    )\n",
    "    \n",
    "plt.figure(figsize=(6, 4))\n",
    "c = [\"#606060\", \"#d602ee\"]\n",
    "labels = [\"Original\", \"Randomized\"]\n",
    "keys = [f\"R@{k} IoU>0.5\" for k in [1, 5, 10]]\n",
    "x = np.arange(3)+0.2\n",
    "for score_summary in [summary, randomized_summary]:\n",
    "    vals = [score_summary[k] * 100 for k in keys]\n",
    "    bars = plt.bar(x, vals, width=0.3, color=c.pop(0), label=labels.pop(0))\n",
    "    for b in bars:\n",
    "        display_score(b, color=\"w\")\n",
    "    x += 0.3\n",
    "    \n",
    "plt.xticks(ticks=np.arange(3)+0.4, labels=keys, ha=\"center\")\n",
    "    \n",
    "plt.legend()\n",
    "sns.despine(left=False)"
   ]
  },
  {
   "cell_type": "code",
   "execution_count": 14,
   "metadata": {},
   "outputs": [
    {
     "data": {
      "text/plain": [
       "Text(0.5, 1.0, 'Randomized video input')"
      ]
     },
     "execution_count": 14,
     "metadata": {},
     "output_type": "execute_result"
    },
    {
     "data": {
      "image/png": "[encoded data removed]",
      "text/plain": [
       "<Figure size 1440x360 with 2 Axes>"
      ]
     },
     "metadata": {},
     "output_type": "display_data"
    }
   ],
   "source": [
    "# Check relation between success rates and iput video durations\n",
    "f, axes = plt.subplots(1, 2, figsize=(20, 5))\n",
    "plt.rcParams.update({'font.size': 14})\n",
    "_ = plot_performance_per_duration(results, test_data, ax=axes[0])\n",
    "axes[0].set_title(\"Original video input\")\n",
    "_ = plot_performance_per_duration(randomized_results, test_data, ax=axes[1])\n",
    "axes[1].set_title(\"Randomized video input\")"
   ]
  },
  {
   "cell_type": "code",
   "execution_count": null,
   "metadata": {},
   "outputs": [],
   "source": []
  }
 ],
 "metadata": {
  "kernelspec": {
   "display_name": "Python 3",
   "language": "python",
   "name": "python3"
  },
  "language_info": {
   "codemirror_mode": {
    "name": "ipython",
    "version": 3
   },
   "file_extension": ".py",
   "mimetype": "text/x-python",
   "name": "python",
   "nbconvert_exporter": "python",
   "pygments_lexer": "ipython3",
   "version": "3.7.3"
  },
  "neptune": {
   "notebookId": "ee82b86d-2867-43a8-b0e7-8b0deed8cc29"
  }
 },
 "nbformat": 4,
 "nbformat_minor": 4
}
