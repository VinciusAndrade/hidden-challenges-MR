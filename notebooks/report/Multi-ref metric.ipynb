{
 "cells": [
  {
   "cell_type": "code",
   "execution_count": 1,
   "metadata": {},
   "outputs": [
    {
     "name": "stdout",
     "output_type": "stream",
     "text": [
      "/mnt/sda/otani/Experiments/moment_retrieval\n"
     ]
    }
   ],
   "source": [
    "cd /mnt/sda/otani/Experiments/moment_retrieval"
   ]
  },
  {
   "cell_type": "code",
   "execution_count": 2,
   "metadata": {},
   "outputs": [],
   "source": [
    "%matplotlib inline\n",
    "import matplotlib.pyplot as plt\n",
    "import pandas as pd\n",
    "import numpy as np\n",
    "from src.toolbox.eval import _tiou\n",
    "# from src.toolbox.data_converters import Charade2Instances, ActivityNetCap2Instances\n",
    "import pickle as pkl\n",
    "import json\n",
    "import os\n",
    "import random\n",
    "from scipy.spatial.distance import pdist, squareform\n",
    "from scipy.special import softmax\n",
    "\n",
    "pair_iou = lambda u, v: _tiou(u[None, :], v)"
   ]
  },
  {
   "cell_type": "code",
   "execution_count": 36,
   "metadata": {},
   "outputs": [],
   "source": [
    "def compute_avr_iou(locations):\n",
    "    ious = squareform(pdist(locations, pair_iou))\n",
    "    ious = ious[~np.eye(ious.shape[0],dtype=bool)].reshape(len(ious), -1)\n",
    "    return ious.mean(axis=-1)\n",
    "\n",
    "def get_representative(locations):\n",
    "    ious = squareform(pdist(locations, pair_iou))\n",
    "    ious = ious[~np.eye(ious.shape[0],dtype=bool)].reshape(len(ious), -1)\n",
    "    return locations[np.argmax(ious.mean(axis=-1))]\n",
    "\n",
    "def representative_metric(results, multiref_ground_truth):\n",
    "    is_positive = []\n",
    "    for query, locations, _, _ in results:\n",
    "        for gt_instance in multiref_ground_truth:\n",
    "            if query == gt_instance[0]:\n",
    "                rep_loc = get_representative(gt_instance[1])\n",
    "                iou = _tiou(np.asarray([locations[0][:2]]), rep_loc)\n",
    "                is_positive.append(max(iou) > .5)\n",
    "                break\n",
    "    return is_positive\n",
    "\n",
    "def nearest_neighbor_metric(results, multiref_ground_truth, weight_on=False):\n",
    "    is_positive = []\n",
    "    confidence = []\n",
    "    for query, locations, _, _ in results:\n",
    "        for gt_instance in multiref_ground_truth:\n",
    "            if query == gt_instance[0]:\n",
    "                ious = _tiou(gt_instance[1][:,:2], locations[0][:2])\n",
    "                is_positive.append(max(ious) > .5)\n",
    "                if weight_on:\n",
    "                    weights = compute_avr_iou(gt_instance[1][:,:2])\n",
    "                    confidence.append(weights[np.argmax(ious)]) \n",
    "                break\n",
    "    return is_positive, confidence if weight_on else is_positive\n",
    "\n",
    "def representative_metric(results, multiref_ground_truth, weight_on=False):\n",
    "    is_positive = []\n",
    "    for query, locations, _, _ in results:\n",
    "        for gt_instance in multiref_ground_truth:\n",
    "            if query == gt_instance[0]:\n",
    "                rep = get_representative(gt_instance[1][:,:2])\n",
    "                iou = _tiou(np.asarray([rep]), locations[0][:2])\n",
    "                is_positive.append(iou > .5)\n",
    "                break\n",
    "    return is_positive\n",
    "\n",
    "\n",
    "def second_nearest_neighbor_metric(results, multiref_ground_truth, weight_on=False):\n",
    "    is_positive = []\n",
    "    confidence = []\n",
    "    for query, locations, _, _ in results:\n",
    "        for gt_instance in multiref_ground_truth:\n",
    "            if query == gt_instance[0]:\n",
    "                ious = _tiou(gt_instance[1][:,:2], locations[0][:2])\n",
    "                idx_2nd_best = np.argsort(ious)[-2]\n",
    "                is_positive.append(ious[idx_2nd_best] > .5)\n",
    "                if weight_on:\n",
    "                    weights = compute_avr_iou(gt_instance[1][:,:2])\n",
    "                    confidence.append(weights[idx_2nd_best]) \n",
    "                break\n",
    "    return is_positive, confidence if weight_on else is_positive\n",
    "\n",
    "def get_representative(locations):\n",
    "    ious = squareform(pdist(locations, pair_iou))\n",
    "    ious = ious[~np.eye(ious.shape[0],dtype=bool)].reshape(len(ious), -1)\n",
    "    return locations[np.argmax(ious.mean(axis=-1))]\n",
    "\n",
    "def compute_iou_with_random_human_and_representantive(x):\n",
    "    st_perc = x[\"Answer.start\"]\n",
    "    ed_perc = x[\"Answer.end\"]\n",
    "    pred = np.vstack([st_perc, ed_perc]).T\n",
    "    \n",
    "    if np.all(pred[:,0]==pred[0,0]) and np.all(pred[:,1]==pred[0,1]):\n",
    "        return 1\n",
    "    \n",
    "    rep = get_representative(pred)\n",
    "    keep = np.any(np.vstack([(pred[:,0]!=rep[0]), (pred[:,1]!=rep[1])]), axis=0)\n",
    "    pred = pred[keep]\n",
    "    if len(pred)==0:\n",
    "        raise RuntimeError\n",
    "    pred = random.choice(pred) \n",
    "    ious = _tiou(pred[None,:], rep)\n",
    "    return ious\n",
    "\n",
    "def compute_iou_with_random_human_and_nn_reference(x):\n",
    "    st_perc = x[\"Answer.start\"]\n",
    "    ed_perc = x[\"Answer.end\"]\n",
    "    pred = np.vstack([st_perc, ed_perc]).T\n",
    "    \n",
    "    ious = squareform(pdist(pred, pair_iou))\n",
    "    ious = ious[~np.eye(ious.shape[0],dtype=bool)].reshape(len(ious), -1)\n",
    "    ious = ious.max(axis=1)\n",
    "    return random.choice(ious)"
   ]
  },
  {
   "cell_type": "markdown",
   "metadata": {},
   "source": [
    "# Evaluation on Charade-STA"
   ]
  },
  {
   "cell_type": "code",
   "execution_count": 26,
   "metadata": {},
   "outputs": [
    {
     "name": "stdout",
     "output_type": "stream",
     "text": [
      "66.8 (1.16)\n",
      "83.4 (0.89)\n"
     ]
    },
    {
     "data": {
      "image/png": "[encoded data removed]",
      "text/plain": [
       "<Figure size 432x288 with 1 Axes>"
      ]
     },
     "metadata": {
      "needs_background": "light"
     },
     "output_type": "display_data"
    }
   ],
   "source": [
    "# Randomly sampled human evaluation\n",
    "def eval_human_performance_charades():\n",
    "    data = []\n",
    "    for data_file in os.listdir(\"data/raw/AMT/charade-sta/\"):\n",
    "        if data_file.split(\".\")[-1] == 'csv':\n",
    "            data.append(pd.read_csv(f\"data/raw/AMT/charade-sta/{data_file}\"))\n",
    "    data = pd.concat(data)\n",
    "\n",
    "    for fnc in [compute_iou_with_random_human_and_representantive, compute_iou_with_random_human_and_nn_reference]:\n",
    "        metrics = []\n",
    "        for _ in range(100):\n",
    "            human_ious = data.groupby(\"HITId\").apply(fnc).values\n",
    "            r_at_1 = np.mean(np.hstack(human_ious) > .5)*100\n",
    "            metrics.append(r_at_1)\n",
    "\n",
    "        print(f'{np.mean(metrics):.1f} ({np.std(metrics):.2f})')\n",
    "        \n",
    "eval_human_performance_charades()"
   ]
  },
  {
   "cell_type": "code",
   "execution_count": 28,
   "metadata": {},
   "outputs": [],
   "source": [
    "def get_multiref_groundtruth_charade():\n",
    "    \n",
    "    data = []\n",
    "    for data_file in os.listdir(\"data/raw/AMT/charade-sta/\"):\n",
    "        if data_file.split(\".\")[-1] == 'csv':\n",
    "            data.append(pd.read_csv(f\"data/raw/AMT/charade-sta/{data_file}\"))\n",
    "    data = pd.concat(data)\n",
    "\n",
    "    multiref_ground_truth = []\n",
    "    for _, rows in data.groupby('HITId'):\n",
    "        description  = rows['Input.description'].values[0]\n",
    "        video_id = rows['Input.video_url'].values[0].split('.')[0]\n",
    "        locations = rows[['Answer.start', 'Answer.end', 'Input.length']].values\n",
    "        locations[:, :2] *= locations[0, -1]/100\n",
    "        multiref_ground_truth.append(((video_id, description), locations))\n",
    "        \n",
    "    return multiref_ground_truth"
   ]
  },
  {
   "cell_type": "code",
   "execution_count": 44,
   "metadata": {},
   "outputs": [
    {
     "name": "stdout",
     "output_type": "stream",
     "text": [
      "R_mr@1(IoU>0.5) : 24.90\n",
      "R_mr@1(IoU>0.5) : 34.50\n",
      "R_mr@1(IoU>0.5) : 18.70\n",
      "R_mr@1(IoU>0.5) : 51.70\n",
      "R_mr@1(IoU>0.5) : 59.48\n",
      "R_mr@1(IoU>0.5) : 36.50\n"
     ]
    }
   ],
   "source": [
    "multiref_ground_truth = get_multiref_groundtruth_charade()\n",
    "charade_leaderboard_representativeGT = {}\n",
    "\n",
    "for metric_fnc in [representative_metric, nearest_neighbor_metric]:\n",
    "    results = pkl.load(open(\"reports/figure_src/results/charade/2d-tan.pkl\", \"rb\"))\n",
    "    is_positive = metric_fnc(results, multiref_ground_truth)\n",
    "    print(f'R_mr@1(IoU>0.5) : {np.mean(is_positive)*100:.2f}')\n",
    "    charade_leaderboard_representativeGT[\"2D-TAN\"] = np.mean(is_positive)*100\n",
    "\n",
    "    results = pkl.load(open(\"reports/figure_src/results/charade/scdm.pkl\", \"rb\"))\n",
    "    is_positive = metric_fnc(results, multiref_ground_truth)\n",
    "    print(f'R_mr@1(IoU>0.5) : {np.mean(is_positive)*100:.2f}')\n",
    "    charade_leaderboard_representativeGT[\"SCDM\"] = np.mean(is_positive)*100\n",
    "\n",
    "    results = pkl.load(open(\"reports/figure_src/results/charade/blind(action).pkl\", \"rb\"))\n",
    "    is_positive = metric_fnc(results, multiref_ground_truth)\n",
    "    print(f'R_mr@1(IoU>0.5) : {np.mean(is_positive)*100:.2f}')\n",
    "    charade_leaderboard_representativeGT[\"Action-aware Blind\"] = np.mean(is_positive)*100"
   ]
  },
  {
   "cell_type": "code",
   "execution_count": 8,
   "metadata": {},
   "outputs": [
    {
     "name": "stdout",
     "output_type": "stream",
     "text": [
      "R_mr@1(IoU>0.5) : 51.70\n",
      "R_mrw@1(IoU>0.5) : 24.76\n",
      "R_mr@1(IoU>0.5) : 59.48\n",
      "R_mrw@1(IoU>0.5) : 30.16\n",
      "R_mr@1(IoU>0.5) : 98.20\n",
      "R_mrw@1(IoU>0.5) : 61.21\n"
     ]
    }
   ],
   "source": [
    "multiref_ground_truth = get_multiref_groundtruth_charade()\n",
    "charade_leaderboard_mr = {}\n",
    "charade_leaderboard_wmr = {}\n",
    "\n",
    "results = pkl.load(open(\"reports/figure_src/results/charade/2d-tan.pkl\", \"rb\"))\n",
    "is_positive = nearest_neighbor_metric(results, multiref_ground_truth)\n",
    "print(f'R_mr@1(IoU>0.5) : {np.mean(is_positive)*100:.2f}')\n",
    "charade_leaderboard_mr[\"2D-TAN\"] = np.mean(is_positive)*100\n",
    "\n",
    "is_positive, confidence = nearest_neighbor_metric(results, multiref_ground_truth, weight_on=True)\n",
    "print(f\"R_mrw@1(IoU>0.5) : {np.mean(np.asarray(is_positive).astype('i') * np.asarray(confidence))*100:.2f}\")\n",
    "charade_leaderboard_wmr[\"2D-TAN\"] = np.mean(np.asarray(is_positive).astype('i') * np.asarray(confidence))*100\n",
    "\n",
    "results = pkl.load(open(\"reports/figure_src/results/charade/scdm.pkl\", \"rb\"))\n",
    "is_positive = nearest_neighbor_metric(results, multiref_ground_truth)\n",
    "print(f'R_mr@1(IoU>0.5) : {np.mean(is_positive)*100:.2f}')\n",
    "charade_leaderboard_mr[\"SCDM\"] = np.mean(is_positive)*100\n",
    "\n",
    "is_positive, confidence = nearest_neighbor_metric(results, multiref_ground_truth, weight_on=True)\n",
    "print(f\"R_mrw@1(IoU>0.5) : {np.mean(np.asarray(is_positive).astype('i') * np.asarray(confidence))*100:.2f}\")\n",
    "charade_leaderboard_wmr[\"SCDM\"] = np.mean(np.asarray(is_positive).astype('i') * np.asarray(confidence))*100\n",
    "\n",
    "results = pkl.load(open(\"reports/outputs/performance/charade-sta/representative_human.pkl\", \"rb\"))\n",
    "is_positive = second_nearest_neighbor_metric(results, multiref_ground_truth)\n",
    "print(f'R_mr@1(IoU>0.5) : {np.mean(is_positive)*100:.2f}')\n",
    "charade_leaderboard_mr[\"Rep. Human\"] = np.mean(is_positive)*100\n",
    "\n",
    "is_positive, confidence = nearest_neighbor_metric(results, multiref_ground_truth, weight_on=True)\n",
    "print(f\"R_mrw@1(IoU>0.5) : {np.mean(np.asarray(is_positive).astype('i') * np.asarray(confidence))*100:.2f}\")\n",
    "charade_leaderboard_wmr[\"Rep. Human\"] = np.mean(np.asarray(is_positive).astype('i') * np.asarray(confidence))*100"
   ]
  },
  {
   "cell_type": "markdown",
   "metadata": {},
   "source": [
    "# Evaluation on ActivityNet"
   ]
  },
  {
   "cell_type": "code",
   "execution_count": 27,
   "metadata": {},
   "outputs": [
    {
     "name": "stdout",
     "output_type": "stream",
     "text": [
      "data/raw/AMT/activitynet/Batch_4007877_batch_results.csv\n",
      "data/raw/AMT/activitynet/Batch_3997812_batch_results.csv\n",
      "data/raw/AMT/activitynet/Batch_3996080_batch_results.csv\n",
      "data/raw/AMT/activitynet/Batch_3996408_batch_results.csv\n",
      "data/raw/AMT/activitynet/Batch_4001034_batch_results.csv\n",
      "52.3 (1.00)\n",
      "72.4 (1.07)\n"
     ]
    }
   ],
   "source": [
    "# Randomly sampled human evaluation\n",
    "def eval_human_performance_activitynet():\n",
    "    datas = []\n",
    "    data_root = \"data/raw/AMT/activitynet/\"\n",
    "    for file in os.listdir(data_root):\n",
    "        if file.split(\".\")[-1] != \"csv\":\n",
    "            continue\n",
    "        print(data_root+file)\n",
    "        data = pd.read_csv(data_root+file)\n",
    "        if \"Answer.error_report\" in data.columns:\n",
    "            invalid_hits = data[data[\"Answer.error_report\"] == \"video disabled\"][\"HITId\"].unique()\n",
    "            data = data[~data[\"HITId\"].isin(invalid_hits)]\n",
    "        datas.append(data[['HITId', 'WorkerId', 'Input.video_id', 'Input.start_sec', 'Input.end_sec', 'Input.length', 'Input.description', 'Answer.end', 'Answer.start']])\n",
    "    data = pd.concat(datas)\n",
    "\n",
    "    for fnc in [compute_iou_with_random_human_and_representantive, compute_iou_with_random_human_and_nn_reference]:\n",
    "        metrics = []\n",
    "        for _ in range(100):\n",
    "            human_ious = data.groupby(\"HITId\").apply(fnc).values\n",
    "            r_at_1 = np.mean(np.hstack(human_ious) > .5)*100\n",
    "            metrics.append(r_at_1)\n",
    "\n",
    "        print(f'{np.mean(metrics):.1f} ({np.std(metrics):.2f})')\n",
    "        \n",
    "eval_human_performance_activitynet()"
   ]
  },
  {
   "cell_type": "code",
   "execution_count": 40,
   "metadata": {},
   "outputs": [],
   "source": [
    "def get_multiref_groundtruth_activitynet():\n",
    "    datas = []\n",
    "    data_root = \"data/raw/AMT/activitynet/\"\n",
    "    for file in os.listdir(data_root):\n",
    "        if file.split(\".\")[-1] != \"csv\":\n",
    "            continue\n",
    "        print(data_root+file)\n",
    "        data = pd.read_csv(data_root+file)\n",
    "        if \"Answer.error_report\" in data.columns:\n",
    "            invalid_hits = data[data[\"Answer.error_report\"] == \"video disabled\"][\"HITId\"].unique()\n",
    "            data = data[~data[\"HITId\"].isin(invalid_hits)]\n",
    "        datas.append(data[['HITId', 'WorkerId', 'Input.video_id', 'Input.start_sec', 'Input.end_sec', 'Input.length', 'Input.description', 'Answer.end', 'Answer.start']])\n",
    "    data = pd.concat(datas)\n",
    "    print(len(data))\n",
    "\n",
    "    multiref_ground_truth = []\n",
    "    for _, rows in data.groupby('HITId'):\n",
    "        description  = rows['Input.description'].values[0]\n",
    "        video_id = 'v_' + rows['Input.video_id'].values[0]\n",
    "        locations = rows[['Answer.start', 'Answer.end', 'Input.length']].values\n",
    "        locations[:, :2] *= locations[0, -1]/100\n",
    "        multiref_ground_truth.append(((video_id, description), locations))\n",
    "    return multiref_ground_truth"
   ]
  },
  {
   "cell_type": "code",
   "execution_count": 41,
   "metadata": {},
   "outputs": [
    {
     "name": "stdout",
     "output_type": "stream",
     "text": [
      "data/raw/AMT/activitynet/Batch_4007877_batch_results.csv\n",
      "data/raw/AMT/activitynet/Batch_3997812_batch_results.csv\n",
      "data/raw/AMT/activitynet/Batch_3996080_batch_results.csv\n",
      "data/raw/AMT/activitynet/Batch_3996408_batch_results.csv\n",
      "data/raw/AMT/activitynet/Batch_4001034_batch_results.csv\n",
      "6440\n",
      "R_mr@1(IoU>0.5) : 36.55\n",
      "R_mr@1(IoU>0.5) : 31.17\n"
     ]
    }
   ],
   "source": [
    "multiref_ground_truth = get_multiref_groundtruth_activitynet()\n",
    "activitynet_leaderboard_representativeGT = {}\n",
    "\n",
    "results = pkl.load(open(\"reports/figure_src/results/activitynet/2d-tan.pkl\", \"rb\"))\n",
    "is_positive = representative_metric(results, multiref_ground_truth)\n",
    "print(f'R_mr@1(IoU>0.5) : {np.mean(is_positive)*100:.2f}')\n",
    "activitynet_leaderboard_representativeGT[\"2D-TAN\"] = np.mean(is_positive)*100\n",
    "\n",
    "results = pkl.load(open(\"reports/figure_src/results/activitynet/scdm.pkl\", \"rb\"))\n",
    "is_positive = representative_metric(results, multiref_ground_truth)\n",
    "print(f'R_mr@1(IoU>0.5) : {np.mean(is_positive)*100:.2f}')\n",
    "activitynet_leaderboard_representativeGT[\"SCDM\"] = np.mean(is_positive)*100"
   ]
  },
  {
   "cell_type": "code",
   "execution_count": 45,
   "metadata": {},
   "outputs": [
    {
     "name": "stdout",
     "output_type": "stream",
     "text": [
      "data/raw/AMT/activitynet/Batch_4007877_batch_results.csv\n",
      "data/raw/AMT/activitynet/Batch_3997812_batch_results.csv\n",
      "data/raw/AMT/activitynet/Batch_3996080_batch_results.csv\n",
      "data/raw/AMT/activitynet/Batch_3996408_batch_results.csv\n",
      "data/raw/AMT/activitynet/Batch_4001034_batch_results.csv\n",
      "6440\n",
      "R_mr@1(IoU>0.5) : 36.55\n",
      "R_mr@1(IoU>0.5) : 31.17\n",
      "R_mr@1(IoU>0.5) : 15.97\n",
      "R_mr@1(IoU>0.5) : 60.24\n",
      "R_mr@1(IoU>0.5) : 50.40\n",
      "R_mr@1(IoU>0.5) : 33.51\n"
     ]
    }
   ],
   "source": [
    "multiref_ground_truth = get_multiref_groundtruth_activitynet()\n",
    "leaderboard = {}\n",
    "\n",
    "for metric_fnc in [representative_metric, nearest_neighbor_metric]:\n",
    "    results = pkl.load(open(\"reports/figure_src/results/activitynet/2d-tan.pkl\", \"rb\"))\n",
    "    is_positive = metric_fnc(results, multiref_ground_truth)\n",
    "    print(f'R_mr@1(IoU>0.5) : {np.mean(is_positive)*100:.2f}')\n",
    "    leaderboard[\"2D-TAN\"] = np.mean(is_positive)*100\n",
    "\n",
    "    results = pkl.load(open(\"reports/figure_src/results/activitynet/scdm.pkl\", \"rb\"))\n",
    "    is_positive = metric_fnc(results, multiref_ground_truth)\n",
    "    print(f'R_mr@1(IoU>0.5) : {np.mean(is_positive)*100:.2f}')\n",
    "    leaderboard[\"SCDM\"] = np.mean(is_positive)*100\n",
    "\n",
    "    results = pkl.load(open(\"reports/figure_src/results/activitynet/blind(action).pkl\", \"rb\"))\n",
    "    is_positive = metric_fnc(results, multiref_ground_truth)\n",
    "    print(f'R_mr@1(IoU>0.5) : {np.mean(is_positive)*100:.2f}')\n",
    "    leaderboard[\"Action-aware Blind\"] = np.mean(is_positive)*100"
   ]
  },
  {
   "cell_type": "code",
   "execution_count": 8,
   "metadata": {},
   "outputs": [
    {
     "name": "stdout",
     "output_type": "stream",
     "text": [
      "data/raw/AMT/activitynet/Batch_4007877_batch_results.csv\n",
      "data/raw/AMT/activitynet/Batch_3997812_batch_results.csv\n",
      "data/raw/AMT/activitynet/Batch_3996080_batch_results.csv\n",
      "data/raw/AMT/activitynet/Batch_3996408_batch_results.csv\n",
      "data/raw/AMT/activitynet/Batch_4001034_batch_results.csv\n",
      "6440\n",
      "R_mr@1(IoU>0.5) : 60.24\n",
      "R_mrw@1(IoU>0.5) : 26.52\n",
      "R_mr@1(IoU>0.5) : 50.40\n",
      "R_mrw@1(IoU>0.5) : 23.36\n",
      "R_mr@1(IoU>0.5) : 95.92\n",
      "R_mrw@1(IoU>0.5) : 55.10\n"
     ]
    }
   ],
   "source": [
    "multiref_ground_truth = get_multiref_groundtruth_activitynet()\n",
    "activitynet_leaderboard_mr = {}\n",
    "activitynet_leaderboard_wmr = {}\n",
    "\n",
    "results = pkl.load(open(\"reports/figure_src/results/activitynet/2d-tan.pkl\", \"rb\"))\n",
    "is_positive = nearest_neighbor_metric(results, multiref_ground_truth)\n",
    "print(f'R_mr@1(IoU>0.5) : {np.mean(is_positive)*100:.2f}')\n",
    "activitynet_leaderboard_mr[\"2D-TAN\"] = np.mean(is_positive)*100\n",
    "\n",
    "is_positive, confidence = nearest_neighbor_metric(results, multiref_ground_truth, weight_on=True)\n",
    "print(f\"R_mrw@1(IoU>0.5) : {np.mean(np.asarray(is_positive).astype('i') * np.asarray(confidence))*100:.2f}\")\n",
    "activitynet_leaderboard_wmr[\"2D-TAN\"] = np.mean(np.asarray(is_positive).astype('i') * np.asarray(confidence))*100\n",
    "\n",
    "results = pkl.load(open(\"reports/figure_src/results/activitynet/scdm.pkl\", \"rb\"))\n",
    "is_positive = nearest_neighbor_metric(results, multiref_ground_truth)\n",
    "print(f'R_mr@1(IoU>0.5) : {np.mean(is_positive)*100:.2f}')\n",
    "activitynet_leaderboard_mr[\"SCDM\"] = np.mean(is_positive)*100\n",
    "\n",
    "is_positive, confidence = nearest_neighbor_metric(results, multiref_ground_truth, weight_on=True)\n",
    "print(f\"R_mrw@1(IoU>0.5) : {np.mean(np.asarray(is_positive).astype('i') * np.asarray(confidence))*100:.2f}\")\n",
    "activitynet_leaderboard_wmr[\"SCDM\"] = np.mean(np.asarray(is_positive).astype('i') * np.asarray(confidence))*100\n",
    "\n",
    "results = pkl.load(open(\"reports/outputs/performance/activitynet/representative_human.pkl\", \"rb\"))\n",
    "is_positive = second_nearest_neighbor_metric(results, multiref_ground_truth)\n",
    "print(f'R_mr@1(IoU>0.5) : {np.mean(is_positive)*100:.2f}')\n",
    "activitynet_leaderboard_mr[\"Rep. Human\"] = np.mean(is_positive)*100\n",
    "\n",
    "is_positive, confidence = nearest_neighbor_metric(results, multiref_ground_truth, weight_on=True)\n",
    "print(f\"R_mrw@1(IoU>0.5) : {np.mean(np.asarray(is_positive).astype('i') * np.asarray(confidence))*100:.2f}\")\n",
    "activitynet_leaderboard_wmr[\"Rep. Human\"] = np.mean(np.asarray(is_positive).astype('i') * np.asarray(confidence))*100"
   ]
  },
  {
   "cell_type": "code",
   "execution_count": 43,
   "metadata": {},
   "outputs": [
    {
     "data": {
      "image/png": "[encoded data removed]",
      "text/plain": [
       "<Figure size 1152x144 with 4 Axes>"
      ]
     },
     "metadata": {},
     "output_type": "display_data"
    }
   ],
   "source": [
    "import seaborn as sns\n",
    "\n",
    "def display_score_h(bar, ax):\n",
    "    ax.text(\n",
    "        bar.get_width()-10,\n",
    "        bar.get_y()+bar.get_height()*.5,\n",
    "        f\"{bar.get_width():.1f}\",\n",
    "        horizontalalignment=\"center\",\n",
    "        verticalalignment=\"center\",\n",
    "        fontsize=14,\n",
    "        color=\"w\"\n",
    "    )\n",
    "    \n",
    "sns.set_style(\"white\")\n",
    "f, axes = plt.subplots(1, 4, figsize=(16, 2), sharex=True, sharey=True)\n",
    "pos = np.asarray([.2, .6])\n",
    "height = 0.1\n",
    "step = 0.1\n",
    "\n",
    "done_put_label = False\n",
    "\n",
    "for i, leaderboard in enumerate([charade_leaderboard_mr, activitynet_leaderboard_mr, charade_leaderboard_wmr, activitynet_leaderboard_wmr]):\n",
    "    scores = leaderboard.values()\n",
    "    pos = np.arange(len(scores)) * 0.4\n",
    "    labels = leaderboard.keys()\n",
    "    bars = axes[i].barh(pos, scores, height=0.3, color=\"#606060\")\n",
    "    for b in bars:\n",
    "        display_score_h(b, axes[i])\n",
    "    axes[i].xaxis.grid()\n",
    "\n",
    "axes[0].set_title(\"Charade-STA\", loc=\"center\", fontsize=14)\n",
    "axes[1].set_title(\"ActivityNet Captions\", loc=\"center\", fontsize=14)\n",
    "axes[2].set_title(\"Charade-STA\", loc=\"center\", fontsize=14)\n",
    "axes[3].set_title(\"ActivityNet Captions\", loc=\"center\", fontsize=14)\n",
    "\n",
    "plt.yticks(pos+height*.5, labels)\n",
    "plt.setp(axes[0].get_yticklabels(), fontsize = 14)\n",
    "\n",
    "sns.despine(bottom=True)\n",
    "# plt.savefig(\"reports/figures/multiref_metrics/mltiref_r_at_1.pdf\", bbox_inches='tight')"
   ]
  },
  {
   "cell_type": "code",
   "execution_count": 33,
   "metadata": {},
   "outputs": [
    {
     "data": {
      "image/png": "[encoded data removed]",
      "text/plain": [
       "<Figure size 576x144 with 2 Axes>"
      ]
     },
     "metadata": {},
     "output_type": "display_data"
    }
   ],
   "source": [
    "def display_score_h(bar, ax):\n",
    "    ax.text(\n",
    "        bar.get_width()-7,\n",
    "        bar.get_y()+bar.get_height()*.5,\n",
    "        f\"{bar.get_width():.1f}\",\n",
    "        horizontalalignment=\"center\",\n",
    "        verticalalignment=\"center\",\n",
    "        fontsize=14,\n",
    "        color=\"w\"\n",
    "    )\n",
    "    \n",
    "f, axes = plt.subplots(1, 2, figsize=(8, 2), sharex=True, sharey=True)\n",
    "pos = np.asarray([.2, .6])\n",
    "height = 0.1\n",
    "step = 0.1\n",
    "\n",
    "done_put_label = False\n",
    "\n",
    "for i, leaderboard in enumerate([charade_leaderboard_wmr, activitynet_leaderboard_wmr]):\n",
    "    scores = leaderboard.values()\n",
    "    pos = np.arange(len(scores)) * 0.4\n",
    "    labels = leaderboard.keys()\n",
    "    bars = axes[i].barh(pos, scores, height=0.3, color=\"#606060\")\n",
    "    for b in bars:\n",
    "        display_score_h(b, axes[i])\n",
    "\n",
    "axes[0].set_title(\"Charade-STA\", loc=\"center\", fontsize=14)\n",
    "axes[1].set_title(\"ActivityNet Captions\", loc=\"center\", fontsize=14)\n",
    "\n",
    "axes[0].xaxis.grid()\n",
    "axes[1].xaxis.grid()\n",
    "plt.yticks([])\n",
    "\n",
    "sns.despine(bottom=True)\n",
    "plt.savefig(\"reports/figures/multiref_metrics/mltiref_weighted_r_at_1.pdf\", bbox_inches='tight')"
   ]
  },
  {
   "cell_type": "code",
   "execution_count": 68,
   "metadata": {},
   "outputs": [
    {
     "data": {
      "image/png": "[encoded data removed]",
      "text/plain": [
       "<Figure size 648x216 with 2 Axes>"
      ]
     },
     "metadata": {},
     "output_type": "display_data"
    }
   ],
   "source": [
    "import seaborn as sns\n",
    "\n",
    "def display_score_h(bar, ax):\n",
    "    ax.text(\n",
    "        bar.get_width()-9,\n",
    "        bar.get_y()+bar.get_height()*.5,\n",
    "        f\"{bar.get_width():.1f}\",\n",
    "        horizontalalignment=\"center\",\n",
    "        verticalalignment=\"center\",\n",
    "        fontsize=14,\n",
    "        color=\"w\"\n",
    "    )\n",
    "    \n",
    "sns.set_style(\"white\")\n",
    "f, axes = plt.subplots(1, 2, figsize=(9, 3), sharex=True, sharey=True)\n",
    "pos = np.asarray([.2, .6])\n",
    "height = 0.1\n",
    "step = 0.1\n",
    "\n",
    "done_put_label = False\n",
    "\n",
    "for i, leaderboard in enumerate([charade_leaderboard_mr, activitynet_leaderboard_mr, charade_leaderboard_wmr, activitynet_leaderboard_wmr]):\n",
    "    scores = leaderboard.values()\n",
    "    pos = np.arange(len(scores))*0.7 - 0.3 * (i > 1)\n",
    "    labels = leaderboard.keys()\n",
    "    color = \"#9c47ff\" if i>1 else \"#0000ba\"\n",
    "    bars = axes[i%2].barh(pos, scores, height=0.3, color=color)\n",
    "    for b in bars:\n",
    "        display_score_h(b, axes[i%2])\n",
    "\n",
    "axes[0].set_title(\"Charade-STA\", loc=\"center\", fontsize=15)\n",
    "axes[1].set_title(\"ActivityNet Captions\", loc=\"center\", fontsize=15)\n",
    "axes[0].xaxis.grid()\n",
    "axes[1].xaxis.grid()\n",
    "\n",
    "plt.yticks(pos+height*.5, labels)\n",
    "plt.setp(axes[0].get_yticklabels(), fontsize = 15)\n",
    "\n",
    "sns.despine(bottom=True)\n",
    "plt.savefig(\"reports/figures/multiref_metrics/mltiref_r_at_1.pdf\", bbox_inches='tight')"
   ]
  },
  {
   "cell_type": "code",
   "execution_count": null,
   "metadata": {},
   "outputs": [],
   "source": []
  }
 ],
 "metadata": {
  "kernelspec": {
   "display_name": "Python 3",
   "language": "python",
   "name": "python3"
  },
  "language_info": {
   "codemirror_mode": {
    "name": "ipython",
    "version": 3
   },
   "file_extension": ".py",
   "mimetype": "text/x-python",
   "name": "python",
   "nbconvert_exporter": "python",
   "pygments_lexer": "ipython3",
   "version": "3.7.3"
  }
 },
 "nbformat": 4,
 "nbformat_minor": 4
}
