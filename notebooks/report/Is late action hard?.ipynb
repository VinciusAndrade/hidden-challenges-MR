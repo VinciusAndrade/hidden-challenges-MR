{
 "cells": [
  {
   "cell_type": "markdown",
   "metadata": {},
   "source": [
    "# Most failure examples locate the latter of videos, but Why?\n",
    "\n",
    "Multilevel Language and Vision Integration for Text-to-Clip Retrieval"
   ]
  },
  {
   "cell_type": "code",
   "execution_count": 1,
   "metadata": {},
   "outputs": [
    {
     "name": "stdout",
     "output_type": "stream",
     "text": [
      "/mnt/sda/otani/Experiments/moment_retrieval\n"
     ]
    }
   ],
   "source": [
    "cd /mnt/sda/otani/Experiments/moment_retrieval/"
   ]
  },
  {
   "cell_type": "code",
   "execution_count": 2,
   "metadata": {},
   "outputs": [],
   "source": [
    "import pandas as pd\n",
    "import numpy as np\n",
    "from gensim.corpora import Dictionary\n",
    "from gensim.parsing.preprocessing import preprocess_string\n",
    "from gensim.parsing.preprocessing import strip_punctuation, stem_text, strip_multiple_whitespaces, remove_stopwords\n",
    "import json\n",
    "import pickle\n",
    "%matplotlib inline\n",
    "import matplotlib.pyplot as plt"
   ]
  },
  {
   "cell_type": "code",
   "execution_count": 3,
   "metadata": {},
   "outputs": [],
   "source": [
    "train_df = pd.read_csv('data/processed/train.csv')\n",
    "test_df = pd.read_csv('data/processed/test.csv')\n"
   ]
  },
  {
   "cell_type": "code",
   "execution_count": 107,
   "metadata": {},
   "outputs": [],
   "source": [
    "def _tiou(pred, gt):\n",
    "    inter_left = np.maximum(pred[:,0], gt[0])\n",
    "    inter_right = np.minimum(pred[:,1], gt[1])\n",
    "    inter = np.maximum(0.0, inter_right - inter_left)\n",
    "    union_left = np.minimum(pred[:,0], gt[0])\n",
    "    union_right = np.maximum(pred[:,1], gt[1])\n",
    "    union = np.maximum(0.0, union_right - union_left)\n",
    "    return 1.0 * inter / union\n",
    "\n",
    "def _nms(dets, scores, thresh=0.4):\n",
    "    \"\"\"Pure Python NMS baseline.\"\"\"\n",
    "    if len(dets) == 0: return []\n",
    "    x1 = dets[:, 0]\n",
    "    x2 = dets[:, 1]\n",
    "    scores = scores\n",
    "    lengths = x2 - x1\n",
    "    order = scores.argsort()[::-1]\n",
    "    keep = []\n",
    "    while order.size > 0:\n",
    "        i = order[0]\n",
    "        keep.append(i)\n",
    "        xx1 = np.maximum(x1[i], x1[order[1:]])\n",
    "        xx2 = np.minimum(x2[i], x2[order[1:]])\n",
    "        inter = np.maximum(0.0, xx2 - xx1)\n",
    "        ovr = inter / (lengths[i] + lengths[order[1:]] - inter)\n",
    "        inds = np.where(ovr <= thresh)[0]\n",
    "        order = order[inds + 1]\n",
    "    return keep\n",
    "\n",
    "def compute_eval(preds, gts, thresh=0.1, recall=[1]):\n",
    "    results = {}\n",
    "    for key, val in preds.items():\n",
    "        queries = val[0]['query']\n",
    "        gt_key = key\n",
    "        gt = gts[gt_key]\n",
    "        proposals = np.empty((0,2))\n",
    "        scores = np.empty((queries.shape[0], 0))\n",
    "\n",
    "        for item in val:\n",
    "            proposals = np.vstack((proposals, item['timestamp'][:,:2]))\n",
    "            scores = np.hstack((scores, item['sim_scores']))\n",
    "\n",
    "        recall_queries = []\n",
    "        for i,q in enumerate(queries):\n",
    "            keep = _nms(proposals, scores[i], thresh=thresh-0.05)[:max(recall)]\n",
    "            gt_win = gt['timestamps'][i]\n",
    "            pred_win = proposals[keep]\n",
    "            overlap = _tiou(pred_win, gt_win)\n",
    "            recall_queries.append([(overlap > thresh)[:d].any() for d in recall])\n",
    "        results[gt_key] = recall_queries\n",
    "        \n",
    "    return results\n",
    "\n",
    "def compute_eval_wo_invalid_proposals(preds, gts, durations, thresh=0.1, recall=[1]):\n",
    "    results = {}\n",
    "    for key, val in preds.items():\n",
    "        queries = val[0]['query']\n",
    "        gt_key = key\n",
    "        gt = gts[gt_key]\n",
    "        proposals = np.empty((0,2))\n",
    "        scores = np.empty((queries.shape[0], 0))\n",
    "\n",
    "        for item in val:\n",
    "            proposals = np.vstack((proposals, item['timestamp'][:,:2]))\n",
    "            scores = np.hstack((scores, item['sim_scores']))\n",
    "\n",
    "        is_valid = (proposals[:, 0] < proposals[:, 1]) & (proposals[:, 1] < durations[key])\n",
    "        proposals = proposals[is_valid]\n",
    "        scores = scores[:, is_valid]\n",
    "\n",
    "        recall_queries = []\n",
    "        for i,q in enumerate(queries):\n",
    "            keep = _nms(proposals, scores[i], thresh=thresh-0.05)[:max(recall)]\n",
    "            gt_win = gt['timestamps'][i]\n",
    "            pred_win = proposals[keep]\n",
    "            overlap = _tiou(pred_win, gt_win)\n",
    "            recall_queries.append([(overlap > thresh)[:d].any() for d in recall])\n",
    "        results[gt_key] = recall_queries\n",
    "        \n",
    "    return results\n",
    "\n",
    "def compute_eval_with_random_scores(preds, gts, thresh=0.1, recall=[1]):\n",
    "    results = {}\n",
    "    for key, val in preds.items():\n",
    "        queries = val[0]['query']\n",
    "        gt_key = key\n",
    "        gt = gts[gt_key]\n",
    "        proposals = np.empty((0,2))\n",
    "        scores = np.empty((queries.shape[0], 0))\n",
    "\n",
    "        for item in val:\n",
    "            proposals = np.vstack((proposals, item['timestamp'][:,:2]))\n",
    "            scores = np.hstack((scores, item['sim_scores']))\n",
    "        \n",
    "        scores = np.random.random(scores.shape)\n",
    "\n",
    "        recall_queries = []\n",
    "        for i,q in enumerate(queries):\n",
    "            keep = _nms(proposals, scores[i], thresh=thresh-0.05)[:max(recall)]\n",
    "            gt_win = gt['timestamps'][i]\n",
    "            pred_win = proposals[keep]\n",
    "            overlap = _tiou(pred_win, gt_win)\n",
    "            recall_queries.append([(overlap > thresh)[:d].any() for d in recall])\n",
    "        results[gt_key] = recall_queries\n",
    "        \n",
    "    return results"
   ]
  },
  {
   "cell_type": "code",
   "execution_count": 64,
   "metadata": {},
   "outputs": [],
   "source": [
    "preds = pickle.load(open('data/external/sim_iter_5000.p', 'rb'), encoding='latin1')\n",
    "gts = json.load(open('data/external/caption_gt_test.json'))\n",
    "recall_at = [1, 5, 10]\n",
    "# results = computer_eval(preds, gts, 0.5, recall_at)"
   ]
  },
  {
   "cell_type": "code",
   "execution_count": 65,
   "metadata": {},
   "outputs": [],
   "source": [
    "def get_results(preds, gts, thresh=0.1, recall=[1]):\n",
    "    results = {}\n",
    "    for key, val in preds.items():\n",
    "        queries = val[0]['query']\n",
    "        gt_key = key\n",
    "        gt = gts[gt_key]\n",
    "        proposals = np.empty((0,2))\n",
    "        scores = np.empty((queries.shape[0], 0))\n",
    "\n",
    "        for item in val:\n",
    "            proposals = np.vstack((proposals, item['timestamp'][:,:2]))\n",
    "            scores = np.hstack((scores, item['sim_scores']))\n",
    "\n",
    "        recall_queries = []\n",
    "        pred_wins = []\n",
    "        for i,q in enumerate(queries):\n",
    "            keep = _nms(proposals, scores[i], thresh=thresh-0.05)[:max(recall)]\n",
    "            gt_win = gt['timestamps'][i]\n",
    "            pred_win = proposals[keep]\n",
    "            overlap = _tiou(pred_win, gt_win)\n",
    "            recall_queries.append([(overlap > thresh)[:d].any() for d in recall])\n",
    "            pred_wins.append(pred_win[:max(recall)])\n",
    "            \n",
    "        results[gt_key] = {\n",
    "            'result': recall_queries,\n",
    "            'sentences': gt['sentences'],\n",
    "            'timestamp': gt['timestamps'],\n",
    "            'pred': pred_wins\n",
    "        }\n",
    "        \n",
    "    return results"
   ]
  },
  {
   "cell_type": "code",
   "execution_count": 124,
   "metadata": {},
   "outputs": [
    {
     "name": "stdout",
     "output_type": "stream",
     "text": [
      "Early R@1: 0.33\n",
      "Early R@5: 0.77\n",
      "Early R@10: 0.93\n",
      "#Early: 2260\n",
      "Late R@1: 0.35\n",
      "Late R@5: 0.69\n",
      "Late R@10: 0.77\n",
      "#Late: 793\n"
     ]
    }
   ],
   "source": [
    "def evaluation_for_early_and_late_moments():\n",
    "    preds = pickle.load(open('data/external/sim_iter_5000.p', 'rb'), encoding='latin1')\n",
    "    gts = json.load(open('data/external/caption_gt_test.json'))\n",
    "    recall_at = [1, 5, 10]\n",
    "    test_df = pd.read_csv('data/processed/test.csv')\n",
    "\n",
    "    pred_results = get_results(preds, gts, 0.5, recall_at)\n",
    "\n",
    "    early = {}\n",
    "    late = {}\n",
    "    for k, v in pred_results.items():\n",
    "        duration = test_df[test_df.id==k].length.values[0]\n",
    "        timestamp = v['timestamp']\n",
    "        norm_timestamp = np.asarray(timestamp) / duration\n",
    "\n",
    "        pred_win = v['pred']\n",
    "        query = v[\"sentences\"]\n",
    "        result = v[\"result\"]\n",
    "\n",
    "        for i, s in enumerate(norm_timestamp[:, 0]):\n",
    "            item = {\n",
    "                'query': query[i], \n",
    "                'timestamp': timestamp[i], \n",
    "                'pred': pred_win[i], \n",
    "                'is_success': result[i]}\n",
    "\n",
    "            if s < .4: # early actions\n",
    "                early.setdefault(k, []).append(item)\n",
    "            elif s > .6:\n",
    "                late.setdefault(k, []).append(item)\n",
    "    \n",
    "    for i in range(3):\n",
    "        early_res = []\n",
    "        for k, items in early.items():\n",
    "            early_res += [v['is_success'][i] for v in items]\n",
    "\n",
    "        print(f\"Early R@{recall_at[i]}: {np.mean(early_res):.2f}\")\n",
    "    \n",
    "    print(f\"#Early: {len(early_res)}\")\n",
    "    \n",
    "    for i in range(3):\n",
    "        late_res = []\n",
    "        for k, items in late.items():\n",
    "            late_res += [v['is_success'][i] for v in items]\n",
    "\n",
    "        print(f\"Late R@{recall_at[i]}: {np.mean(late_res):.2f}\")\n",
    "    \n",
    "    print(f\"#Late: {len(late_res)}\")\n",
    "    \n",
    "evaluation_for_early_and_late_moments()"
   ]
  },
  {
   "cell_type": "markdown",
   "metadata": {},
   "source": [
    "# How does the model fail"
   ]
  },
  {
   "cell_type": "code",
   "execution_count": 119,
   "metadata": {},
   "outputs": [
    {
     "data": {
      "image/png": "[encoded data removed]",
      "text/plain": [
       "<Figure size 720x360 with 2 Axes>"
      ]
     },
     "metadata": {
      "needs_background": "light"
     },
     "output_type": "display_data"
    }
   ],
   "source": [
    "def check_gap():\n",
    "    preds = pickle.load(open('data/external/sim_iter_5000.p', 'rb'), encoding='latin1')\n",
    "    gts = json.load(open('data/external/caption_gt_test.json'))\n",
    "    recall_at = [1, 5, 10]\n",
    "    test_df = pd.read_csv('data/processed/test.csv')\n",
    "    \n",
    "    pred_results = get_results(preds, gts, 0.5, recall_at)\n",
    "    pred_s = []\n",
    "    pred_e = []\n",
    "    gt_s = []\n",
    "    gt_e = []\n",
    "    for k, v in pred_results.items():\n",
    "        duration = test_df[test_df.id==k].length.values[0]\n",
    "        timestamp = v['timestamp']\n",
    "        norm_timestamp = np.asarray(timestamp) / duration\n",
    "\n",
    "        for i, gt in enumerate(norm_timestamp):\n",
    "            pred_wins = v[\"pred\"][i] / duration\n",
    "            pred_s.append(pred_wins[0, 0])\n",
    "            pred_e.append(pred_wins[0, 1])\n",
    "            gt_s.append(gt[0])\n",
    "            gt_e.append(gt[1])\n",
    "            \n",
    "    \n",
    "    f, axes = plt.subplots(1, 2, figsize=(10, 5))\n",
    "    axes[0].scatter(gt_s, pred_s)\n",
    "    axes[0].set_xlabel(\"GT start\")\n",
    "    axes[0].set_ylabel(\"Predicted start\")\n",
    "    axes[0].set_xlim(0, 1)\n",
    "    axes[0].set_ylim(0, 1)\n",
    "    \n",
    "    axes[1].scatter(gt_e, pred_e)\n",
    "    axes[1].set_xlabel(\"GT end\")\n",
    "    axes[1].set_ylabel(\"Predicted end\")\n",
    "    axes[1].set_xlim(0, 1)\n",
    "    axes[1].set_ylim(0, 1)\n",
    "    \n",
    "    plt.show()\n",
    "\n",
    "check_gap()"
   ]
  },
  {
   "cell_type": "markdown",
   "metadata": {},
   "source": [
    "# There are many invalid proposals. What is the performance score after removing them?"
   ]
  },
  {
   "cell_type": "code",
   "execution_count": 108,
   "metadata": {},
   "outputs": [
    {
     "name": "stdout",
     "output_type": "stream",
     "text": [
      "Default evaluation\n",
      "R@1: 0.33\n",
      "R@5: 0.75\n",
      "R@10: 0.90\n",
      "Evaluation without invalid proposals\n",
      "R@1: 0.33\n",
      "R@5: 0.75\n",
      "R@10: 0.90\n",
      "Evaluation with random scores\n",
      "R@1: 0.10\n",
      "R@5: 0.43\n",
      "R@10: 0.67\n"
     ]
    }
   ],
   "source": [
    "def run_evaluation():\n",
    "    preds = pickle.load(open('data/external/sim_iter_5000.p', 'rb'), encoding='latin1')\n",
    "    gts = json.load(open('data/external/caption_gt_test.json'))\n",
    "    recall_at = [1, 5, 10]\n",
    "    test_df = pd.read_csv('data/processed/test.csv')\n",
    "\n",
    "    print(\"Default evaluation\")\n",
    "    results = compute_eval(preds, gts, 0.5, recall_at)\n",
    "    results = np.vstack([v for v in results.values()])\n",
    "    r_at_k = results.mean(axis=0)\n",
    "    for i, v in zip(recall_at, r_at_k):\n",
    "        print(f\"R@{i}: {v:.2f}\")\n",
    "\n",
    "    print(\"Evaluation without invalid proposals\")\n",
    "    durations = {row.id: row.length for _, row in test_df.iterrows()}\n",
    "    results = compute_eval_wo_invalid_proposals(preds, gts, durations, 0.5, recall_at)\n",
    "    results = np.vstack([v for v in results.values()])\n",
    "    r_at_k = results.mean(axis=0)\n",
    "    for i, v in zip(recall_at, r_at_k):\n",
    "        print(f\"R@{i}: {v:.2f}\")\n",
    "        \n",
    "    print(\"Evaluation with random scores\")\n",
    "    results = compute_eval_with_random_scores(preds, gts, 0.5, recall_at)\n",
    "    results = np.vstack([v for v in results.values()])\n",
    "    r_at_k = results.mean(axis=0)\n",
    "    for i, v in zip(recall_at, r_at_k):\n",
    "        print(f\"R@{i}: {v:.2f}\")\n",
    "        \n",
    "run_evaluation()"
   ]
  },
  {
   "cell_type": "code",
   "execution_count": 162,
   "metadata": {},
   "outputs": [
    {
     "name": "stdout",
     "output_type": "stream",
     "text": [
      "the person takes out their phone.\n",
      "[34.0, 39.0]\n",
      "[[23.1036911  32.11021805]\n",
      " [16.83517075 28.44540977]\n",
      " [27.27386284 33.9145546 ]]\n"
     ]
    },
    {
     "data": {
      "text/html": [
       "<video src=\"http://localhost:8888/files/data/raw/video/HXUI5.mp4\" controls  >\n",
       "      Your browser does not support the <code>video</code> element.\n",
       "    </video>"
      ],
      "text/plain": [
       "<IPython.core.display.Video object>"
      ]
     },
     "execution_count": 162,
     "metadata": {},
     "output_type": "execute_result"
    }
   ],
   "source": [
    "from IPython.display import Video\n",
    "\n",
    "video_id = random.choice(list(failure.keys()))\n",
    "q = failure[video_id][0]['query']\n",
    "ts = failure[video_id][0]['timestamp']\n",
    "pred = failure[video_id][0]['pred']\n",
    "\n",
    "print(q)\n",
    "print(ts)\n",
    "print(pred[:3])\n",
    "Video(f'http://localhost:8888/files/data/raw/video/{video_id}.mp4')"
   ]
  },
  {
   "cell_type": "markdown",
   "metadata": {},
   "source": [
    "# Results:\n",
    "\n",
    "## Fails when a target moment has low prior\n",
    "The model fails when ground truth moments start at a point close to the end of the video.\n",
    "\n",
    "How can the model generalize to such samples?\n",
    "\n",
    "- downsampling\n",
    "- ???\n",
    "\n",
    "## Many failure predictions seem to be fair\n",
    "Many samples' Temporal IoU is slightly below 0.5.\n",
    "\n",
    "R@K with IoU thresholding may be too strict"
   ]
  },
  {
   "cell_type": "code",
   "execution_count": 125,
   "metadata": {},
   "outputs": [
    {
     "data": {
      "text/plain": [
       "Text(0.5, 1.0, 'Maximum IoU of top 10 predictions (success)')"
      ]
     },
     "execution_count": 125,
     "metadata": {},
     "output_type": "execute_result"
    },
    {
     "data": {
      "image/png": "[encoded data removed]",
      "text/plain": [
       "<Figure size 864x288 with 2 Axes>"
      ]
     },
     "metadata": {
      "needs_background": "light"
     },
     "output_type": "display_data"
    }
   ],
   "source": [
    "f, axes = plt.subplots(1, 2, sharey=True, figsize=(12, 4))\n",
    "\n",
    "iou_scores = []\n",
    "for k, item in failure.items():\n",
    "    for x in item:\n",
    "        pred = x['pred']\n",
    "        ts = x['timestamp']\n",
    "        iou_scores.append(_tiou(pred, ts).max())\n",
    "        \n",
    "axes[0].hist(iou_scores, bins=30)\n",
    "axes[0].set_title('Maximum IoU of top 10 predictions (failure)')\n",
    "\n",
    "iou_scores = []\n",
    "for k, item in success.items():\n",
    "    for x in item:\n",
    "        pred = x['pred']\n",
    "        ts = x['timestamp']\n",
    "        iou_scores.append(_tiou(pred, ts).max())\n",
    "        \n",
    "axes[1].hist(iou_scores, bins=30)\n",
    "axes[1].set_title('Maximum IoU of top 10 predictions (success)')"
   ]
  },
  {
   "cell_type": "markdown",
   "metadata": {},
   "source": [
    "# Video duration?\n",
    "The authro implementation truncate the video to 768 frames (5fps) == 153.6 sec."
   ]
  },
  {
   "cell_type": "code",
   "execution_count": 148,
   "metadata": {},
   "outputs": [
    {
     "data": {
      "text/plain": [
       "Text(0.5, 1.0, 'Failure')"
      ]
     },
     "execution_count": 148,
     "metadata": {},
     "output_type": "execute_result"
    },
    {
     "data": {
      "image/png": "[encoded data removed]",
      "text/plain": [
       "<Figure size 720x288 with 2 Axes>"
      ]
     },
     "metadata": {
      "needs_background": "light"
     },
     "output_type": "display_data"
    }
   ],
   "source": [
    "f, axes = plt.subplots(1, 2, figsize=(10,4))\n",
    "\n",
    "durations = []\n",
    "for video_id in success.keys():\n",
    "    durations.append(test_df[test_df.id == video_id]['length'].values[0])\n",
    "\n",
    "axes[0].hist(durations, bins=30)\n",
    "axes[0].set_title('Success')\n",
    "\n",
    "durations = []\n",
    "for video_id in failure.keys():\n",
    "    durations.append(test_df[test_df.id == video_id]['length'].values[0])\n",
    "\n",
    "axes[1].hist(durations, bins=30)\n",
    "axes[1].set_title('Failure')"
   ]
  },
  {
   "cell_type": "markdown",
   "metadata": {},
   "source": [
    "# Caption length?"
   ]
  },
  {
   "cell_type": "code",
   "execution_count": 150,
   "metadata": {},
   "outputs": [
    {
     "data": {
      "text/plain": [
       "Text(0.5, 1.0, 'Failure')"
      ]
     },
     "execution_count": 150,
     "metadata": {},
     "output_type": "execute_result"
    },
    {
     "data": {
      "image/png": "[encoded data removed]",
      "text/plain": [
       "<Figure size 720x288 with 2 Axes>"
      ]
     },
     "metadata": {
      "needs_background": "light"
     },
     "output_type": "display_data"
    }
   ],
   "source": [
    "f, axes = plt.subplots(1, 2, figsize=(10,4), sharex=True)\n",
    "\n",
    "query_len = []\n",
    "for _, items in success.items():\n",
    "    for item in items:\n",
    "        n_q = len(item['query'].split())\n",
    "        query_len.append(n_q)\n",
    "        \n",
    "axes[0].hist(query_len, bins=30)\n",
    "axes[0].set_title('Success')\n",
    "\n",
    "query_len = []\n",
    "for _, items in failure.items():\n",
    "    for item in items:\n",
    "        n_q = len(item['query'].split())\n",
    "        query_len.append(n_q)\n",
    "        \n",
    "axes[1].hist(query_len, bins=30)\n",
    "axes[1].set_title('Failure')"
   ]
  },
  {
   "cell_type": "code",
   "execution_count": 154,
   "metadata": {},
   "outputs": [],
   "source": [
    "s_queries = []\n",
    "for _, items in success.items():\n",
    "    for item in items:\n",
    "        q = item['query']\n",
    "        s_queries.append(q)\n",
    "\n",
    "f_queries = []\n",
    "for _, items in failure.items():\n",
    "    for item in items:\n",
    "        q = item['query']\n",
    "        f_queries.append(q)"
   ]
  },
  {
   "cell_type": "code",
   "execution_count": 155,
   "metadata": {},
   "outputs": [
    {
     "data": {
      "text/plain": [
       "['person turn a light on.',\n",
       " 'person flipped the light switch near the door.',\n",
       " 'person turn the light switch on.',\n",
       " 'person is playing with the switch for the light.',\n",
       " 'a person sits down reading a book.',\n",
       " 'a person sits at a table reading a book intensely.',\n",
       " 'the person puts down the bag.',\n",
       " 'person they open a cabinet.',\n",
       " 'person opens the door.',\n",
       " 'person opened a cabinet door.',\n",
       " 'a person walks through the doorway.',\n",
       " 'a person opens the door.',\n",
       " 'person closes the door.',\n",
       " 'person closing the door.',\n",
       " 'person runs up the stairs.',\n",
       " 'a person watches another run up some stairs.',\n",
       " 'person puts the cup on a table.',\n",
       " 'person drank from the glass,put the glass down.',\n",
       " 'person he eats something out of his hand.',\n",
       " 'a person is eating a snack.',\n",
       " 'person runs to the window to look out.',\n",
       " 'a person sits in a chair.',\n",
       " 'person runs to the window.',\n",
       " 'person runs to the door.',\n",
       " 'a person sits on a chair.',\n",
       " 'the person sits in the chair momentarily.',\n",
       " 'this person puts the pillow down.',\n",
       " 'person puts the pillow down.',\n",
       " 'a person stands in the bathroom holding a glass.',\n",
       " 'the person takes a bag from the bottom cabinet.']"
      ]
     },
     "execution_count": 155,
     "metadata": {},
     "output_type": "execute_result"
    }
   ],
   "source": [
    "s_queries[:30]"
   ]
  },
  {
   "cell_type": "code",
   "execution_count": 156,
   "metadata": {},
   "outputs": [
    {
     "data": {
      "text/plain": [
       "['takes a box from the other person.',\n",
       " 'a person awakens in their sofa.',\n",
       " 'person takes a drink from a coffee cup.',\n",
       " 'the person opens the bag.',\n",
       " 'person is lying on bed sneezing.',\n",
       " 'person drinking from a cup.',\n",
       " 'person drinking from a glass.',\n",
       " 'person sits on the table.',\n",
       " 'person puts the shoes on the floor.',\n",
       " 'person takes a drink from a glass.',\n",
       " 'person sitting on the floor.',\n",
       " 'person sit down in a chair.',\n",
       " 'person sits in a chair.',\n",
       " 'person sit in a chair.',\n",
       " 'person they close the box.',\n",
       " \"the person closes a box that's been searched through.\",\n",
       " 'person open a cabinet door.',\n",
       " 'person their phone rings so they close the fridge door.',\n",
       " 'person working on a laptop.',\n",
       " 'person drinking out of a cup.',\n",
       " 'the person is holding a cup.',\n",
       " 'a person is eating.',\n",
       " 'person awakening.',\n",
       " 'person drinking from a glass of water.',\n",
       " 'person removes a snack to eat.',\n",
       " 'the person is closing the door.',\n",
       " 'the person fixes some messy homework papers on the table.',\n",
       " 'person walk out the doorway.',\n",
       " 'a person is looking out the window.',\n",
       " 'a person is tidying some books on a shelf.']"
      ]
     },
     "execution_count": 156,
     "metadata": {},
     "output_type": "execute_result"
    }
   ],
   "source": [
    "f_queries[:30]"
   ]
  },
  {
   "cell_type": "markdown",
   "metadata": {},
   "source": [
    "# Meeting Note\n",
    "\n",
    "- なぜ失敗例は後半に来るのか？後半のアクションのうち何％が失敗するか調べる。\n",
    "- action, nounのリストを確認する\n",
    "- video representation試す（scene graph, convolutional LSTM, ...）\n",
    "\n",
    "paper list:\n",
    "\n",
    "- https://arxiv.org/abs/1908.03706\n",
    "- https://arxiv.org/abs/1912.06430\n",
    "- https://arxiv.org/pdf/1904.03498.pdf\n",
    "- https://arxiv.org/pdf/1904.01766.pdf\n"
   ]
  }
 ],
 "metadata": {
  "kernelspec": {
   "display_name": "Python 3",
   "language": "python",
   "name": "python3"
  },
  "language_info": {
   "codemirror_mode": {
    "name": "ipython",
    "version": 3
   },
   "file_extension": ".py",
   "mimetype": "text/x-python",
   "name": "python",
   "nbconvert_exporter": "python",
   "pygments_lexer": "ipython3",
   "version": "3.7.3"
  }
 },
 "nbformat": 4,
 "nbformat_minor": 4
}
