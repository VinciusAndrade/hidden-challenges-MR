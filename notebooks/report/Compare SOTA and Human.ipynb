{
 "cells": [
  {
   "cell_type": "code",
   "execution_count": 4,
   "metadata": {},
   "outputs": [
    {
     "name": "stdout",
     "output_type": "stream",
     "text": [
      "/mnt/sda/otani/Experiments/moment_retrieval\n"
     ]
    }
   ],
   "source": [
    "cd /mnt/sda/otani/Experiments/moment_retrieval"
   ]
  },
  {
   "cell_type": "code",
   "execution_count": 7,
   "metadata": {},
   "outputs": [],
   "source": [
    "%matplotlib inline\n",
    "from typing import List, Tuple, Dict, Callable\n",
    "Query = Tuple[str, str]\n",
    "Location = Tuple[float, float, float]  # start(sec.), end(sec.), length(sec.)\n",
    "Instance = Tuple[Query, Location]\n",
    "Rating = List[float]\n",
    "Prediction = Tuple[Query, List[Location], Rating]\n",
    "Result = Tuple[Query, List[Location], Rating, dict]\n",
    "\n",
    "import pandas as pd\n",
    "import numpy as np\n",
    "import spacy\n",
    "import matplotlib.pyplot as plt\n",
    "from src.toolbox.utils import _nms, sentence2token\n",
    "from src.toolbox.eval import evaluate, location_error, accumulate_metrics, categorize_results, summarize_results_per_class\n",
    "from src.toolbox.baseline import predict\n",
    "from src.toolbox.utils import _nms\n",
    "from src.toolbox.visualization import plot_performance_per_class\n",
    "from src.toolbox.data_converters import CharadesSTA2Instances, ActivityNetCap2Instances\n",
    "from src.toolbox.baseline import SegmentGeneratorKDE\n",
    "import seaborn as sns\n",
    "sns.set()\n",
    "import json\n",
    "import pickle as pkl"
   ]
  },
  {
   "cell_type": "markdown",
   "metadata": {},
   "source": [
    "# Human and SOTA performance on Charade-STA"
   ]
  },
  {
   "cell_type": "code",
   "execution_count": 11,
   "metadata": {},
   "outputs": [],
   "source": [
    "def performance_comparison_charade():\n",
    "    test_data = CharadesSTA2Instances(pd.read_csv('data/processed/test.csv'))\n",
    "    result_2dtan = pkl.load(open(\"reports/figure_src/results/charade/2d-tan.pkl\", \"rb\"))\n",
    "    result_scdm = pkl.load(open(\"reports/figure_src/results/charade/scdm.pkl\", \"rb\"))\n",
    "    result_human = pkl.load(open(\"reports/outputs/performance/charade-sta/representative_human.pkl\", \"rb\"))\n",
    "    result_rand_human = json.load(open('reports/outputs/performance/charade-sta/random_sample_human.json'))\n",
    "    \n",
    "    subresult_2dtan = []\n",
    "    for item in result_2dtan:\n",
    "        for key, _, _, _ in result_human:\n",
    "            if key == item[0]:\n",
    "                subresult_2dtan.append(item)\n",
    "                break\n",
    "\n",
    "    subresult_scdm = []\n",
    "    for item in result_scdm:\n",
    "        for key, _, _, _ in result_human:\n",
    "            if key == item[0]:\n",
    "                subresult_scdm.append(item)\n",
    "                break\n",
    "\n",
    "    leaderboard = {\n",
    "        \"SCDM\": (accumulate_metrics(subresult_scdm)['R@1 IoU>0.5']*100, 0),\n",
    "        \"2D-TAN\": (accumulate_metrics(subresult_2dtan)['R@1 IoU>0.5']*100, 0),\n",
    "        \"Human\": (np.mean(result_rand_human['R@1 IoU>0.5']), np.std(result_rand_human['R@1 IoU>0.5'])),\n",
    "        \"Rep. Human\": (accumulate_metrics(result_human)['R@1 IoU>0.5']*100, 0),\n",
    "    }\n",
    "    return leaderboard"
   ]
  },
  {
   "cell_type": "markdown",
   "metadata": {},
   "source": [
    "# Human and SOTA performance on ActivityNet"
   ]
  },
  {
   "cell_type": "code",
   "execution_count": 9,
   "metadata": {},
   "outputs": [],
   "source": [
    "def performance_comparison_activitynet():\n",
    "    raw_data = json.load(open(\"data/raw/ActivityNet/val_2.json\"))\n",
    "    test_data = ActivityNetCap2Instances(raw_data)\n",
    "    result_2dtan = pkl.load(open(\"reports/figure_src/results/activitynet/2d-tan.pkl\", \"rb\"))\n",
    "    result_scdm = pkl.load(open(\"reports/figure_src/results/activitynet/scdm.pkl\", \"rb\"))\n",
    "    result_human = pkl.load(open(\"reports/outputs/performance/activitynet/representative_human.pkl\", \"rb\"))\n",
    "    result_rand_human = json.load(open('reports/outputs/performance/activitynet/random_sample_human.json'))\n",
    "    \n",
    "    subresult_2dtan = []\n",
    "    for item in result_2dtan:\n",
    "        for key, _, _, _ in result_human:\n",
    "            if key == item[0]:\n",
    "                subresult_2dtan.append(item)\n",
    "                break\n",
    "\n",
    "    subresult_scdm = []\n",
    "    for item in result_scdm:\n",
    "        for key, _, _, _ in result_human:\n",
    "            if key == item[0]:\n",
    "                subresult_scdm.append(item)\n",
    "                break\n",
    "\n",
    "    leaderboard = {\n",
    "        \"SCDM\": (accumulate_metrics(subresult_scdm)['R@1 IoU>0.5']*100, 0),\n",
    "        \"2D-TAN\": (accumulate_metrics(subresult_2dtan)['R@1 IoU>0.5']*100, 0),\n",
    "        \"Human\": (np.mean(result_rand_human['R@1 IoU>0.5']), np.std(result_rand_human['R@1 IoU>0.5'])),\n",
    "        \"Rep. Human\": (accumulate_metrics(result_human)['R@1 IoU>0.5']*100, 0),\n",
    "    }\n",
    "    return leaderboard"
   ]
  },
  {
   "cell_type": "code",
   "execution_count": 12,
   "metadata": {},
   "outputs": [
    {
     "name": "stdout",
     "output_type": "stream",
     "text": [
      "R@1 IoU>0.3 0.65\n",
      "R@1 IoU>0.5 0.52\n",
      "R@1 IoU>0.7 0.30\n",
      "R@5 IoU>0.3 0.80\n",
      "R@5 IoU>0.5 0.71\n",
      "R@5 IoU>0.7 0.55\n",
      "R@10 IoU>0.3 0.88\n",
      "R@10 IoU>0.5 0.81\n",
      "R@10 IoU>0.7 0.63\n",
      "R@1 IoU>0.3 0.56\n",
      "R@1 IoU>0.5 0.40\n",
      "R@1 IoU>0.7 0.22\n",
      "R@5 IoU>0.3 0.91\n",
      "R@5 IoU>0.5 0.78\n",
      "R@5 IoU>0.7 0.50\n",
      "R@10 IoU>0.3 0.91\n",
      "R@10 IoU>0.5 0.78\n",
      "R@10 IoU>0.7 0.50\n",
      "R@1 IoU>0.5 0.52\n"
     ]
    }
   ],
   "source": [
    "charade_leaderboard = performance_comparison_charade()"
   ]
  },
  {
   "cell_type": "code",
   "execution_count": 8,
   "metadata": {},
   "outputs": [
    {
     "name": "stdout",
     "output_type": "stream",
     "text": [
      "R@1 IoU>0.3 0.56\n",
      "R@1 IoU>0.5 0.36\n",
      "R@1 IoU>0.7 0.20\n",
      "R@5 IoU>0.3 0.82\n",
      "R@5 IoU>0.5 0.68\n",
      "R@5 IoU>0.7 0.44\n",
      "R@10 IoU>0.3 0.82\n",
      "R@10 IoU>0.5 0.68\n",
      "R@10 IoU>0.7 0.44\n",
      "R@1 IoU>0.3 0.59\n",
      "R@1 IoU>0.5 0.45\n",
      "R@1 IoU>0.7 0.29\n",
      "R@5 IoU>0.3 0.87\n",
      "R@5 IoU>0.5 0.78\n",
      "R@5 IoU>0.7 0.64\n",
      "R@10 IoU>0.3 0.87\n",
      "R@10 IoU>0.5 0.78\n",
      "R@10 IoU>0.7 0.64\n",
      "R@1 IoU>0.5 0.44\n"
     ]
    }
   ],
   "source": [
    "activitynet_leaderboard = performance_comparison_activitynet()"
   ]
  },
  {
   "cell_type": "code",
   "execution_count": 23,
   "metadata": {},
   "outputs": [
    {
     "name": "stdout",
     "output_type": "stream",
     "text": [
      "[0, 0, 1.0567549384791168, 0]\n",
      "[0, 0, 1.1728894338309637, 0]\n"
     ]
    },
    {
     "data": {
      "image/png": "[encoded data removed]",
      "text/plain": [
       "<Figure size 1008x216 with 2 Axes>"
      ]
     },
     "metadata": {},
     "output_type": "display_data"
    }
   ],
   "source": [
    "def display_score(bar, ax, top_margin=4,color=\"w\"):\n",
    "    ax.text(\n",
    "        bar.get_x()+bar.get_width()*.5,\n",
    "        bar.get_height()-top_margin,\n",
    "        f\"{bar.get_height():.1f}\",\n",
    "        horizontalalignment=\"center\",\n",
    "        fontsize=14,\n",
    "        color=color\n",
    "    )\n",
    "\n",
    "sns.set_style(\"white\")\n",
    "f, axes = plt.subplots(1, 2, figsize=(14, 3), sharey=True)\n",
    "top_margin = 5\n",
    "for ax, leaderboard in zip(axes, [charade_leaderboard, activitynet_leaderboard]):\n",
    "    labels = list(leaderboard.keys())\n",
    "    scores = [v[0] for v in leaderboard.values()]\n",
    "    std = [v[1] for v in leaderboard.values()]\n",
    "    n = len(labels)\n",
    "    print(std)\n",
    "\n",
    "    bars = ax.bar(np.arange(n), scores, color=\"#606060\", width=0.5, yerr=std)\n",
    "    ax.set_xticks(np.arange(n))\n",
    "    ax.set_xticklabels(labels, fontsize=14)\n",
    "\n",
    "    bars[2].set_color(\"#6002ee\")\n",
    "    bars[3].set_color(\"#6002ee\")\n",
    "    \n",
    "    for i, b in enumerate(bars):\n",
    "        display_score(b, ax, top_margin, color=\"w\")\n",
    "\n",
    "    ax.yaxis.grid()\n",
    "    \n",
    "sns.despine(left=True)\n",
    "axes[0].set_title(\"Charade-STA\", fontsize=15)\n",
    "axes[1].set_title(\"ActivityNet Captions\", fontsize=15)\n",
    "plt.savefig('reports/figures/performance_comparison/performance_SOTA_and_Human.pdf',\n",
    "           bbox_inches='tight')"
   ]
  },
  {
   "cell_type": "code",
   "execution_count": null,
   "metadata": {},
   "outputs": [],
   "source": []
  }
 ],
 "metadata": {
  "kernelspec": {
   "display_name": "Python 3",
   "language": "python",
   "name": "python3"
  },
  "language_info": {
   "codemirror_mode": {
    "name": "ipython",
    "version": 3
   },
   "file_extension": ".py",
   "mimetype": "text/x-python",
   "name": "python",
   "nbconvert_exporter": "python",
   "pygments_lexer": "ipython3",
   "version": "3.7.3"
  }
 },
 "nbformat": 4,
 "nbformat_minor": 4
}
