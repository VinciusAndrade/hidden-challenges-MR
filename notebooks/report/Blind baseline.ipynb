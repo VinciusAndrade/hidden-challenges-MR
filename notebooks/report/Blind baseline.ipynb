{
 "cells": [
  {
   "cell_type": "code",
   "execution_count": 1,
   "metadata": {},
   "outputs": [],
   "source": [
    "# ms-python.python added\n",
    "from sklearn.mixture import GaussianMixture\n",
    "import numpy as np\n",
    "import pandas as pd\n",
    "import seaborn as sns\n",
    "import matplotlib.pyplot as plt\n",
    "\n",
    "import os\n",
    "try:\n",
    "    os.chdir(os.path.join(os.getcwd(), 'notebooks/report'))\n",
    "    print(os.getcwd())\n",
    "except:\n",
    "    pass\n"
   ]
  },
  {
   "cell_type": "code",
   "execution_count": 2,
   "metadata": {},
   "outputs": [],
   "source": [
    "get_ipython().run_line_magic('matplotlib', 'inline')\n",
    "sns.set()"
   ]
  },
  {
   "cell_type": "code",
   "execution_count": 3,
   "metadata": {},
   "outputs": [
    {
     "name": "stdout",
     "output_type": "stream",
     "text": [
      "/mnt/sda/otani/Experiments/moment_retrieval\n"
     ]
    }
   ],
   "source": [
    "cd /mnt/sda/otani/Experiments/moment_retrieval/"
   ]
  },
  {
   "cell_type": "markdown",
   "metadata": {},
   "source": [
    "# Query-based temporal candidate generation\n",
    "\n",
    "Input: description\n",
    "\n",
    "Output: \\mu and \\sigma of starting point and duration"
   ]
  },
  {
   "cell_type": "code",
   "execution_count": 4,
   "metadata": {},
   "outputs": [],
   "source": [
    "import chainer\n",
    "import chainer.links as L\n",
    "import chainer.functions as F\n",
    "import chainer.distributions as D\n",
    "from chainer import reporter\n",
    "\n",
    "class CandidateGenerator(chainer.Chain):\n",
    "    def __init__(self, query_net, encoder, k=1):\n",
    "        super(CandidateGenerator, self).__init__()\n",
    "        \n",
    "        self.k = k\n",
    "        \n",
    "        with self.init_scope():\n",
    "            self.query_net = query_net\n",
    "            self.encoder = encoder\n",
    "            \n",
    "    def sample(self, x, n):\n",
    "        h = self.query_net(x)\n",
    "        d = self.encoder(h)\n",
    "        y = d.sample_n(n)\n",
    "        prob = d.prob(y)\n",
    "        return y, prob\n",
    "    \n",
    "    def __call__(self, x, y):\n",
    "        h = self.query_net(x)\n",
    "        d = self.encoder(h)\n",
    "        reconstr = F.mean(\n",
    "            d.log_prob(\n",
    "                F.broadcast_to(y, (self.k,)+y.shape)\n",
    "            )\n",
    "        )\n",
    "        \n",
    "        loss = -reconstr\n",
    "        reporter.report({'loss': loss}, self)\n",
    "        \n",
    "        return loss\n",
    "        \n",
    "class QueryEmbedNet(chainer.Chain):\n",
    "    def __init__(self, n_vocab, n_latent=100):\n",
    "        super(QueryEmbedNet, self).__init__()\n",
    "        with self.init_scope():\n",
    "            self.emb = L.EmbedID(n_vocab, n_latent)\n",
    "            self.lstm = L.NStepLSTM(1, n_latent, n_latent, dropout=0.)\n",
    "    \n",
    "    def __call__(self, x):\n",
    "        emb = [self.emb(i) for i in x]\n",
    "        hy, _, _ = self.lstm(None, None, emb)\n",
    "        hy = F.squeeze(hy)\n",
    "        return hy\n",
    "\n",
    "class Encoder(chainer.Chain):\n",
    "    def __init__(self):\n",
    "        super(Encoder, self).__init__()\n",
    "        with self.init_scope():\n",
    "            self.mu = L.Linear(None, 2)\n",
    "            self.sigma = L.Linear(None, 2)\n",
    "    \n",
    "    def __call__(self, h):\n",
    "        mu = self.mu(h)\n",
    "        ln_sigma = self.sigma(h)\n",
    "         \n",
    "        d = D.Independent(D.Normal(loc=mu, log_scale=ln_sigma))\n",
    "        return d"
   ]
  },
  {
   "cell_type": "markdown",
   "metadata": {},
   "source": [
    "# DataLoader\n",
    "\n",
    "- word indices\n",
    "- normalized starting point\n",
    "- normalized duration"
   ]
  },
  {
   "cell_type": "code",
   "execution_count": 5,
   "metadata": {},
   "outputs": [],
   "source": [
    "from gensim.corpora import Dictionary\n",
    "from gensim.parsing.preprocessing import preprocess_string\n",
    "from gensim.parsing.preprocessing import strip_punctuation, stem_text, strip_multiple_whitespaces\n",
    "from chainer.dataset import DatasetMixin\n",
    "from chainer.dataset.convert import to_device\n",
    "\n",
    "def load_dataset_file(df_file):\n",
    "    df = pd.read_csv(df_file)\n",
    "    indices = np.where(df['end (sec)'] - df['start (sec)'] < 0)\n",
    "    df = df.drop(index=indices[0])\n",
    "    df['start (norm)'] = df['start (sec)']/df['length']\n",
    "    df['end (norm)'] = df['end (sec)']/df['length']\n",
    "    df['moment duration (norm)'] = df['end (norm)'] - df['start (norm)']\n",
    "    return df\n",
    "\n",
    "def preprocess_desc(desc):\n",
    "    CUSTOM_FILTERS = [lambda x: x.lower(), strip_punctuation, strip_multiple_whitespaces, stem_text]\n",
    "    desc = [preprocess_string(s, CUSTOM_FILTERS) for s in desc]\n",
    "    return desc\n",
    "\n",
    "def save_dict(df_file, out_file):\n",
    "    df = load_dataset_file(df_file)\n",
    "    desc = preprocess_desc(df['description'])\n",
    "    dictionary = Dictionary(desc)\n",
    "    dictionary.compactify()\n",
    "    dictionary.save_as_text(out_file)\n",
    "\n",
    "class DataLoader(DatasetMixin):\n",
    "    \n",
    "    def __init__(self, df_file, dictionary_file, san_check=False):\n",
    "        # load dictionary\n",
    "        self.dictionary = Dictionary.load_from_text(dictionary_file)\n",
    "        \n",
    "        df = load_dataset_file(df_file)\n",
    "        \n",
    "        if san_check:\n",
    "            df = df[:500]\n",
    "        \n",
    "        # preprocessing\n",
    "        self.desc = preprocess_desc(df['description'])\n",
    "        self.start = df['start (norm)'].values\n",
    "        self.duration = df['moment duration (norm)'].values\n",
    "        \n",
    "    def __len__(self):\n",
    "        return len(self.desc)\n",
    "        \n",
    "    def get_example(self, i):\n",
    "        strt = self.start[i]\n",
    "        dur = self.duration[i]\n",
    "        desc = self.desc[i]\n",
    "        desc_i = self.dictionary.doc2idx(desc)\n",
    "        return desc_i, (strt, dur)\n",
    "\n",
    "def cvrt_f(batch, device=None):\n",
    "    x = [to_device(device, np.asarray(b[0]).astype('i')) for b in batch]\n",
    "    y1 = np.asarray([b[1] for b in batch]).astype('f')\n",
    "    y1 = to_device(device, y1)\n",
    "    return x, y1\n",
    "        \n",
    "# save_dict('data/processed/train.csv',\n",
    "#               'data/processed/dictionary.txt')\n",
    "\n",
    "# data_loader = DataLoader('data/processed/train.csv','data/processed/dictionary.txt')"
   ]
  },
  {
   "cell_type": "markdown",
   "metadata": {},
   "source": [
    "# Train"
   ]
  },
  {
   "cell_type": "code",
   "execution_count": 6,
   "metadata": {
    "scrolled": true
   },
   "outputs": [
    {
     "name": "stdout",
     "output_type": "stream",
     "text": [
      "epoch       main/loss   validation/main/loss\n",
      "\u001b[J1           -0.222246   -0.710435             \n",
      "\u001b[J2           -0.772218   -0.710763             \n",
      "\u001b[J3           -0.86624    -0.801444             \n",
      "\u001b[J4           -0.915852   -0.814305             \n",
      "\u001b[J5           -0.938424   -0.839126             \n",
      "\u001b[J6           -0.960827   -0.827459             \n",
      "\u001b[J7           -0.978475   -0.824634             \n",
      "\u001b[J8           -0.998212   -0.755067             \n",
      "\u001b[J9           -1.00284    -0.842567             \n",
      "\u001b[J10          -1.01464    -0.85783              \n",
      "\u001b[J11          -1.02266    -0.817881             \n",
      "\u001b[J12          -1.02558    -0.812492             \n",
      "\u001b[J13          -1.03245    -0.809121             \n",
      "\u001b[J14          -1.04498    -0.71821              \n",
      "\u001b[J15          -1.03896    -0.719586             \n",
      "\u001b[J16          -1.04283    -0.81659              \n",
      "\u001b[J17          -1.04871    -0.737928             \n",
      "\u001b[J18          -1.05507    -0.750757             \n",
      "\u001b[J19          -1.05312    -0.852583             \n",
      "\u001b[J20          -1.05909    -0.872269             \n",
      "\u001b[J21          -1.07009    -0.735779             \n",
      "\u001b[J22          -1.06529    -0.743374             \n",
      "\u001b[J23          -1.06797    -0.790247             \n",
      "\u001b[J24          -1.08386    -0.803391             \n",
      "\u001b[J25          -1.06985    -0.792062             \n",
      "\u001b[J26          -1.08352    -0.778754             \n",
      "\u001b[J27          -1.08276    -0.792499             \n",
      "\u001b[J28          -1.08603    -0.782808             \n",
      "\u001b[J29          -1.08627    -0.841747             \n",
      "\u001b[J30          -1.0858     -0.754344             \n"
     ]
    }
   ],
   "source": [
    "from chainer.iterators import SerialIterator\n",
    "from chainer import training\n",
    "from chainer.optimizers import Adam\n",
    "from chainer.datasets import split_dataset_random\n",
    "from chainer.training import extensions\n",
    "from chainer.optimizer_hooks import WeightDecay, GradientClipping\n",
    "\n",
    "b_size = 100\n",
    "epoch = 30\n",
    "saveto = 'models/blind/'\n",
    "device = 0\n",
    "\n",
    "device = chainer.get_device(device)\n",
    "\n",
    "dict_file = 'data/processed/dictionary.txt'\n",
    "data = DataLoader('data/processed/train.csv',\n",
    "                  dict_file,\n",
    "                 san_check=False)\n",
    "train, val = split_dataset_random(data, int(len(data)*.8))\n",
    "train_iter = SerialIterator(train, b_size)\n",
    "val_iter = SerialIterator(val, b_size, repeat=False, shuffle=False)\n",
    "\n",
    "query_net = QueryEmbedNet(len(data.dictionary))\n",
    "encoder = Encoder()\n",
    "model = CandidateGenerator(query_net, encoder)\n",
    "model.to_device(device)\n",
    "device.use()\n",
    "    \n",
    "opt = Adam()\n",
    "opt.setup(model)\n",
    "opt.add_hook(WeightDecay(0.001))\n",
    "opt.add_hook(GradientClipping(5))\n",
    "\n",
    "updater = training.StandardUpdater(train_iter, opt, converter=cvrt_f, device=device)\n",
    "trainer = training.Trainer(updater, (epoch, 'epoch'), out=saveto)\n",
    "\n",
    "trainer.extend(extensions.Evaluator(val_iter, model, converter=cvrt_f, device=device))\n",
    "trainer.extend(extensions.LogReport())\n",
    "trainer.extend(extensions.PrintReport(\n",
    "    ['epoch', 'main/loss', 'validation/main/loss']))\n",
    "\n",
    "trainer.run()"
   ]
  },
  {
   "cell_type": "code",
   "execution_count": 7,
   "metadata": {},
   "outputs": [],
   "source": [
    "test = DataLoader('data/processed/test.csv',\n",
    "                  dict_file,\n",
    "                  san_check=False)\n",
    "\n",
    "test_iter = SerialIterator(test, b_size, repeat=False, shuffle=False)\n",
    "\n",
    "res = []\n",
    "for batch in test_iter:\n",
    "    batch = cvrt_f(batch, device)\n",
    "    sample, _ = model.sample(batch[0], 1)\n",
    "    sample = F.squeeze(sample)\n",
    "    sample.to_cpu()\n",
    "    res.append(sample.data)\n",
    "\n",
    "res = np.vstack(res)\n",
    "start = res[:, 0]\n",
    "duration = res[:, 1]\n",
    "\n",
    "start = np.clip(start, 0, 1)\n",
    "duration = np.min(np.vstack((duration, 1-start)), axis=0)"
   ]
  },
  {
   "cell_type": "code",
   "execution_count": 8,
   "metadata": {},
   "outputs": [
    {
     "data": {
      "text/plain": [
       "<matplotlib.colorbar.Colorbar at 0x7f3063f66668>"
      ]
     },
     "execution_count": 8,
     "metadata": {},
     "output_type": "execute_result"
    },
    {
     "data": {
      "image/png": "[encoded data removed]",
      "text/plain": [
       "<Figure size 432x288 with 2 Axes>"
      ]
     },
     "metadata": {},
     "output_type": "display_data"
    }
   ],
   "source": [
    "from scipy.stats import gaussian_kde\n",
    "\n",
    "kernel = gaussian_kde(np.vstack([start, duration]))\n",
    "X, Y = np.mgrid[0:1:100j, 0:1:100j]\n",
    "positions = np.vstack([X.ravel(), Y.ravel()])\n",
    "Z = np.reshape(kernel(positions).T, X.shape)\n",
    "plt.imshow(np.rot90(Z), cmap=plt.cm.gist_earth_r, extent=[0, 1, 0, 1])\n",
    "plt.colorbar()"
   ]
  },
  {
   "cell_type": "markdown",
   "metadata": {},
   "source": [
    "# Evaluation"
   ]
  },
  {
   "cell_type": "code",
   "execution_count": 9,
   "metadata": {},
   "outputs": [],
   "source": [
    "def iou(pred_s, pred_e, true_s, true_e):\n",
    "    assert true_s < true_e, \"true value invalid: (%.2f, %.2f)\"%(true_s, true_e)\n",
    "    if pred_s > pred_e:\n",
    "        print(\"predicted value invalid: (%.2f, %.2f)\"%(pred_s, pred_e))\n",
    "        return 0\n",
    "\n",
    "    union = min(pred_s, true_s), max(pred_e, true_e)\n",
    "    intersection = max(pred_s, true_s), min(pred_e, true_e)\n",
    "\n",
    "    if intersection[0] > intersection[1]:\n",
    "        return 0\n",
    "\n",
    "    iou_val = (intersection[1] - intersection[0]) / (union[1] - union[0])\n",
    "    return iou_val\n",
    "\n",
    "def non_maximum_suppression(bbox, thresh, score=None, limit=None):\n",
    "    if len(bbox) == 0:\n",
    "        return np.zeros((0,), dtype=np.int32)\n",
    "\n",
    "    if score is not None:\n",
    "        order = score.argsort()[::-1]\n",
    "        bbox = bbox[order]\n",
    "    bbox_area = bbox[:, 1] - bbox[:, 0]\n",
    "\n",
    "    selec = np.zeros(bbox.shape[0], dtype=bool)\n",
    "    \n",
    "    for i, b in enumerate(bbox):\n",
    "        if not bbox_area[i] > 0:\n",
    "            continue\n",
    "            \n",
    "        if not selec.any():\n",
    "            selec[i] = True\n",
    "            continue\n",
    "            \n",
    "        st = np.maximum(b[0], bbox[selec, 0])\n",
    "        ed = np.minimum(b[1], bbox[selec, 1])\n",
    "        area = (ed - st) * (st < ed)\n",
    "            \n",
    "        iou = area / (bbox_area[i] + bbox_area[selec] - area)\n",
    "        \n",
    "        # when the temporal bbox highly overlap with any of selected bbox\n",
    "        if (iou >= thresh).any(): \n",
    "            continue\n",
    "\n",
    "        selec[i] = True\n",
    "        if limit is not None and np.count_nonzero(selec) >= limit:\n",
    "            break\n",
    "    \n",
    "    selec = np.where(selec)[0]\n",
    "    if score is not None:\n",
    "        selec = order[selec]\n",
    "    return selec.astype(np.int32)"
   ]
  },
  {
   "cell_type": "code",
   "execution_count": 11,
   "metadata": {},
   "outputs": [
    {
     "ename": "KeyboardInterrupt",
     "evalue": "",
     "output_type": "error",
     "traceback": [
      "\u001b[0;31m---------------------------------------------------------------------------\u001b[0m",
      "\u001b[0;31mKeyboardInterrupt\u001b[0m                         Traceback (most recent call last)",
      "\u001b[0;32m<ipython-input-11-da4c57f4ce41>\u001b[0m in \u001b[0;36m<module>\u001b[0;34m\u001b[0m\n\u001b[1;32m     37\u001b[0m         \u001b[0mthresh\u001b[0m \u001b[0;34m=\u001b[0m \u001b[0;36m.5\u001b[0m\u001b[0;34m\u001b[0m\u001b[0;34m\u001b[0m\u001b[0m\n\u001b[1;32m     38\u001b[0m         \u001b[0;32mwhile\u001b[0m\u001b[0;34m(\u001b[0m\u001b[0mselected\u001b[0m\u001b[0;34m.\u001b[0m\u001b[0msize\u001b[0m \u001b[0;34m<\u001b[0m \u001b[0;36m5\u001b[0m\u001b[0;34m)\u001b[0m\u001b[0;34m:\u001b[0m\u001b[0;34m\u001b[0m\u001b[0;34m\u001b[0m\u001b[0m\n\u001b[0;32m---> 39\u001b[0;31m             \u001b[0mselected\u001b[0m \u001b[0;34m=\u001b[0m \u001b[0mnon_maximum_suppression\u001b[0m\u001b[0;34m(\u001b[0m\u001b[0mpred\u001b[0m\u001b[0;34m,\u001b[0m \u001b[0mthresh\u001b[0m\u001b[0;34m,\u001b[0m \u001b[0mprob\u001b[0m\u001b[0;34m)\u001b[0m\u001b[0;34m\u001b[0m\u001b[0;34m\u001b[0m\u001b[0m\n\u001b[0m\u001b[1;32m     40\u001b[0m             \u001b[0mthresh\u001b[0m \u001b[0;34m+=\u001b[0m \u001b[0;36m0.2\u001b[0m\u001b[0;34m\u001b[0m\u001b[0;34m\u001b[0m\u001b[0m\n\u001b[1;32m     41\u001b[0m \u001b[0;34m\u001b[0m\u001b[0m\n",
      "\u001b[0;32m<ipython-input-9-30dffac80e3d>\u001b[0m in \u001b[0;36mnon_maximum_suppression\u001b[0;34m(bbox, thresh, score, limit)\u001b[0m\n\u001b[1;32m     37\u001b[0m         \u001b[0marea\u001b[0m \u001b[0;34m=\u001b[0m \u001b[0;34m(\u001b[0m\u001b[0med\u001b[0m \u001b[0;34m-\u001b[0m \u001b[0mst\u001b[0m\u001b[0;34m)\u001b[0m \u001b[0;34m*\u001b[0m \u001b[0;34m(\u001b[0m\u001b[0mst\u001b[0m \u001b[0;34m<\u001b[0m \u001b[0med\u001b[0m\u001b[0;34m)\u001b[0m\u001b[0;34m\u001b[0m\u001b[0;34m\u001b[0m\u001b[0m\n\u001b[1;32m     38\u001b[0m \u001b[0;34m\u001b[0m\u001b[0m\n\u001b[0;32m---> 39\u001b[0;31m         \u001b[0miou\u001b[0m \u001b[0;34m=\u001b[0m \u001b[0marea\u001b[0m \u001b[0;34m/\u001b[0m \u001b[0;34m(\u001b[0m\u001b[0mbbox_area\u001b[0m\u001b[0;34m[\u001b[0m\u001b[0mi\u001b[0m\u001b[0;34m]\u001b[0m \u001b[0;34m+\u001b[0m \u001b[0mbbox_area\u001b[0m\u001b[0;34m[\u001b[0m\u001b[0mselec\u001b[0m\u001b[0;34m]\u001b[0m \u001b[0;34m-\u001b[0m \u001b[0marea\u001b[0m\u001b[0;34m)\u001b[0m\u001b[0;34m\u001b[0m\u001b[0;34m\u001b[0m\u001b[0m\n\u001b[0m\u001b[1;32m     40\u001b[0m \u001b[0;34m\u001b[0m\u001b[0m\n\u001b[1;32m     41\u001b[0m         \u001b[0;31m# when the temporal bbox highly overlap with any of selected bbox\u001b[0m\u001b[0;34m\u001b[0m\u001b[0;34m\u001b[0m\u001b[0;34m\u001b[0m\u001b[0m\n",
      "\u001b[0;31mKeyboardInterrupt\u001b[0m: "
     ]
    }
   ],
   "source": [
    "results = {\n",
    "    'R@1 IoU>.5': [],\n",
    "    'R@1 IoU>.7': [],\n",
    "    'R@5 IoU>.5': [],\n",
    "    'R@5 IoU>.7': [],\n",
    "}\n",
    "\n",
    "test = DataLoader('data/processed/test.csv',\n",
    "                  dict_file,\n",
    "                  san_check=False)\n",
    "\n",
    "test_iter = SerialIterator(test, b_size, repeat=False, shuffle=False)\n",
    "\n",
    "iou_arr = []\n",
    "\n",
    "for batch in test_iter:\n",
    "    N = len(batch)\n",
    "    x, y = cvrt_f(batch, device)\n",
    "    \n",
    "    with chainer.using_config('train', False), chainer.using_config('enable_backprop', False):\n",
    "        preds, probs = model.sample(x, 100)\n",
    "    \n",
    "    y = chainer.cuda.to_cpu(y)\n",
    "    preds.to_cpu()\n",
    "    preds = preds.data\n",
    "    probs.to_cpu()\n",
    "    probs = probs.data\n",
    "    \n",
    "    for i in range(N):\n",
    "        # sort based on prob\n",
    "        pred = preds[:, i, :]\n",
    "        prob = probs[:, i]\n",
    "#         sort_i = np.argsort(prob.data)[::-1]\n",
    "#         pred = pred[sort_i][:5]\n",
    "        \n",
    "        selected = np.zeros((1,))\n",
    "        thresh = .5\n",
    "        while(selected.size < 5):\n",
    "            selected = non_maximum_suppression(pred, thresh, prob)\n",
    "            thresh += 0.2\n",
    "        \n",
    "        # format prediction\n",
    "        start_t = pred[:, 0][selected][:5]\n",
    "        duration = pred[:, 1][selected][:5]\n",
    "        start_t = np.clip(start_t, 0, 1)\n",
    "        duration = np.clip(duration, 0, 1)\n",
    "        end_t = np.clip(start_t + duration, 0, 1)\n",
    "        \n",
    "        # eval iou\n",
    "        gt_s, gt_d = y[i]\n",
    "        gt_e = gt_s + gt_d\n",
    "        ious = [iou(s, e, gt_s, gt_e) for s, e in zip(start_t, end_t)]\n",
    "        iou_arr.append(ious)\n",
    "\n",
    "iou_arr = np.asarray(iou_arr)\n",
    "top_1 = iou_arr[:, 0]\n",
    "results['R@1 IoU>.5'].append((top_1 > 0.5).mean()*100)\n",
    "results['R@1 IoU>.7'].append((top_1 > 0.7).mean()*100)\n",
    "results['R@5 IoU>.5'].append((np.max(iou_arr, axis=1) > 0.5).mean()*100)\n",
    "results['R@5 IoU>.7'].append((np.max(iou_arr, axis=1) > 0.7).mean()*100)"
   ]
  },
  {
   "cell_type": "code",
   "execution_count": 82,
   "metadata": {},
   "outputs": [
    {
     "data": {
      "text/plain": [
       "{'R@1 IoU>.5': [24.086021505376344],\n",
       " 'R@1 IoU>.7': [8.629032258064516],\n",
       " 'R@5 IoU>.5': [34.784946236559136],\n",
       " 'R@5 IoU>.7': [17.661290322580644]}"
      ]
     },
     "execution_count": 82,
     "metadata": {},
     "output_type": "execute_result"
    }
   ],
   "source": [
    "results"
   ]
  },
  {
   "cell_type": "code",
   "execution_count": 229,
   "metadata": {},
   "outputs": [],
   "source": [
    "results = {\n",
    "    'R@1 IoU>.5': [],\n",
    "    'R@1 IoU>.7': [],\n",
    "    'R@5 IoU>.5': [],\n",
    "    'R@5 IoU>.7': [],\n",
    "}\n",
    "\n",
    "for _ in range(100):\n",
    "    \n",
    "    pred, val = sg.sample(len(test_df)*5)\n",
    "    pred[:, 1] = pred[:, 0] + pred[:, 1]  # convert (start, duration) -> (start, end)\n",
    "    pred *= np.repeat(test_df['length'].values.reshape(-1, 1), 5)[:, None] # original scale (sec.)\n",
    "\n",
    "    pred = np.split(pred, len(test_df))\n",
    "    val = np.split(val, len(test_df))\n",
    "\n",
    "    gt = test_df[['start (sec)', 'end (sec)']].values\n",
    "\n",
    "    # compute R@1\n",
    "\n",
    "    res = []\n",
    "    for p_item, v_item, gt_item in zip(pred, val, gt):\n",
    "        top_1 = p_item[np.argmax(v_item)]\n",
    "        iou_val = iou(top_1[0], top_1[1], gt_item[0], gt_item[1])\n",
    "        res.append(iou_val)\n",
    "\n",
    "    results['R@1 IoU>.5'].append((np.asarray(res) > 0.5).mean()*100)\n",
    "    results['R@1 IoU>.7'].append((np.asarray(res) > 0.7).mean()*100)\n",
    "    \n",
    "    # compute R@5\n",
    "\n",
    "    res = []\n",
    "    for p_item, gt_item in zip(pred, gt):\n",
    "        iou_val = max([iou(p_item[j, 0], p_item[j, 1], gt_item[0], gt_item[1]) for j in range(5)])\n",
    "        res.append(iou_val)\n",
    "    \n",
    "    results['R@5 IoU>.5'].append((np.asarray(res) > 0.5).mean()*100)\n",
    "    results['R@5 IoU>.7'].append((np.asarray(res) > 0.7).mean()*100)"
   ]
  },
  {
   "cell_type": "code",
   "execution_count": 230,
   "metadata": {},
   "outputs": [
    {
     "name": "stderr",
     "output_type": "stream",
     "text": [
      "/home/otani_mayu/miniconda3/envs/py36chainer/lib/python3.6/site-packages/scipy/stats/stats.py:1706: FutureWarning: Using a non-tuple sequence for multidimensional indexing is deprecated; use `arr[tuple(seq)]` instead of `arr[seq]`. In the future this will be interpreted as an array index, `arr[np.array(seq)]`, which will result either in an error or a different result.\n",
      "  return np.add.reduce(sorted[indexer] * weights, axis=axis) / sumval\n"
     ]
    },
    {
     "data": {
      "text/plain": [
       "<matplotlib.axes._subplots.AxesSubplot at 0x7fbaeee83748>"
      ]
     },
     "execution_count": 230,
     "metadata": {},
     "output_type": "execute_result"
    },
    {
     "data": {
      "image/png": "[encoded data removed]",
      "text/plain": [
       "<Figure size 432x288 with 1 Axes>"
      ]
     },
     "metadata": {},
     "output_type": "display_data"
    }
   ],
   "source": [
    "sns.barplot(data=pd.DataFrame(results), ci=100.)"
   ]
  },
  {
   "cell_type": "code",
   "execution_count": 232,
   "metadata": {},
   "outputs": [
    {
     "data": {
      "text/plain": [
       "R@1 IoU>.5    19.247312\n",
       "R@1 IoU>.7     7.123656\n",
       "R@5 IoU>.5    56.693548\n",
       "R@5 IoU>.7    24.838710\n",
       "dtype: float64"
      ]
     },
     "execution_count": 232,
     "metadata": {},
     "output_type": "execute_result"
    }
   ],
   "source": [
    "pd.DataFrame(results).min()"
   ]
  },
  {
   "cell_type": "code",
   "execution_count": 233,
   "metadata": {},
   "outputs": [
    {
     "data": {
      "text/plain": [
       "R@1 IoU>.5    20.719624\n",
       "R@1 IoU>.7     8.048925\n",
       "R@5 IoU>.5    58.080108\n",
       "R@5 IoU>.7    26.836290\n",
       "dtype: float64"
      ]
     },
     "execution_count": 233,
     "metadata": {},
     "output_type": "execute_result"
    }
   ],
   "source": [
    "pd.DataFrame(results).mean()"
   ]
  },
  {
   "cell_type": "code",
   "execution_count": 234,
   "metadata": {},
   "outputs": [
    {
     "data": {
      "text/plain": [
       "R@1 IoU>.5    22.204301\n",
       "R@1 IoU>.7     9.193548\n",
       "R@5 IoU>.5    60.000000\n",
       "R@5 IoU>.7    28.817204\n",
       "dtype: float64"
      ]
     },
     "execution_count": 234,
     "metadata": {},
     "output_type": "execute_result"
    }
   ],
   "source": [
    "pd.DataFrame(results).max()"
   ]
  },
  {
   "cell_type": "code",
   "execution_count": 238,
   "metadata": {},
   "outputs": [
    {
     "name": "stdout",
     "output_type": "stream",
     "text": [
      "max iou: 0.5\n"
     ]
    },
    {
     "data": {
      "image/png": "[encoded data removed]",
      "text/plain": [
       "<Figure size 720x144 with 1 Axes>"
      ]
     },
     "metadata": {},
     "output_type": "display_data"
    }
   ],
   "source": [
    "# show example\n",
    "i = np.random.randint(len(test_df))\n",
    "true_s, true_e = gt[i]\n",
    "l = test_df['length'][i]\n",
    "plt.figure(figsize=(10, 2))\n",
    "plt.axhline(0.1, true_s/l, true_e/l, color='m')\n",
    "plt.xlim((0, 1))\n",
    "plt.ylim((0, .75))\n",
    "\n",
    "p_item = pred[i]\n",
    "# p_item = p_item.reshape(-1, 2)\n",
    "offset = 0.2\n",
    "iou_val = []\n",
    "lines = []\n",
    "for pred_s, pred_e in p_item:\n",
    "    line = plt.axhline(offset, pred_s/l, pred_e/l, color='b')\n",
    "    offset += 0.1\n",
    "    iou_val.append(iou(pred_s, pred_e, true_s, true_e))\n",
    "    lines.append(line)\n",
    "print('max iou: %.1f' % max(iou_val))\n",
    "if max(iou_val) > 0:\n",
    "    lines[np.argmax(iou_val)].set_color('r')\n"
   ]
  },
  {
   "cell_type": "markdown",
   "metadata": {},
   "source": [
    " # ベースラインについて\n",
    "\n",
    " ## Random (sliding window)\n",
    "\n",
    " 従来研究のRandomベースライン\n",
    "\n",
    " multi-scale temporal sliding window: {64, 128, 256, 512} frames and 80% overlap\n",
    "\n",
    " 生成されたtemporal widowをランダムに選んだベースライン\n",
    "\n",
    " ## Random (KDE)\n",
    "\n",
    " segmentのstart timeとdurationをの確率密度関数をKDEで推定\n",
    " \n",
    " ランダムにサンプリング、生成されたサンプルをそのサンプル点での確率密度関数の値で並び替え\n",
    "\n",
    "\n",
    " ## 結果\n",
    "\n",
    " | method                             | R@1 IoU=0.5 | R@1 IoU=0.7 | R@5 IoU=0.5 | R@5 IoU=0.7 |\n",
    " |------------------------------------|------------:|------------:|------------:|------------:|\n",
    " | Random (sliding window)            |        8.51 |        3.03 |       37.12 |       14.06 |\n",
    " | Random (KDE)                       |       20.72 |        8.05 |       58.08 |       26.84 |\n",
    " | CTRL (ICCV'17)                     |       21.42 |        7.15 |       59.11 |       26.91 |\n",
    " | MAN (CVPR'19)                      |       46.53 |       22.72 |       86.23 |       53.72 |\n",
    "\n",
    " CTRL (Tall: Temporal activity localization via language query, ICCV'17)はRandom (KDE)とそんなに変わらない\n",
    " \n",
    " ただし、ベースラインはrandomなので多少スコアは上下する\n",
    "\n",
    " Tall論文ではもっと単純なRandomベースラインと比較してたけどあまり意味のないベースラインかも（弱すぎベースライン）\n",
    "\n",
    " データにバイアスがあるのでちょっとprior入れてやるだけで割とスコアは上がる\n",
    "\n",
    " ## メモ\n",
    "\n",
    " Tallはsliding windowベースの手法。多分そこがスコアのボトルネック\n",
    "\n",
    " candidate proposalの生成は少なくともデータセットの分布が反映される方法でやった方がいい（学習ベースの手法）\n",
    "\n",
    " queryの中の特定のphrase (eg., first time, after) を考慮するだけで結構スコア上がるのでは？"
   ]
  },
  {
   "cell_type": "code",
   "execution_count": 20,
   "metadata": {},
   "outputs": [],
   "source": []
  }
 ],
 "metadata": {
  "file_extension": ".py",
  "kernelspec": {
   "display_name": "Python 3",
   "language": "python",
   "name": "python3"
  },
  "language_info": {
   "codemirror_mode": {
    "name": "ipython",
    "version": 3
   },
   "file_extension": ".py",
   "mimetype": "text/x-python",
   "name": "python",
   "nbconvert_exporter": "python",
   "pygments_lexer": "ipython3",
   "version": "3.7.3"
  },
  "mimetype": "text/x-python",
  "name": "python",
  "npconvert_exporter": "python",
  "pygments_lexer": "ipython3",
  "version": 3
 },
 "nbformat": 4,
 "nbformat_minor": 4
}
