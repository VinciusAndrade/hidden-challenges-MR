{
 "cells": [
  {
   "cell_type": "code",
   "execution_count": 1,
   "metadata": {},
   "outputs": [
    {
     "name": "stdout",
     "output_type": "stream",
     "text": [
      "/mnt/sda/otani/Experiments/moment_retrieval\n"
     ]
    }
   ],
   "source": [
    "cd /mnt/sda/otani/Experiments/moment_retrieval"
   ]
  },
  {
   "cell_type": "code",
   "execution_count": 7,
   "metadata": {},
   "outputs": [],
   "source": [
    "%matplotlib inline\n",
    "from typing import List, Tuple, Dict, Callable\n",
    "Query = Tuple[str, str]\n",
    "Location = Tuple[float, float, float]  # start(sec.), end(sec.), length(sec.)\n",
    "Instance = Tuple[Query, Location]\n",
    "Rating = List[float]\n",
    "Prediction = Tuple[Query, List[Location], Rating]\n",
    "Result = Tuple[Query, List[Location], Rating, dict]\n",
    "\n",
    "import pandas as pd\n",
    "import numpy as np\n",
    "import spacy\n",
    "import matplotlib.pyplot as plt\n",
    "from src.toolbox.utils import _nms, sentence2token\n",
    "from src.toolbox.eval import evaluate, location_error, accumulate_metrics, categorize_results, summarize_results_per_class\n",
    "from src.toolbox.baseline import predict\n",
    "from src.toolbox.utils import _nms\n",
    "from src.toolbox.visualization import plot_performance_per_class\n",
    "from src.toolbox.data_converters import Charade2Instances, ActivityNetCap2Instances\n",
    "from src.toolbox.baseline import SegmentGeneratorKDE\n",
    "import seaborn as sns\n",
    "sns.set()\n",
    "import json\n",
    "import pickle as pkl"
   ]
  },
  {
   "cell_type": "markdown",
   "metadata": {},
   "source": [
    "# Human and SOTA performance on Charade-STA"
   ]
  },
  {
   "cell_type": "code",
   "execution_count": 8,
   "metadata": {},
   "outputs": [],
   "source": [
    "def performance_comparison_charade():\n",
    "    test_data = Charade2Instances(pd.read_csv('data/processed/test.csv'))\n",
    "    result_2dtan = pkl.load(open(\"reports/figure_src/results/charade/2d-tan.pkl\", \"rb\"))\n",
    "    result_scdm = pkl.load(open(\"reports/figure_src/results/charade/scdm.pkl\", \"rb\"))\n",
    "    result_human = pkl.load(open(\"reports/outputs/performance/charade-sta/representative_human.pkl\", \"rb\"))\n",
    "\n",
    "    subresult_2dtan = []\n",
    "    for item in result_2dtan:\n",
    "        for key, _, _, _ in result_human:\n",
    "            if key == item[0]:\n",
    "                subresult_2dtan.append(item)\n",
    "                break\n",
    "\n",
    "    subresult_scdm = []\n",
    "    for item in result_scdm:\n",
    "        for key, _, _, _ in result_human:\n",
    "            if key == item[0]:\n",
    "                subresult_scdm.append(item)\n",
    "                break\n",
    "\n",
    "    leaderboard = {\n",
    "        \"SCDM\": accumulate_metrics(subresult_scdm)['R@1 IoU>0.5']*100,\n",
    "        \"2D-TAN\": accumulate_metrics(subresult_2dtan)['R@1 IoU>0.5']*100,\n",
    "        \"Human\": accumulate_metrics(result_human)['R@1 IoU>0.5']*100,\n",
    "    }\n",
    "    return leaderboard"
   ]
  },
  {
   "cell_type": "markdown",
   "metadata": {},
   "source": [
    "# Human and SOTA performance on ActivityNet"
   ]
  },
  {
   "cell_type": "code",
   "execution_count": 42,
   "metadata": {},
   "outputs": [
    {
     "name": "stdout",
     "output_type": "stream",
     "text": [
      "17031\n"
     ]
    }
   ],
   "source": [
    "def count_data():\n",
    "    raw_data = json.load(open(\"data/raw/ActivityNet/val_2.json\"))\n",
    "    test_data = ActivityNetCap2Instances(raw_data)\n",
    "    print(len(test_data))\n",
    "count_data()"
   ]
  },
  {
   "cell_type": "code",
   "execution_count": 9,
   "metadata": {},
   "outputs": [],
   "source": [
    "def performance_comparison_activitynet():\n",
    "    raw_data = json.load(open(\"data/raw/ActivityNet/val_2.json\"))\n",
    "    test_data = ActivityNetCap2Instances(raw_data)\n",
    "    result_2dtan = pkl.load(open(\"reports/figure_src/results/activitynet/2d-tan.pkl\", \"rb\"))\n",
    "    result_scdm = pkl.load(open(\"reports/figure_src/results/activitynet/scdm.pkl\", \"rb\"))\n",
    "    result_human = pkl.load(open(\"reports/outputs/performance/activitynet/representative_human.pkl\", \"rb\"))\n",
    "\n",
    "    subresult_2dtan = []\n",
    "    for item in result_2dtan:\n",
    "        for key, _, _, _ in result_human:\n",
    "            if key == item[0]:\n",
    "                subresult_2dtan.append(item)\n",
    "                break\n",
    "\n",
    "    subresult_scdm = []\n",
    "    for item in result_scdm:\n",
    "        for key, _, _, _ in result_human:\n",
    "            if key == item[0]:\n",
    "                subresult_scdm.append(item)\n",
    "                break\n",
    "\n",
    "    leaderboard = {\n",
    "        \"SCDM\": accumulate_metrics(subresult_scdm)['R@1 IoU>0.5']*100,\n",
    "        \"2D-TAN\": accumulate_metrics(subresult_2dtan)['R@1 IoU>0.5']*100,\n",
    "        \"Human\": accumulate_metrics(result_human)['R@1 IoU>0.5']*100,\n",
    "    }\n",
    "    return leaderboard"
   ]
  },
  {
   "cell_type": "code",
   "execution_count": 10,
   "metadata": {},
   "outputs": [
    {
     "name": "stdout",
     "output_type": "stream",
     "text": [
      "R@1 IoU>0.3 0.62\n",
      "R@1 IoU>0.5 0.52\n",
      "R@1 IoU>0.7 0.29\n",
      "R@5 IoU>0.3 0.79\n",
      "R@5 IoU>0.5 0.69\n",
      "R@5 IoU>0.7 0.53\n",
      "R@10 IoU>0.3 0.87\n",
      "R@10 IoU>0.5 0.79\n",
      "R@10 IoU>0.7 0.61\n",
      "R@1 IoU>0.3 0.57\n",
      "R@1 IoU>0.5 0.42\n",
      "R@1 IoU>0.7 0.22\n",
      "R@5 IoU>0.3 0.90\n",
      "R@5 IoU>0.5 0.79\n",
      "R@5 IoU>0.7 0.49\n",
      "R@10 IoU>0.3 0.90\n",
      "R@10 IoU>0.5 0.79\n",
      "R@10 IoU>0.7 0.49\n",
      "R@1 IoU>0.5 0.54\n"
     ]
    }
   ],
   "source": [
    "charade_leaderboard = performance_comparison_charade()"
   ]
  },
  {
   "cell_type": "code",
   "execution_count": 11,
   "metadata": {},
   "outputs": [
    {
     "name": "stdout",
     "output_type": "stream",
     "text": [
      "R@1 IoU>0.3 0.55\n",
      "R@1 IoU>0.5 0.36\n",
      "R@1 IoU>0.7 0.20\n",
      "R@5 IoU>0.3 0.81\n",
      "R@5 IoU>0.5 0.68\n",
      "R@5 IoU>0.7 0.45\n",
      "R@10 IoU>0.3 0.81\n",
      "R@10 IoU>0.5 0.68\n",
      "R@10 IoU>0.7 0.45\n",
      "R@1 IoU>0.3 0.58\n",
      "R@1 IoU>0.5 0.45\n",
      "R@1 IoU>0.7 0.29\n",
      "R@5 IoU>0.3 0.86\n",
      "R@5 IoU>0.5 0.77\n",
      "R@5 IoU>0.7 0.64\n",
      "R@10 IoU>0.3 0.86\n",
      "R@10 IoU>0.5 0.77\n",
      "R@10 IoU>0.7 0.64\n",
      "R@1 IoU>0.5 0.45\n"
     ]
    }
   ],
   "source": [
    "activitynet_leaderboard = performance_comparison_activitynet()"
   ]
  },
  {
   "cell_type": "code",
   "execution_count": 38,
   "metadata": {},
   "outputs": [
    {
     "data": {
      "image/png": "[encoded data removed]",
      "text/plain": [
       "<Figure size 504x216 with 2 Axes>"
      ]
     },
     "metadata": {},
     "output_type": "display_data"
    }
   ],
   "source": [
    "def display_score(bar, ax, top_margin=4,color=\"w\"):\n",
    "    ax.text(\n",
    "        bar.get_x()+bar.get_width()*.5,\n",
    "        bar.get_height()-top_margin,\n",
    "        f\"{bar.get_height():.1f}\",\n",
    "        horizontalalignment=\"center\",\n",
    "        fontsize=12,\n",
    "        color=color\n",
    "    )\n",
    "\n",
    "sns.set_style(\"white\")\n",
    "f, axes = plt.subplots(1, 2, figsize=(7, 3), sharey=True)\n",
    "top_margin = 5\n",
    "for ax, leaderboard in zip(axes, [charade_leaderboard, activitynet_leaderboard]):\n",
    "    labels = list(leaderboard.keys())\n",
    "    scores = list(leaderboard.values())\n",
    "    n = len(labels)\n",
    "#     sorted_idx = np.argsort(scores)\n",
    "#     scores = [scores[i] for i in sorted_idx]\n",
    "#     labels = [labels[i] for i in sorted_idx]\n",
    "#     n = len(sorted_idx)\n",
    "    \n",
    "    bars = ax.bar(np.arange(n), scores, color=\"#606060\", width=0.5)\n",
    "    ax.set_xticks(np.arange(n))\n",
    "    ax.set_xticklabels(labels)\n",
    "\n",
    "    bars[2].set_color(\"#6002ee\")\n",
    "    \n",
    "    for i, b in enumerate(bars):\n",
    "        display_score(b, ax, top_margin, color=\"w\")\n",
    "\n",
    "    ax.yaxis.grid()\n",
    "    \n",
    "sns.despine(left=True)\n",
    "axes[0].set_title(\"Charade-STA\")\n",
    "axes[1].set_title(\"ActivityNet Captions\")\n",
    "plt.savefig('reports/figures/performance_comparison/performance_SOTA_and_Human.pdf',\n",
    "           bbox_inches='tight')"
   ]
  },
  {
   "cell_type": "code",
   "execution_count": null,
   "metadata": {},
   "outputs": [],
   "source": []
  }
 ],
 "metadata": {
  "kernelspec": {
   "display_name": "Python 3",
   "language": "python",
   "name": "python3"
  },
  "language_info": {
   "codemirror_mode": {
    "name": "ipython",
    "version": 3
   },
   "file_extension": ".py",
   "mimetype": "text/x-python",
   "name": "python",
   "nbconvert_exporter": "python",
   "pygments_lexer": "ipython3",
   "version": "3.7.3"
  }
 },
 "nbformat": 4,
 "nbformat_minor": 4
}
