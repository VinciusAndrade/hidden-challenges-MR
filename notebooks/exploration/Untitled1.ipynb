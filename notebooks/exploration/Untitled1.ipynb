{
 "cells": [
  {
   "cell_type": "code",
   "execution_count": 1,
   "metadata": {},
   "outputs": [
    {
     "name": "stdout",
     "output_type": "stream",
     "text": [
      "/mnt/sda/otani/Experiments/moment_retrieval\n"
     ]
    }
   ],
   "source": [
    "cd /mnt/sda/otani/Experiments/moment_retrieval/"
   ]
  },
  {
   "cell_type": "code",
   "execution_count": 3,
   "metadata": {},
   "outputs": [],
   "source": [
    "import matplotlib.pyplot as plt\n",
    "import json\n",
    "import numpy as np\n",
    "import pandas as pd\n",
    "%matplotlib inline"
   ]
  },
  {
   "cell_type": "code",
   "execution_count": 4,
   "metadata": {},
   "outputs": [],
   "source": [
    "def load_dataset_file(df_file):\n",
    "    df = pd.read_csv(df_file)\n",
    "    indices = np.where(df['end (sec)'] - df['start (sec)'] < 0)\n",
    "    df = df.drop(index=indices[0])\n",
    "    df['start (norm)'] = df['start (sec)']/df['length']\n",
    "    df['end (norm)'] = df['end (sec)']/df['length']\n",
    "    df['moment duration (norm)'] = df['end (norm)'] - df['start (norm)']\n",
    "    return df\n",
    "\n",
    "df = load_dataset_file('data/processed/test.csv')"
   ]
  },
  {
   "cell_type": "code",
   "execution_count": 5,
   "metadata": {},
   "outputs": [
    {
     "data": {
      "text/html": [
       "<div>\n",
       "<style scoped>\n",
       "    .dataframe tbody tr th:only-of-type {\n",
       "        vertical-align: middle;\n",
       "    }\n",
       "\n",
       "    .dataframe tbody tr th {\n",
       "        vertical-align: top;\n",
       "    }\n",
       "\n",
       "    .dataframe thead th {\n",
       "        text-align: right;\n",
       "    }\n",
       "</style>\n",
       "<table border=\"1\" class=\"dataframe\">\n",
       "  <thead>\n",
       "    <tr style=\"text-align: right;\">\n",
       "      <th></th>\n",
       "      <th>id</th>\n",
       "      <th>start (sec)</th>\n",
       "      <th>end (sec)</th>\n",
       "      <th>description</th>\n",
       "      <th>length</th>\n",
       "      <th>start (norm)</th>\n",
       "      <th>end (norm)</th>\n",
       "      <th>moment duration (norm)</th>\n",
       "    </tr>\n",
       "  </thead>\n",
       "  <tbody>\n",
       "    <tr>\n",
       "      <th>0</th>\n",
       "      <td>3MSZA</td>\n",
       "      <td>24.3</td>\n",
       "      <td>30.4</td>\n",
       "      <td>person turn a light on.</td>\n",
       "      <td>30.96</td>\n",
       "      <td>0.784884</td>\n",
       "      <td>0.981912</td>\n",
       "      <td>0.197028</td>\n",
       "    </tr>\n",
       "    <tr>\n",
       "      <th>1</th>\n",
       "      <td>3MSZA</td>\n",
       "      <td>24.3</td>\n",
       "      <td>30.4</td>\n",
       "      <td>person flipped the light switch near the door.</td>\n",
       "      <td>30.96</td>\n",
       "      <td>0.784884</td>\n",
       "      <td>0.981912</td>\n",
       "      <td>0.197028</td>\n",
       "    </tr>\n",
       "    <tr>\n",
       "      <th>2</th>\n",
       "      <td>3MSZA</td>\n",
       "      <td>24.3</td>\n",
       "      <td>30.4</td>\n",
       "      <td>person turn the light switch on.</td>\n",
       "      <td>30.96</td>\n",
       "      <td>0.784884</td>\n",
       "      <td>0.981912</td>\n",
       "      <td>0.197028</td>\n",
       "    </tr>\n",
       "    <tr>\n",
       "      <th>3</th>\n",
       "      <td>3MSZA</td>\n",
       "      <td>24.3</td>\n",
       "      <td>30.4</td>\n",
       "      <td>person is playing with the switch for the light.</td>\n",
       "      <td>30.96</td>\n",
       "      <td>0.784884</td>\n",
       "      <td>0.981912</td>\n",
       "      <td>0.197028</td>\n",
       "    </tr>\n",
       "    <tr>\n",
       "      <th>4</th>\n",
       "      <td>AMT7R</td>\n",
       "      <td>4.3</td>\n",
       "      <td>12.5</td>\n",
       "      <td>a person is putting a picture onto the wall.</td>\n",
       "      <td>30.08</td>\n",
       "      <td>0.142952</td>\n",
       "      <td>0.415559</td>\n",
       "      <td>0.272606</td>\n",
       "    </tr>\n",
       "  </tbody>\n",
       "</table>\n",
       "</div>"
      ],
      "text/plain": [
       "      id  start (sec)  end (sec)  \\\n",
       "0  3MSZA         24.3       30.4   \n",
       "1  3MSZA         24.3       30.4   \n",
       "2  3MSZA         24.3       30.4   \n",
       "3  3MSZA         24.3       30.4   \n",
       "4  AMT7R          4.3       12.5   \n",
       "\n",
       "                                        description  length  start (norm)  \\\n",
       "0                           person turn a light on.   30.96      0.784884   \n",
       "1    person flipped the light switch near the door.   30.96      0.784884   \n",
       "2                  person turn the light switch on.   30.96      0.784884   \n",
       "3  person is playing with the switch for the light.   30.96      0.784884   \n",
       "4      a person is putting a picture onto the wall.   30.08      0.142952   \n",
       "\n",
       "   end (norm)  moment duration (norm)  \n",
       "0    0.981912                0.197028  \n",
       "1    0.981912                0.197028  \n",
       "2    0.981912                0.197028  \n",
       "3    0.981912                0.197028  \n",
       "4    0.415559                0.272606  "
      ]
     },
     "execution_count": 5,
     "metadata": {},
     "output_type": "execute_result"
    }
   ],
   "source": [
    "df.head()"
   ]
  },
  {
   "cell_type": "code",
   "execution_count": 6,
   "metadata": {},
   "outputs": [],
   "source": [
    "JSON_ROOT = './data/interim/object_detection/charade/'"
   ]
  },
  {
   "cell_type": "code",
   "execution_count": 10,
   "metadata": {},
   "outputs": [],
   "source": [
    "obj_data = json.load(open(JSON_ROOT+'AMT7R.json'))"
   ]
  },
  {
   "cell_type": "code",
   "execution_count": 15,
   "metadata": {},
   "outputs": [
    {
     "name": "stdout",
     "output_type": "stream",
     "text": [
      "aaa\n"
     ]
    }
   ],
   "source": [
    "try:\n",
    "    obj_data[121]\n",
    "except IndexError:\n",
    "    print('aaa')"
   ]
  },
  {
   "cell_type": "code",
   "execution_count": 102,
   "metadata": {},
   "outputs": [],
   "source": [
    "JSON_ROOT = './data/interim/object_detection/charade/'\n",
    "\n",
    "def get_object_motions(video_id, start_time, end_time):\n",
    "    detec = json.load(open(JSON_ROOT+video_id+'.json'))\n",
    "    start_fr = int(np.ceil(4 * start_time))\n",
    "    end_fr = int(np.ceil(4 * end_time))\n",
    "    n_fr = end_fr - start_fr\n",
    "    \n",
    "    if n_fr == 0:\n",
    "        return 0\n",
    "    \n",
    "    non_background_area = 0\n",
    "    motions = []\n",
    "    for i in range(start_fr, end_fr):\n",
    "        try:\n",
    "            cur_objs = detec[i]\n",
    "        except IndexError:\n",
    "            continue\n",
    "        \n",
    "        if len(cur_objs) == 0:\n",
    "            motions.append([0]) # motion 0 when no objects detected\n",
    "            continue\n",
    "        \n",
    "        try:\n",
    "            prev_objs = detec[i-1]\n",
    "        except IndexError:\n",
    "            motions.append([0])\n",
    "            continue\n",
    "        \n",
    "        m_vals = [] # motions for each object\n",
    "        for item in cur_objs:\n",
    "            label = item['label']\n",
    "            bbox = item['bbox']\n",
    "            c_y = (bbox[2] + bbox[0]) / 2\n",
    "            c_x = (bbox[3] + bbox[1]) / 2\n",
    "            \n",
    "            m_val = np.inf\n",
    "            for p_item in prev_objs:\n",
    "                \n",
    "                if p_item['label'] != label:\n",
    "                    continue\n",
    "                    \n",
    "                p_bbox = p_item['bbox']\n",
    "                p_y = (p_bbox[2] + p_bbox[0]) / 2\n",
    "                p_x = (p_bbox[3] + p_bbox[1]) / 2\n",
    "\n",
    "                dist = (c_x - p_x)**2 + (c_y - p_y)**2\n",
    "                dist = np.sqrt(dist)\n",
    "                if dist < m_val: # select closed object as match\n",
    "                    m_val = dist\n",
    "            \n",
    "            if m_val == np.inf: # if object newly appear at this frame\n",
    "                m_val = 0\n",
    "                \n",
    "            m_vals.append(m_val)\n",
    "            \n",
    "        motions.append(m_vals)\n",
    "    return motions\n",
    "\n",
    "def get_object_motion_based_score(video_id, start_time, end_time):\n",
    "    motions = get_object_motions(video_id, start_time, end_time)\n",
    "    motions = [sum(m) for m in motions]\n",
    "    score = max(motions)\n",
    "    return score"
   ]
  },
  {
   "cell_type": "code",
   "execution_count": 104,
   "metadata": {},
   "outputs": [],
   "source": [
    "scores = []\n",
    "\n",
    "for _, row in df.iterrows():\n",
    "    v_id = row['id']\n",
    "    st = row['start (sec)']\n",
    "    ed = row['end (sec)']\n",
    "    s = get_object_motion_based_score(v_id, st, ed)\n",
    "    scores.append(s)"
   ]
  },
  {
   "cell_type": "code",
   "execution_count": null,
   "metadata": {},
   "outputs": [],
   "source": []
  }
 ],
 "metadata": {
  "kernelspec": {
   "display_name": "Python 3",
   "language": "python",
   "name": "python3"
  },
  "language_info": {
   "codemirror_mode": {
    "name": "ipython",
    "version": 3
   },
   "file_extension": ".py",
   "mimetype": "text/x-python",
   "name": "python",
   "nbconvert_exporter": "python",
   "pygments_lexer": "ipython3",
   "version": "3.7.3"
  }
 },
 "nbformat": 4,
 "nbformat_minor": 4
}
