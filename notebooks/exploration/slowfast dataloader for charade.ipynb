{
 "cells": [
  {
   "cell_type": "markdown",
   "metadata": {},
   "source": [
    "input\n",
    "```\n",
    "video_file_0, duration_0\n",
    "video_file_1, duration_1\n",
    "video_file_2, duration_2\n",
    "...\n",
    "\n",
    "```\n",
    "\n",
    "construct dataset\n",
    "```\n",
    "video_file_0, num_clips, i-th\n",
    "video_file_0, num_clips, i+1-th\n",
    "...\n",
    "\n",
    "```\n",
    "\n",
    "chunks are determined from the duration of video and configurations (fps, sampling_rate, etc.)\n",
    "\n",
    " num_frames_video = duration * fps / (sampling_rate + 1)\n",
    " \n",
    " num_clips = num_frames_video / num_frames\n",
    " "
   ]
  },
  {
   "cell_type": "code",
   "execution_count": 1,
   "metadata": {},
   "outputs": [
    {
     "name": "stdout",
     "output_type": "stream",
     "text": [
      "/mnt/sda/otani/Experiments/moment_retrieval\n"
     ]
    }
   ],
   "source": [
    "cd ../../"
   ]
  },
  {
   "cell_type": "code",
   "execution_count": 2,
   "metadata": {},
   "outputs": [],
   "source": [
    "import pandas as pd\n",
    "%matplotlib inline\n",
    "import matplotlib.pyplot as plt\n",
    "import numpy as np\n",
    "from skvideo.io import vwrite"
   ]
  },
  {
   "cell_type": "code",
   "execution_count": 94,
   "metadata": {},
   "outputs": [],
   "source": [
    "#!/usr/bin/env python3\n",
    "# Copyright (c) Facebook, Inc. and its affiliates. All Rights Reserved.\n",
    "\n",
    "import os\n",
    "import random\n",
    "from io import BytesIO\n",
    "import torch\n",
    "import torch.utils.data\n",
    "\n",
    "import slowfast.datasets.decoder as decoder\n",
    "import slowfast.datasets.transform as transform\n",
    "import slowfast.datasets.video_container as container\n",
    "import slowfast.utils.logging as logging\n",
    "import slowfast.datasets.kinetics as kinetics\n",
    "from tqdm import tqdm\n",
    "import math\n",
    "\n",
    "logger = logging.get_logger(__name__)\n",
    "        \n",
    "class Charade(kinetics.Kinetics):\n",
    "    \"\"\"\n",
    "    Kinetics video loader. Construct the Kinetics video loader, then sample\n",
    "    clips from the videos. For training and validation, a single clip is\n",
    "    randomly sampled from every video with random cropping, scaling, and\n",
    "    flipping. For testing, multiple clips are uniformaly sampled from every\n",
    "    video with uniform cropping. For uniform cropping, we take the left, center,\n",
    "    and right crop if the width is larger than height, or take top, center, and\n",
    "    bottom crop if the height is larger than the width.\n",
    "    \"\"\"\n",
    "\n",
    "    def __init__(self, cfg, mode, num_retries=10, san_check=False):\n",
    "        \"\"\"\n",
    "        Args:\n",
    "            cfg (CfgNode): configs.\n",
    "            mode (string): Options includes `train`, `val`, or `test` mode.\n",
    "                For the train and val mode, the data loader will take data\n",
    "                from the train or val set, and sample one clip per video.\n",
    "                For the test mode, the data loader will take data from test set,\n",
    "                and sample multiple clips per video.\n",
    "            num_retries (int): number of retries.\n",
    "        \"\"\"\n",
    "        self.cfg = cfg\n",
    "        self.mode = mode\n",
    "        self._num_retries = num_retries\n",
    "        self._construct_loader(san_check)\n",
    "        \n",
    "    \n",
    "    def _construct_loader(self, san_check):\n",
    "        \"\"\"\n",
    "        Construct the video loader.\n",
    "        \"\"\"\n",
    "        path_to_file = os.path.join(\n",
    "            self.cfg.DATA.PATH_TO_DATA_DIR, \"{}.csv\".format(self.mode)\n",
    "        )\n",
    "        assert os.path.exists(path_to_file), \"{} dir not found\".format(\n",
    "            path_to_file\n",
    "        )\n",
    "        \n",
    "        # configurations\n",
    "        target_fps = 30\n",
    "        sampling_rate = self.cfg.DATA.SAMPLING_RATE\n",
    "        num_frames = self.cfg.DATA.NUM_FRAMES\n",
    "        \n",
    "        videos = []\n",
    "        durations = []\n",
    "        with open(path_to_file) as f:\n",
    "            for line in f:\n",
    "                vid_id, dur = line.rstrip().split(', ')\n",
    "                videos.append(vid_id)\n",
    "                durations.append(float(dur))\n",
    "\n",
    "        self._load_indices = []\n",
    "        \n",
    "        clip_duration = 2 * 32 / 30\n",
    "        \n",
    "        for video, dur in tqdm(zip(videos, durations), total=len(videos)):\n",
    "            video_path = f\"{self.cfg.DATA.PATH_PREFIX}/{video}.mp4\"\n",
    "            video_container = container.get_video_container(\n",
    "                    video_path\n",
    "            )\n",
    "            fps = float(video_container.streams.video[0].average_rate)\n",
    "            total_frames = video_container.streams.video[0].frames\n",
    "            num_clips = int(total_frames / fps / clip_duration + 1)\n",
    "\n",
    "            for ci in range(num_clips + 1):\n",
    "                self._load_indices.append((video_path, num_clips, ci))\n",
    "            \n",
    "            if san_check:\n",
    "                if len(self._load_indices) > 100:\n",
    "                    break\n",
    "                \n",
    "        logger.info(\n",
    "            \"Constructing kinetics dataloader (size: {}) from {}\".format(\n",
    "                len(self._load_indices), path_to_file\n",
    "            )\n",
    "        )\n",
    "\n",
    "    def __getitem__(self, index):\n",
    "        \"\"\"\n",
    "        Given the video index, return the list of frames, label, and video\n",
    "        index if the video can be fetched and decoded successfully, otherwise\n",
    "        repeatly find a random video that can be decoded as a replacement.\n",
    "        Args:\n",
    "            index (int): the video index provided by the pytorch sampler.\n",
    "        Returns:\n",
    "            frames (tensor): the frames of sampled from the video. The dimension\n",
    "                is `channel` x `num frames` x `height` x `width`.\n",
    "            label (int): the label of the current video.\n",
    "            index (int): if the video provided by pytorch sampler can be\n",
    "                decoded, then return the index of the video. If not, return the\n",
    "                index of the video replacement that can be decoded.\n",
    "        \"\"\"\n",
    "        video, num_clips, ci = self._load_indices[index]\n",
    "        min_scale, max_scale, crop_size = [self.cfg.DATA.TEST_CROP_SIZE] * 3\n",
    "        \n",
    "        # Try to decode and sample a clip from a video. If the video can not be\n",
    "        # decoded, repeatly find a random video replacement that can be decoded.\n",
    "        for _ in range(self._num_retries):\n",
    "            video_container = None\n",
    "            try:\n",
    "                video_container = container.get_video_container(\n",
    "                    video,\n",
    "                    multi_thread_decode=True,\n",
    "                )\n",
    "            except Exception as e:\n",
    "                logger.info(\n",
    "                    \"Failed to load video from {} with error {}\".format(\n",
    "                        video, e\n",
    "                    )\n",
    "                )\n",
    "            \n",
    "            if video_container is None:\n",
    "                raise RuntimeError(f'could not construct video_container: {video}')\n",
    "\n",
    "            # Decode video. Meta info is used to perform selective decoding.\n",
    "            frames = decoder.decode(\n",
    "                video_container,\n",
    "                self.cfg.DATA.SAMPLING_RATE,\n",
    "                self.cfg.DATA.NUM_FRAMES,\n",
    "                ci,\n",
    "                num_clips,\n",
    "                video_meta=None,\n",
    "                target_fps=30,\n",
    "            )\n",
    "\n",
    "            # If decoding failed (wrong format, video is too short, and etc),\n",
    "            # select another video.\n",
    "            if frames is None:\n",
    "                raise RuntimeError('output frames are empty')\n",
    "\n",
    "            # Perform color normalization.\n",
    "            frames = frames.float()\n",
    "            frames = frames / 255.0\n",
    "            frames = frames - torch.tensor(self.cfg.DATA.MEAN)\n",
    "            frames = frames / torch.tensor(self.cfg.DATA.STD)\n",
    "            \n",
    "            # T H W C -> C T H W.\n",
    "            frames = frames.permute(3, 0, 1, 2)\n",
    "            # Perform data augmentation.\n",
    "            frames = self.spatial_sampling(\n",
    "                frames,\n",
    "                spatial_idx=1,\n",
    "                min_scale=min_scale,\n",
    "                max_scale=max_scale,\n",
    "                crop_size=crop_size,\n",
    "            )\n",
    "\n",
    "            frames = self.pack_pathway_output(frames)\n",
    "            return frames, video, num_clips, ci\n",
    "        else:\n",
    "            raise RuntimeError(\n",
    "                \"Failed to fetch video after {} retries.\".format(\n",
    "                    self._num_retries\n",
    "                )\n",
    "            )\n",
    "\n",
    "    def __len__(self):\n",
    "        \"\"\"\n",
    "        Returns:\n",
    "            (int): the number of videos in the dataset.\n",
    "        \"\"\"\n",
    "        return len(self._load_indices)\n",
    "    \n",
    "    def spatial_sampling(\n",
    "        self,\n",
    "        frames,\n",
    "        spatial_idx=-1,\n",
    "        min_scale=256,\n",
    "        max_scale=320,\n",
    "        crop_size=224,\n",
    "    ):\n",
    "        \"\"\"\n",
    "        Perform spatial sampling on the given video frames. If spatial_idx is\n",
    "        -1, perform random scale, random crop, and random flip on the given\n",
    "        frames. If spatial_idx is 0, 1, or 2, perform spatial uniform sampling\n",
    "        with the given spatial_idx.\n",
    "        Args:\n",
    "            frames (tensor): frames of images sampled from the video. The\n",
    "                dimension is `num frames` x `height` x `width` x `channel`.\n",
    "            spatial_idx (int): if -1, perform random spatial sampling. If 0, 1,\n",
    "                or 2, perform left, center, right crop if width is larger than\n",
    "                height, and perform top, center, buttom crop if height is larger\n",
    "                than width.\n",
    "            min_scale (int): the minimal size of scaling.\n",
    "            max_scale (int): the maximal size of scaling.\n",
    "            crop_size (int): the size of height and width used to crop the\n",
    "                frames.\n",
    "        Returns:\n",
    "            frames (tensor): spatially sampled frames.\n",
    "        \"\"\"\n",
    "        assert spatial_idx in [-1, 0, 1, 2]\n",
    "        if spatial_idx == -1:\n",
    "            frames = transform.random_short_side_scale_jitter(\n",
    "                frames, min_scale, max_scale\n",
    "            )\n",
    "            frames = transform.random_crop(frames, crop_size)\n",
    "            frames = transform.horizontal_flip(0.5, frames)\n",
    "        else:\n",
    "            # The testing is deterministic and no jitter should be performed.\n",
    "            # min_scale, max_scale, and crop_size are expect to be the same.\n",
    "            assert len({min_scale, max_scale, crop_size}) == 1\n",
    "#             frames = transform.random_short_side_scale_jitter(\n",
    "#                 frames, min_scale, max_scale\n",
    "#             )\n",
    "#             print(frames.shape)\n",
    "            frames = short_side_scale_padding(frames, crop_size)\n",
    "        return frames\n",
    "    \n",
    "def short_side_scale_padding(images, size):\n",
    "    height = images.shape[2]\n",
    "    width = images.shape[3]\n",
    "    if (width <= height and width == size) or (\n",
    "        height <= width and height == size\n",
    "    ):\n",
    "        return images\n",
    "    new_width = size\n",
    "    new_height = size\n",
    "    if width < height:\n",
    "        new_width = int(math.floor((float(width) / height) * size))\n",
    "        pad_w = (size - new_width) // 2\n",
    "        pad = (pad_w, size-pad_w-new_width, 0, 0)\n",
    "    else:\n",
    "        new_height = int(math.floor((float(height) / width) * size))\n",
    "        pad_h = (size - new_height) // 2\n",
    "        pad = (0, 0, pad_h, size-pad_h-new_height)\n",
    "\n",
    "    images = torch.nn.functional.interpolate(\n",
    "        images,\n",
    "        size=(new_height, new_width),\n",
    "        mode=\"bilinear\",\n",
    "        align_corners=False,\n",
    "    )\n",
    "    return torch.nn.functional.pad(\n",
    "        images,\n",
    "        pad=pad,\n",
    "    )"
   ]
  },
  {
   "cell_type": "code",
   "execution_count": 75,
   "metadata": {},
   "outputs": [
    {
     "name": "stderr",
     "output_type": "stream",
     "text": [
      "0it [00:00, ?it/s]\n"
     ]
    }
   ],
   "source": [
    "from slowfast.config.defaults import get_cfg\n",
    "\n",
    "cfg = get_cfg()\n",
    "cfg.merge_from_file('data/external/slowfast_cfg/slowfast_8x8_r50.yml')\n",
    "dataset = Charade(cfg, mode='test', san_check=True)"
   ]
  },
  {
   "cell_type": "code",
   "execution_count": 76,
   "metadata": {},
   "outputs": [],
   "source": [
    "loader = torch.utils.data.DataLoader(\n",
    "    dataset,\n",
    "    batch_size=3,\n",
    "    shuffle=False,\n",
    "    sampler=None,\n",
    "    num_workers=3,\n",
    "    pin_memory=True,\n",
    "    drop_last=False,\n",
    ")"
   ]
  },
  {
   "cell_type": "code",
   "execution_count": 77,
   "metadata": {},
   "outputs": [],
   "source": [
    "for batch in loader:\n",
    "    break"
   ]
  },
  {
   "cell_type": "code",
   "execution_count": 79,
   "metadata": {},
   "outputs": [
    {
     "data": {
      "text/plain": [
       "4"
      ]
     },
     "execution_count": 79,
     "metadata": {},
     "output_type": "execute_result"
    }
   ],
   "source": [
    "len(batch)"
   ]
  },
  {
   "cell_type": "code",
   "execution_count": 85,
   "metadata": {},
   "outputs": [
    {
     "data": {
      "text/plain": [
       "['data/raw/video/YSKX3.mp4',\n",
       " 'data/raw/video/YSKX3.mp4',\n",
       " 'data/raw/video/YSKX3.mp4']"
      ]
     },
     "execution_count": 85,
     "metadata": {},
     "output_type": "execute_result"
    }
   ],
   "source": [
    "batch[1]"
   ]
  },
  {
   "cell_type": "code",
   "execution_count": 62,
   "metadata": {},
   "outputs": [
    {
     "name": "stdout",
     "output_type": "stream",
     "text": [
      "256 144 (0, 0, 56, 56)\n",
      "256 144 (0, 0, 56, 56)\n",
      "256 144 (0, 0, 56, 56)\n",
      "256 144 (0, 0, 56, 56)\n",
      "256 144 (0, 0, 56, 56)\n",
      "256 144 (0, 0, 56, 56)\n",
      "256 144 (0, 0, 56, 56)\n",
      "256 144 (0, 0, 56, 56)\n",
      "256 144 (0, 0, 56, 56)\n",
      "256 144 (0, 0, 56, 56)\n",
      "256 144 (0, 0, 56, 56)\n",
      "256 144 (0, 0, 56, 56)\n",
      "256 144 (0, 0, 56, 56)\n",
      "256 144 (0, 0, 56, 56)\n",
      "256 144 (0, 0, 56, 56)\n",
      "256 144 (0, 0, 56, 56)\n"
     ]
    }
   ],
   "source": [
    "vid_arr = []\n",
    "for i in range(9, 9+16):\n",
    "    frames = dataset[i][1]\n",
    "    vid_arr.append(frames.numpy().transpose(1,2,3,0))\n",
    "\n",
    "vid_arr = np.concatenate(vid_arr, axis=0)\n",
    "vwrite('test.mp4', vid_arr, outputdict={'-pix_fmt': 'yuv420p'})"
   ]
  },
  {
   "cell_type": "code",
   "execution_count": 9,
   "metadata": {},
   "outputs": [
    {
     "data": {
      "text/html": [
       "<video src=\"http://localhost:8888/files/data/raw/video/T5ECU.mp4\" controls  >\n",
       "      Your browser does not support the <code>video</code> element.\n",
       "    </video>"
      ],
      "text/plain": [
       "<IPython.core.display.Video object>"
      ]
     },
     "execution_count": 9,
     "metadata": {},
     "output_type": "execute_result"
    }
   ],
   "source": [
    "from IPython.display import Video\n",
    "\n",
    "Video(f'http://localhost:8888/files/data/raw/video/T5ECU.mp4')"
   ]
  },
  {
   "cell_type": "code",
   "execution_count": 39,
   "metadata": {},
   "outputs": [
    {
     "data": {
      "text/html": [
       "<video src=\"http://localhost:8888/files/test.mp4\" controls  >\n",
       "      Your browser does not support the <code>video</code> element.\n",
       "    </video>"
      ],
      "text/plain": [
       "<IPython.core.display.Video object>"
      ]
     },
     "execution_count": 39,
     "metadata": {},
     "output_type": "execute_result"
    }
   ],
   "source": [
    "Video(f'http://localhost:8888/files/test.mp4')"
   ]
  },
  {
   "cell_type": "code",
   "execution_count": 86,
   "metadata": {},
   "outputs": [],
   "source": [
    "from slowfast.models.video_model_builder import SlowFastModel"
   ]
  },
  {
   "cell_type": "code",
   "execution_count": 95,
   "metadata": {},
   "outputs": [
    {
     "name": "stderr",
     "output_type": "stream",
     "text": [
      "  0%|          | 0/1863 [00:00<?, ?it/s]\n"
     ]
    }
   ],
   "source": [
    "cfg = get_cfg()\n",
    "cfg.merge_from_file('data/external/slowfast_cfg/slowfast_8x8_r50.yml')\n",
    "dataset = Charade(cfg, mode='test', san_check=True)"
   ]
  },
  {
   "cell_type": "code",
   "execution_count": 96,
   "metadata": {},
   "outputs": [],
   "source": [
    "from slowfast.models.video_model_builder import SlowFastModel\n",
    "from slowfast.config.defaults import get_cfg\n",
    "\n",
    "class SlowFastExtractor(SlowFastModel):\n",
    "    def forward(self, x):\n",
    "        x = self.s1(x)\n",
    "        x = self.s1_fuse(x)\n",
    "        x = self.s2(x)\n",
    "        x = self.s2_fuse(x)\n",
    "        for pathway in range(self.num_pathways):\n",
    "            pool = getattr(self, \"pathway{}_pool\".format(pathway))\n",
    "            x[pathway] = pool(x[pathway])\n",
    "        x = self.s3(x)\n",
    "        x = self.s3_fuse(x)\n",
    "        x = self.s4(x)\n",
    "        x = self.s4_fuse(x)\n",
    "        x = self.s5(x)\n",
    "        x = [self.head.pathway0_avgpool(x[0]), self.head.pathway1_avgpool(x[1])]\n",
    "        x = torch.cat(x, 1)\n",
    "        x = x.permute(0,2,3,4,1)\n",
    "        return x"
   ]
  },
  {
   "cell_type": "code",
   "execution_count": 97,
   "metadata": {},
   "outputs": [],
   "source": [
    "model = SlowFastExtractor(cfg)"
   ]
  },
  {
   "cell_type": "code",
   "execution_count": 98,
   "metadata": {},
   "outputs": [],
   "source": [
    "loader = torch.utils.data.DataLoader(\n",
    "    dataset,\n",
    "    batch_size=3,\n",
    "    shuffle=False,\n",
    "    sampler=None,\n",
    "    num_workers=3,\n",
    "    pin_memory=True,\n",
    "    drop_last=False,\n",
    ")"
   ]
  },
  {
   "cell_type": "code",
   "execution_count": 105,
   "metadata": {},
   "outputs": [],
   "source": [
    "for batch in loader:\n",
    "    inputs, _, _, _ = batch\n",
    "    y = model(inputs)\n",
    "    break"
   ]
  },
  {
   "cell_type": "code",
   "execution_count": 107,
   "metadata": {},
   "outputs": [
    {
     "data": {
      "text/plain": [
       "torch.Size([3, 1, 2, 2, 2304])"
      ]
     },
     "execution_count": 107,
     "metadata": {},
     "output_type": "execute_result"
    }
   ],
   "source": [
    "y.shape"
   ]
  },
  {
   "cell_type": "code",
   "execution_count": 102,
   "metadata": {},
   "outputs": [
    {
     "data": {
      "text/plain": [
       "torch.Size([3, 2304])"
      ]
     },
     "execution_count": 102,
     "metadata": {},
     "output_type": "execute_result"
    }
   ],
   "source": [
    "y = y.mean([1,2,3])\n",
    "y.shape"
   ]
  },
  {
   "cell_type": "code",
   "execution_count": 109,
   "metadata": {},
   "outputs": [
    {
     "data": {
      "text/plain": [
       "106"
      ]
     },
     "execution_count": 109,
     "metadata": {},
     "output_type": "execute_result"
    }
   ],
   "source": [
    "len(dataset)"
   ]
  }
 ],
 "metadata": {
  "kernelspec": {
   "display_name": "Python 3",
   "language": "python",
   "name": "python3"
  },
  "language_info": {
   "codemirror_mode": {
    "name": "ipython",
    "version": 3
   },
   "file_extension": ".py",
   "mimetype": "text/x-python",
   "name": "python",
   "nbconvert_exporter": "python",
   "pygments_lexer": "ipython3",
   "version": "3.7.3"
  }
 },
 "nbformat": 4,
 "nbformat_minor": 4
}
