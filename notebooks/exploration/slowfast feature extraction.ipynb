{
 "cells": [
  {
   "cell_type": "code",
   "execution_count": null,
   "metadata": {},
   "outputs": [],
   "source": []
  },
  {
   "cell_type": "code",
   "execution_count": 6,
   "metadata": {},
   "outputs": [],
   "source": [
    "cfg.DATA.PATH_TO_DATA_DIR = 'data/raw/slowfast_data_cfg/'\n",
    "cfg.DATA.PATH_PREFIX = 'data/raw/video/'"
   ]
  },
  {
   "cell_type": "code",
   "execution_count": 7,
   "metadata": {},
   "outputs": [],
   "source": [
    "dataloader = loader.construct_loader(cfg, 'test')"
   ]
  },
  {
   "cell_type": "code",
   "execution_count": 8,
   "metadata": {},
   "outputs": [],
   "source": [
    "data_iter = iter(dataloader)\n",
    "batch = data_iter.next()"
   ]
  },
  {
   "cell_type": "code",
   "execution_count": 9,
   "metadata": {},
   "outputs": [],
   "source": [
    "frames, label, index = batch\n",
    "device = torch.device(\"cuda:0\")\n",
    "model.eval()\n",
    "frames = [x.to(device) for x in frames]\n",
    "preds = model(frames)"
   ]
  },
  {
   "cell_type": "code",
   "execution_count": 10,
   "metadata": {},
   "outputs": [],
   "source": [
    "x = frames[0][:2], frames[0][:2]"
   ]
  },
  {
   "cell_type": "code",
   "execution_count": 17,
   "metadata": {},
   "outputs": [],
   "source": [
    "frames, label, index = batch\n",
    "x = [x.to(device) for x in frames]"
   ]
  },
  {
   "cell_type": "code",
   "execution_count": 18,
   "metadata": {},
   "outputs": [],
   "source": [
    "m = model\n",
    "x = m.s1(x)\n",
    "x = m.s1_fuse(x)\n",
    "x = m.s2(x)\n",
    "x = m.s2_fuse(x)\n",
    "for pathway in range(m.num_pathways):\n",
    "    pool = getattr(m, \"pathway{}_pool\".format(pathway))\n",
    "    x[pathway] = pool(x[pathway])\n",
    "x = m.s3(x)\n",
    "x = m.s3_fuse(x)\n",
    "x = m.s4(x)\n",
    "x = m.s4_fuse(x)\n",
    "x = m.s5(x)\n",
    "# x = self.head(x)\n",
    "# return x"
   ]
  },
  {
   "cell_type": "code",
   "execution_count": 19,
   "metadata": {},
   "outputs": [],
   "source": [
    "# head\n",
    "head = m.head\n",
    "x0 = head.pathway0_avgpool(x[0])\n",
    "x1 = head.pathway1_avgpool(x[1])\n",
    "pool_out = [x0, x1]\n",
    "h = torch.cat(pool_out, 1)\n",
    "h = h.permute((0,2,3,4,1))\n",
    "# h = head.dropout(h)\n",
    "# h = head.projection(h)"
   ]
  },
  {
   "cell_type": "code",
   "execution_count": 20,
   "metadata": {},
   "outputs": [
    {
     "data": {
      "text/plain": [
       "(torch.Size([2, 2048, 8, 8, 8]),\n",
       " torch.Size([2, 256, 32, 8, 8]),\n",
       " torch.Size([2, 1, 2, 2, 2304]))"
      ]
     },
     "execution_count": 20,
     "metadata": {},
     "output_type": "execute_result"
    }
   ],
   "source": [
    "x[0].shape, x[1].shape, h.shape"
   ]
  },
  {
   "cell_type": "code",
   "execution_count": 22,
   "metadata": {},
   "outputs": [],
   "source": [
    "h = h.mean([1,2,3])"
   ]
  },
  {
   "cell_type": "code",
   "execution_count": null,
   "metadata": {},
   "outputs": [],
   "source": [
    "h.shape"
   ]
  },
  {
   "cell_type": "code",
   "execution_count": 3,
   "metadata": {},
   "outputs": [
    {
     "data": {
      "text/plain": [
       "4.299230769230769"
      ]
     },
     "execution_count": 3,
     "metadata": {},
     "output_type": "execute_result"
    }
   ],
   "source": [
    "11178/2600"
   ]
  },
  {
   "cell_type": "code",
   "execution_count": null,
   "metadata": {},
   "outputs": [],
   "source": []
  }
 ],
 "metadata": {
  "kernelspec": {
   "display_name": "Python 3",
   "language": "python",
   "name": "python3"
  },
  "language_info": {
   "codemirror_mode": {
    "name": "ipython",
    "version": 3
   },
   "file_extension": ".py",
   "mimetype": "text/x-python",
   "name": "python",
   "nbconvert_exporter": "python",
   "pygments_lexer": "ipython3",
   "version": "3.7.3"
  }
 },
 "nbformat": 4,
 "nbformat_minor": 4
}
