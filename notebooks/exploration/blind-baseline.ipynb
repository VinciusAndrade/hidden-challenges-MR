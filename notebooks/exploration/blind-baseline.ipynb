{
 "cells": [
  {
   "cell_type": "code",
   "execution_count": null,
   "metadata": {},
   "outputs": [],
   "source": [
    "cd ~/3TDisk/Experiments/2D-TAN/"
   ]
  },
  {
   "cell_type": "code",
   "execution_count": 2,
   "metadata": {},
   "outputs": [],
   "source": [
    "import sys\n",
    "sys.path.append(\"./lib\")\n",
    "\n",
    "import os\n",
    "import math\n",
    "import argparse\n",
    "import pickle as pkl\n",
    "\n",
    "from tqdm import tqdm\n",
    "import numpy as np\n",
    "import torch\n",
    "from torch.utils.data import DataLoader\n",
    "\n",
    "# import _init_paths\n",
    "from core.engine import Engine\n",
    "import datasets\n",
    "import models\n",
    "from core.utils import AverageMeter\n",
    "from core.config import config, update_config\n",
    "from core.eval import eval_predictions, display_results\n",
    "import models.loss as loss"
   ]
  },
  {
   "cell_type": "code",
   "execution_count": 8,
   "metadata": {},
   "outputs": [],
   "source": [
    "import numpy as np\n",
    "import torch\n",
    "from torch import nn\n",
    "from core.config import config\n",
    "import models.prop_modules as prop_modules\n",
    "import models.map_modules as map_modules\n",
    "import models.fusion_modules as fusion_modules\n",
    "\n",
    "\n",
    "class BlindTAN(nn.Module):\n",
    "    def __init__(self):\n",
    "        super(BlindTAN, self).__init__()\n",
    "        self.map_mask = torch.tensor(\n",
    "            np.load(\"lib/models/prop_modules/map_mask.npy\")[None, :],\n",
    "            requires_grad=False)\n",
    "        self.map_h = nn.Parameter(torch.rand(512, 64, 64) * 2 - 1)\n",
    "        self.prop_layer = getattr(prop_modules, config.TAN.PROP_MODULE.NAME)(\n",
    "            config.TAN.PROP_MODULE.PARAMS\n",
    "        )\n",
    "        self.fusion_layer = getattr(\n",
    "            fusion_modules, config.TAN.FUSION_MODULE.NAME\n",
    "        )(config.TAN.FUSION_MODULE.PARAMS)\n",
    "        self.map_layer = getattr(map_modules, config.TAN.MAP_MODULE.NAME)(\n",
    "            config.TAN.MAP_MODULE.PARAMS\n",
    "        )\n",
    "        self.pred_layer = nn.Conv2d(config.TAN.PRED_INPUT_SIZE, 1, 1, 1)\n",
    "\n",
    "    def forward(self, textual_input, textual_mask):\n",
    "        b_n = textual_input.shape[0]\n",
    "        map_h = self.map_h.expand(b_n, *self.map_h.shape)\n",
    "        map_mask = self.map_mask.expand(b_n, *self.map_mask.shape)\n",
    "        fused_h = self.fusion_layer(\n",
    "            textual_input, textual_mask, map_h, map_mask\n",
    "        )\n",
    "        fused_h = self.map_layer(fused_h, map_mask)\n",
    "        prediction = self.pred_layer(fused_h) * map_mask\n",
    "        return prediction, map_mask"
   ]
  },
  {
   "cell_type": "code",
   "execution_count": 3,
   "metadata": {},
   "outputs": [],
   "source": [
    "update_config(\"experiments/charades/2D-TAN-16x16-K5L8-conv-BLIND.yaml\")\n",
    "test_dataset = datasets.Charades(\"test\")"
   ]
  },
  {
   "cell_type": "code",
   "execution_count": 7,
   "metadata": {},
   "outputs": [
    {
     "ename": "NameError",
     "evalue": "name 'BlindTAN' is not defined",
     "output_type": "error",
     "traceback": [
      "\u001b[0;31m---------------------------------------------------------------------------\u001b[0m",
      "\u001b[0;31mNameError\u001b[0m                                 Traceback (most recent call last)",
      "\u001b[0;32m<ipython-input-7-0fc961a64f93>\u001b[0m in \u001b[0;36m<module>\u001b[0;34m\u001b[0m\n\u001b[0;32m----> 1\u001b[0;31m \u001b[0mmodel\u001b[0m \u001b[0;34m=\u001b[0m \u001b[0mBlindTAN\u001b[0m\u001b[0;34m(\u001b[0m\u001b[0;34m)\u001b[0m\u001b[0;34m\u001b[0m\u001b[0;34m\u001b[0m\u001b[0m\n\u001b[0m",
      "\u001b[0;31mNameError\u001b[0m: name 'BlindTAN' is not defined"
     ]
    }
   ],
   "source": [
    "model = BlindTAN()"
   ]
  },
  {
   "cell_type": "code",
   "execution_count": 4,
   "metadata": {},
   "outputs": [],
   "source": [
    "dataloader = DataLoader(\n",
    "    test_dataset,\n",
    "    batch_size=3,\n",
    "    shuffle=False,\n",
    "    num_workers=config.WORKERS,\n",
    "    pin_memory=False,\n",
    "    collate_fn=datasets.collate_fn,\n",
    ")\n",
    "\n",
    "data_iter = iter(dataloader)\n",
    "sample = data_iter.next()"
   ]
  },
  {
   "cell_type": "code",
   "execution_count": 5,
   "metadata": {},
   "outputs": [
    {
     "data": {
      "text/plain": [
       "dict_keys(['batch_anno_idxs', 'batch_word_vectors', 'batch_txt_mask', 'batch_map_gt', 'batch_duration'])"
      ]
     },
     "execution_count": 5,
     "metadata": {},
     "output_type": "execute_result"
    }
   ],
   "source": [
    "sample.keys()"
   ]
  },
  {
   "cell_type": "code",
   "execution_count": 6,
   "metadata": {},
   "outputs": [],
   "source": [
    "textual_input = sample[\"batch_word_vectors\"]\n",
    "textual_mask = sample[\"batch_txt_mask\"]\n",
    "map_gt = sample[\"batch_map_gt\"]"
   ]
  },
  {
   "cell_type": "code",
   "execution_count": 10,
   "metadata": {},
   "outputs": [],
   "source": [
    "prediction, _ = model(textual_input, textual_mask)"
   ]
  },
  {
   "cell_type": "code",
   "execution_count": 11,
   "metadata": {},
   "outputs": [
    {
     "data": {
      "text/plain": [
       "torch.Size([3, 1, 64, 64])"
      ]
     },
     "execution_count": 11,
     "metadata": {},
     "output_type": "execute_result"
    }
   ],
   "source": []
  },
  {
   "cell_type": "code",
   "execution_count": 12,
   "metadata": {},
   "outputs": [
    {
     "data": {
      "text/plain": [
       "<matplotlib.image.AxesImage at 0x7efc55b98fd0>"
      ]
     },
     "execution_count": 12,
     "metadata": {},
     "output_type": "execute_result"
    },
    {
     "data": {
      "image/png": "[encoded data removed]",
      "text/plain": [
       "<Figure size 288x288 with 1 Axes>"
      ]
     },
     "metadata": {
      "needs_background": "light"
     },
     "output_type": "display_data"
    }
   ],
   "source": [
    "import matplotlib.pyplot as plt\n",
    "plt.matshow(map_gt[0, 0, :,:].detach().numpy())"
   ]
  },
  {
   "cell_type": "code",
   "execution_count": 58,
   "metadata": {},
   "outputs": [
    {
     "data": {
      "text/plain": [
       "tensor([[0.0020, 0.0020, 0.0020,  ..., 0.0000, 0.0000, 0.0020],\n",
       "        [0.0000, 0.0020, 0.0020,  ..., 0.0000, 0.0000, 0.0000],\n",
       "        [0.0000, 0.0000, 0.0020,  ..., 0.0000, 0.0000, 0.0000],\n",
       "        ...,\n",
       "        [0.0000, 0.0000, 0.0000,  ..., 0.0020, 0.0020, 0.0020],\n",
       "        [0.0000, 0.0000, 0.0000,  ..., 0.0000, 0.0020, 0.0020],\n",
       "        [0.0000, 0.0000, 0.0000,  ..., 0.0000, 0.0000, 0.0020]],\n",
       "       grad_fn=<SliceBackward>)"
      ]
     },
     "execution_count": 58,
     "metadata": {},
     "output_type": "execute_result"
    }
   ],
   "source": [
    "prediction[0, 0, :,:]"
   ]
  },
  {
   "cell_type": "code",
   "execution_count": null,
   "metadata": {},
   "outputs": [],
   "source": []
  }
 ],
 "metadata": {
  "kernelspec": {
   "display_name": "Python 3",
   "language": "python",
   "name": "python3"
  },
  "language_info": {
   "codemirror_mode": {
    "name": "ipython",
    "version": 3
   },
   "file_extension": ".py",
   "mimetype": "text/x-python",
   "name": "python",
   "nbconvert_exporter": "python",
   "pygments_lexer": "ipython3",
   "version": "3.7.3"
  }
 },
 "nbformat": 4,
 "nbformat_minor": 4
}
