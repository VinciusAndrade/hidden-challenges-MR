{
 "cells": [
  {
   "cell_type": "code",
   "execution_count": 4,
   "metadata": {},
   "outputs": [
    {
     "name": "stdout",
     "output_type": "stream",
     "text": [
      "/mnt/sda/otani/Experiments/moment_retrieval\n"
     ]
    }
   ],
   "source": [
    "cd ../../"
   ]
  },
  {
   "cell_type": "code",
   "execution_count": 2,
   "metadata": {},
   "outputs": [
    {
     "name": "stderr",
     "output_type": "stream",
     "text": [
      "/home/otani_mayu/miniconda3/envs/moment_retrieval/lib/python3.7/importlib/_bootstrap.py:219: RuntimeWarning: numpy.ufunc size changed, may indicate binary incompatibility. Expected 216, got 192\n",
      "  return f(*args, **kwds)\n"
     ]
    }
   ],
   "source": [
    "%matplotlib inline\n",
    "from skvideo.io import vread, vwrite\n",
    "from typing import List\n",
    "import pandas as pd\n",
    "import numpy as np\n",
    "import spacy\n",
    "import matplotlib.pyplot as plt\n",
    "from src.toolbox.utils import _nms, sentence2token, _load_top_actions\n",
    "from src.toolbox.eval import evaluate, location_error, accumulate_metrics, categorize_results, summarize_results_per_class, predict\n",
    "from src.toolbox.visualization import plot_performance_per_class, plot_performance_per_duration\n",
    "from src.toolbox.data_converters import Charade2Instances\n",
    "from src.toolbox.baseline import SegmentGeneratorKDE\n",
    "import seaborn as sns\n",
    "sns.set_style(\"white\")"
   ]
  },
  {
   "cell_type": "code",
   "execution_count": 5,
   "metadata": {},
   "outputs": [],
   "source": [
    "train_data = Charade2Instances(pd.read_csv('data/processed/train.csv'))\n",
    "top_actions = []\n",
    "with open('data/processed/charade/top50_actions') as f:\n",
    "    for line in f:\n",
    "        top_actions.append(line.rstrip())"
   ]
  },
  {
   "cell_type": "code",
   "execution_count": 17,
   "metadata": {},
   "outputs": [],
   "source": [
    "from collections import Counter\n",
    "verbs = sum([sentence2token(query[1])[0] for query, _ in train_data], [])\n",
    "verb_c = Counter(verbs)\n"
   ]
  },
  {
   "cell_type": "code",
   "execution_count": 19,
   "metadata": {},
   "outputs": [],
   "source": [
    "top_actions = top_actions[:30]\n",
    "grouped_instances = {action: [] for action in top_actions}\n",
    "grouped_instances['base'] = []\n",
    "for query, location in train_data:\n",
    "    verb, obj = sentence2token(query[1])\n",
    "    if len(verb) > 0:\n",
    "        verb = verb[0]\n",
    "    else:\n",
    "        verb = None\n",
    "    if verb in top_actions:\n",
    "        grouped_instances[verb].append((query, location))\n",
    "    else:\n",
    "        grouped_instances['base'].append((query, location))"
   ]
  },
  {
   "cell_type": "code",
   "execution_count": 20,
   "metadata": {
    "scrolled": true
   },
   "outputs": [
    {
     "name": "stdout",
     "output_type": "stream",
     "text": [
      "open\n",
      "#instances: 1316\n",
      "put\n",
      "#instances: 1092\n",
      "eat\n",
      "#instances: 656\n",
      "take\n",
      "#instances: 823\n",
      "close\n",
      "#instances: 764\n",
      "sit\n",
      "#instances: 745\n",
      "hold\n",
      "#instances: 393\n",
      "turn\n",
      "#instances: 510\n",
      "throw\n",
      "#instances: 483\n",
      "run\n",
      "#instances: 465\n",
      "drink\n",
      "#instances: 389\n",
      "start\n",
      "#instances: 399\n",
      "begin\n",
      "#instances: 383\n",
      "walk\n",
      "#instances: 351\n",
      "look\n",
      "#instances: 243\n",
      "sneeze\n",
      "#instances: 155\n",
      "laugh\n",
      "#instances: 198\n",
      "pour\n",
      "#instances: 239\n",
      "smile\n",
      "#instances: 185\n",
      "stand\n",
      "#instances: 226\n",
      "undress\n",
      "#instances: 135\n",
      "cook\n",
      "#instances: 140\n",
      "watch\n",
      "#instances: 122\n",
      "awaken\n",
      "#instances: 160\n",
      "wash\n",
      "#instances: 122\n",
      "dress\n",
      "#instances: 72\n",
      "play\n",
      "#instances: 76\n",
      "read\n",
      "#instances: 61\n",
      "fix\n",
      "#instances: 82\n",
      "snuggle\n",
      "#instances: 58\n",
      "base\n",
      "#instances: 1365\n"
     ]
    }
   ],
   "source": [
    "segment_generator = SegmentGeneratorKDE()\n",
    "for action, train_instances in grouped_instances.items():\n",
    "    print(action)\n",
    "    segment_generator.fit(action, train_instances)"
   ]
  },
  {
   "cell_type": "code",
   "execution_count": 130,
   "metadata": {},
   "outputs": [
    {
     "data": {
      "text/plain": [
       "'person examining it with a light.'"
      ]
     },
     "execution_count": 130,
     "metadata": {},
     "output_type": "execute_result"
    }
   ],
   "source": [
    "random.choice(train_data)"
   ]
  },
  {
   "cell_type": "code",
   "execution_count": 211,
   "metadata": {},
   "outputs": [
    {
     "data": {
      "text/plain": [
       "1241"
      ]
     },
     "execution_count": 211,
     "metadata": {},
     "output_type": "execute_result"
    }
   ],
   "source": [
    "len(train_data[::10])"
   ]
  },
  {
   "cell_type": "code",
   "execution_count": 283,
   "metadata": {
    "scrolled": true
   },
   "outputs": [],
   "source": [
    "import random\n",
    "pos_mags = []\n",
    "neg_mags = []\n",
    "\n",
    "# sub_train = train_data[::100]\n",
    "# for query, location in sub_train:\n",
    "query, location = random.choice(train_data)\n",
    "video_id = query[0]\n",
    "moments = [location for query, location in train_data if query[0]==video_id]\n",
    "duration = moments[0][-1]\n",
    "locations = np.asarray([(s, e) for s, e, _ in moments])\n",
    "\n",
    "vid_arr = vread(f'data/raw/video/{video_id}.mp4',\n",
    "                outputdict={\"-r\": \"10\", '-vf':'hue=s=0', '-s': '255x255'})\n",
    "vid_arr = vid_arr[:,:,:,0]\n",
    "diff = np.power(vid_arr[:-1] - vid_arr[1:], 2)\n",
    "mag_diff = np.mean(diff, axis=(1,2))\n",
    "w = np.ones(10)\n",
    "k = w/w.sum()\n",
    "mag_diff = np.convolve(k, mag_diff, mode='same')\n",
    "\n",
    "locations_on_frame = locations / duration * len(vid_arr)\n",
    "locations_on_frame = np.round(locations_on_frame).astype('i')\n",
    "\n",
    "pos_mags += [np.mean(mag_diff[s:e]) for s, e in locations_on_frame]\n",
    "mag_diff_copy = mag_diff.copy()\n",
    "for s, e in locations_on_frame:\n",
    "    mag_diff_copy[s:e] = np.nan\n",
    "neg_mags.append(np.nanmean(mag_diff_copy))\n",
    "\n",
    "if len(neg_mags)%10==0:\n",
    "    print(len(neg_mags))"
   ]
  },
  {
   "cell_type": "code",
   "execution_count": 284,
   "metadata": {},
   "outputs": [
    {
     "data": {
      "image/png": "[encoded data removed]",
      "text/plain": [
       "<Figure size 432x288 with 1 Axes>"
      ]
     },
     "metadata": {
      "needs_background": "light"
     },
     "output_type": "display_data"
    }
   ],
   "source": [
    "plt.plot(mag_diff)\n",
    "for loc in locations_on_frame:\n",
    "    plt.axvspan(*loc, alpha=0.3, color=\"m\")"
   ]
  },
  {
   "cell_type": "markdown",
   "metadata": {},
   "source": [
    "# Test action prior + motion thresholding"
   ]
  },
  {
   "cell_type": "code",
   "execution_count": 223,
   "metadata": {},
   "outputs": [],
   "source": [
    "test_data = Charade2Instances(pd.read_csv(\"data/processed/test.csv\"))"
   ]
  },
  {
   "cell_type": "code",
   "execution_count": 226,
   "metadata": {},
   "outputs": [],
   "source": [
    "diffs = {}\n",
    "\n",
    "for query, location in test_data:\n",
    "    video_id = query[0]\n",
    "    if video_id in diffs:\n",
    "        continue\n",
    "        \n",
    "    moments = [location for query, location in test_data if query[0]==video_id]\n",
    "    duration = moments[0][-1]\n",
    "    locations = np.asarray([(s, e) for s, e, _ in moments])\n",
    "\n",
    "    vid_arr = vread(f'data/raw/video/{video_id}.mp4',\n",
    "                    outputdict={\"-r\": \"10\", '-vf':'hue=s=0', '-s': '255x255'})\n",
    "    vid_arr = vid_arr[:,:,:,0]\n",
    "    diff = np.power(vid_arr[:-1] - vid_arr[1:], 2)\n",
    "    mag_diff = np.mean(diff, axis=(1,2))\n",
    "    w = np.ones(10)\n",
    "    k = w/w.sum()\n",
    "    mag_diff = np.convolve(k, mag_diff, mode='same')\n",
    "    diffs[video_id] = mag_diff"
   ]
  },
  {
   "cell_type": "code",
   "execution_count": 243,
   "metadata": {},
   "outputs": [],
   "source": [
    "def get_diff_val(video_id, bboxes):\n",
    "    diff = diffs[video_id]\n",
    "    n = len(diff)\n",
    "    scaled_bboxes = np.round(bboxes * n).astype('i')\n",
    "    segment_diff = [np.mean(diff[s:e]) for s, e in scaled_bboxes]\n",
    "    return np.asarray(segment_diff) / 100\n",
    "\n",
    "def predict(\n",
    "    segment_generator,\n",
    "    instances,\n",
    "    nms_threshold = 0.45,\n",
    "    top_k = 10,\n",
    "):\n",
    "    predictions = []\n",
    "    for instance in instances:\n",
    "        query, location = instance\n",
    "        length = location[-1]\n",
    "        vide_id = query[0]\n",
    "        actions, objects = sentence2token(query[1])\n",
    "\n",
    "        if len(actions):\n",
    "            actions = [\n",
    "                action\n",
    "                for action in actions\n",
    "                if action in segment_generator.vocab\n",
    "            ]\n",
    "            action = actions[0] if len(actions) else \"base\"\n",
    "            samples, likelifood = segment_generator.sample(action, 100)\n",
    "        else:\n",
    "            samples, likelifood = segment_generator.sample(\"base\", 100)\n",
    "\n",
    "        bbox = samples.copy()\n",
    "        bbox[:, 1] = bbox.sum(axis=1)\n",
    "\n",
    "        valid = (bbox[:, 1] - bbox[:, 0]) > 0\n",
    "        bbox = bbox[valid]\n",
    "        likelifood = likelifood[valid]\n",
    "        diff = get_diff_val(video_id, bbox)\n",
    "        likelifood += 2*diff\n",
    "\n",
    "        keep = _nms(bbox, likelifood, nms_threshold, top_k=top_k)\n",
    "        bbox = bbox[keep]\n",
    "        likelifood = likelifood[keep]\n",
    "\n",
    "        location = np.hstack([bbox * length, np.ones((len(bbox), 1)) * length])\n",
    "\n",
    "        predictions.append((query, location.tolist(), likelifood.tolist()))\n",
    "\n",
    "    return predictions"
   ]
  },
  {
   "cell_type": "code",
   "execution_count": 244,
   "metadata": {},
   "outputs": [
    {
     "name": "stdout",
     "output_type": "stream",
     "text": [
      "R@1 IoU>0.3 0.41\n",
      "R@1 IoU>0.5 0.27\n",
      "R@1 IoU>0.7 0.12\n",
      "R@5 IoU>0.3 0.86\n",
      "R@5 IoU>0.5 0.72\n",
      "R@5 IoU>0.7 0.37\n",
      "R@10 IoU>0.3 0.86\n",
      "R@10 IoU>0.5 0.72\n",
      "R@10 IoU>0.7 0.37\n"
     ]
    }
   ],
   "source": [
    "predictions = predict(segment_generator, test_data, 0.45, 5)\n",
    "results = evaluate(test_data, predictions)\n",
    "summary = accumulate_metrics(results)"
   ]
  },
  {
   "cell_type": "code",
   "execution_count": null,
   "metadata": {},
   "outputs": [],
   "source": []
  }
 ],
 "metadata": {
  "kernelspec": {
   "display_name": "Python 3",
   "language": "python",
   "name": "python3"
  },
  "language_info": {
   "codemirror_mode": {
    "name": "ipython",
    "version": 3
   },
   "file_extension": ".py",
   "mimetype": "text/x-python",
   "name": "python",
   "nbconvert_exporter": "python",
   "pygments_lexer": "ipython3",
   "version": "3.7.3"
  }
 },
 "nbformat": 4,
 "nbformat_minor": 4
}
