{
 "cells": [
  {
   "cell_type": "code",
   "execution_count": 1,
   "metadata": {},
   "outputs": [
    {
     "name": "stdout",
     "output_type": "stream",
     "text": [
      "/mnt/sda/otani/Experiments/moment_retrieval\n"
     ]
    }
   ],
   "source": [
    "cd ../../"
   ]
  },
  {
   "cell_type": "code",
   "execution_count": 2,
   "metadata": {},
   "outputs": [],
   "source": [
    "import json\n",
    "from src.toolbox.data_converters import ActivityNetCap2Instances"
   ]
  },
  {
   "cell_type": "code",
   "execution_count": 3,
   "metadata": {},
   "outputs": [],
   "source": [
    "import pickle as pkl\n",
    "\n",
    "result_2d_tan = pkl.load(open(\"reports/figure_src/results/activitynet/2d-tan.pkl\", \"rb\"))"
   ]
  },
  {
   "cell_type": "code",
   "execution_count": 4,
   "metadata": {},
   "outputs": [],
   "source": [
    "available_video = []\n",
    "read_first_line = False\n",
    "with open(\"data/raw/ActivityNet/val_2_video_status.csv\") as f:\n",
    "    for line in f:\n",
    "        if read_first_line == False:\n",
    "            read_first_line = True\n",
    "            continue\n",
    "        video_id, is_viewable = line.rstrip().split(\",\")\n",
    "        if is_viewable == \"True\":\n",
    "            available_video.append(video_id)"
   ]
  },
  {
   "cell_type": "code",
   "execution_count": 5,
   "metadata": {},
   "outputs": [
    {
     "data": {
      "text/plain": [
       "2786"
      ]
     },
     "execution_count": 5,
     "metadata": {},
     "output_type": "execute_result"
    }
   ],
   "source": [
    "len(available_video)"
   ]
  },
  {
   "cell_type": "code",
   "execution_count": 6,
   "metadata": {},
   "outputs": [
    {
     "data": {
      "text/plain": [
       "(('v_uqiMw7tQ1Cc',\n",
       "  'Two men both dressed in athletic gear are standing and talking in an indoor weight lifting gym filled with other equipment.'),\n",
       " [[0.0, 12.92578125, 55.15],\n",
       "  [0.0, 25.8515625, 55.15],\n",
       "  [0.0, 6.032031536102295, 55.15],\n",
       "  [4.30859375, 17.234375, 55.15],\n",
       "  [0.0, 51.703125, 55.15]],\n",
       " [4, 3, 2, 1, 0],\n",
       " {'R@1 IoU>0.3': True,\n",
       "  'R@1 IoU>0.5': False,\n",
       "  'R@1 IoU>0.7': False,\n",
       "  'R@5 IoU>0.3': True,\n",
       "  'R@5 IoU>0.5': True,\n",
       "  'R@5 IoU>0.7': False,\n",
       "  'R@10 IoU>0.3': True,\n",
       "  'R@10 IoU>0.5': True,\n",
       "  'R@10 IoU>0.7': False})"
      ]
     },
     "execution_count": 6,
     "metadata": {},
     "output_type": "execute_result"
    }
   ],
   "source": [
    "result_2d_tan[0]"
   ]
  },
  {
   "cell_type": "code",
   "execution_count": 9,
   "metadata": {},
   "outputs": [
    {
     "data": {
      "text/plain": [
       "'test \"\"test\"\" test'"
      ]
     },
     "execution_count": 9,
     "metadata": {},
     "output_type": "execute_result"
    }
   ],
   "source": [
    "s = 'test \"test\" test'\n",
    "s.replace('\"', '\"\"')"
   ]
  },
  {
   "cell_type": "code",
   "execution_count": 14,
   "metadata": {},
   "outputs": [],
   "source": [
    "data = []\n",
    "# with open(\"data/processed/amt/2d-tan-activitynet.csv\", \"w\") as f:\n",
    "#     f.write(\"video_id,start_sec,end_sec,length,description\\n\")\n",
    "for query, locations, _, _ in result_2d_tan:\n",
    "    video_id, description = query\n",
    "    video_id = video_id[2:]\n",
    "    start_sec, end_sec, length = locations[0]\n",
    "    if video_id in available_video:\n",
    "        description = description.replace('\"', '\"\"')\n",
    "        data.append((video_id, start_sec, end_sec, length, f\"{description}\"))\n",
    "#             f.write(f'{video_id},{start_sec},{end_sec},{length},\"{description}\"\\n')"
   ]
  },
  {
   "cell_type": "code",
   "execution_count": 15,
   "metadata": {},
   "outputs": [],
   "source": [
    "import random\n",
    "random.shuffle(data)"
   ]
  },
  {
   "cell_type": "code",
   "execution_count": 16,
   "metadata": {},
   "outputs": [],
   "source": [
    "with open(\"data/processed/amt/2d-tan-activitynet.csv\", \"w\") as f:\n",
    "    f.write(\"video_id,start_sec,end_sec,length,description\\n\")\n",
    "    for video_id, start_sec, end_sec, length, description in data:\n",
    "        f.write(f'{video_id}.mp4,{start_sec},{end_sec},{length},\"{description}\"\\n')"
   ]
  },
  {
   "cell_type": "code",
   "execution_count": 13,
   "metadata": {},
   "outputs": [
    {
     "data": {
      "text/plain": [
       "0.5721918853854735"
      ]
     },
     "execution_count": 13,
     "metadata": {},
     "output_type": "execute_result"
    }
   ],
   "source": [
    "len(data) / len(result_2d_tan)"
   ]
  },
  {
   "cell_type": "code",
   "execution_count": null,
   "metadata": {},
   "outputs": [],
   "source": []
  }
 ],
 "metadata": {
  "kernelspec": {
   "display_name": "Python 3",
   "language": "python",
   "name": "python3"
  },
  "language_info": {
   "codemirror_mode": {
    "name": "ipython",
    "version": 3
   },
   "file_extension": ".py",
   "mimetype": "text/x-python",
   "name": "python",
   "nbconvert_exporter": "python",
   "pygments_lexer": "ipython3",
   "version": "3.7.3"
  }
 },
 "nbformat": 4,
 "nbformat_minor": 4
}
